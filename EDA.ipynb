{
 "cells": [
  {
   "cell_type": "markdown",
   "metadata": {},
   "source": [
    "# Exploratory Data Analysis"
   ]
  },
  {
   "cell_type": "markdown",
   "metadata": {},
   "source": [
    "## Pick a dataset\n",
    "Starting off exploring two datasets to figure out which will be best to use. \n",
    "\n",
    "The 'rio' dataset is large and ideal in size, however, it was created by scraping craigsllist website monthly for two years, therefore it has many duplicate values. After considering how large the dataset is after dropping those duplicates, we'll reconsider which to model off of."
   ]
  },
  {
   "cell_type": "code",
   "execution_count": 1,
   "metadata": {},
   "outputs": [],
   "source": [
    "import pandas as pd\n",
    "import numpy as np\n",
    "import seaborn as sns"
   ]
  },
  {
   "cell_type": "code",
   "execution_count": 3,
   "metadata": {},
   "outputs": [],
   "source": [
    "argentina = pd.read_csv('data/argentina.csv')"
   ]
  },
  {
   "cell_type": "code",
   "execution_count": 4,
   "metadata": {},
   "outputs": [
    {
     "name": "stderr",
     "output_type": "stream",
     "text": [
      "/Users/cathleenpena1/anaconda3/lib/python3.8/site-packages/IPython/core/interactiveshell.py:3146: DtypeWarning: Columns (1,17,19,20,28,33,34,54,62,63,66,68,69,88) have mixed types.Specify dtype option on import or set low_memory=False.\n",
      "  has_raised = await self.run_ast_nodes(code_ast.body, cell_name,\n"
     ]
    }
   ],
   "source": [
    "rio = pd.read_csv('data/rio_de_janeiro.csv')"
   ]
  },
  {
   "cell_type": "code",
   "execution_count": 5,
   "metadata": {},
   "outputs": [
    {
     "data": {
      "text/html": [
       "<div>\n",
       "<style scoped>\n",
       "    .dataframe tbody tr th:only-of-type {\n",
       "        vertical-align: middle;\n",
       "    }\n",
       "\n",
       "    .dataframe tbody tr th {\n",
       "        vertical-align: top;\n",
       "    }\n",
       "\n",
       "    .dataframe thead th {\n",
       "        text-align: right;\n",
       "    }\n",
       "</style>\n",
       "<table border=\"1\" class=\"dataframe\">\n",
       "  <thead>\n",
       "    <tr style=\"text-align: right;\">\n",
       "      <th></th>\n",
       "      <th>id</th>\n",
       "      <th>ad_type</th>\n",
       "      <th>start_date</th>\n",
       "      <th>end_date</th>\n",
       "      <th>created_on</th>\n",
       "      <th>lat</th>\n",
       "      <th>lon</th>\n",
       "      <th>l1</th>\n",
       "      <th>l2</th>\n",
       "      <th>l3</th>\n",
       "      <th>...</th>\n",
       "      <th>bathrooms</th>\n",
       "      <th>surface_total</th>\n",
       "      <th>surface_covered</th>\n",
       "      <th>price</th>\n",
       "      <th>currency</th>\n",
       "      <th>price_period</th>\n",
       "      <th>title</th>\n",
       "      <th>description</th>\n",
       "      <th>property_type</th>\n",
       "      <th>operation_type</th>\n",
       "    </tr>\n",
       "  </thead>\n",
       "  <tbody>\n",
       "    <tr>\n",
       "      <th>0</th>\n",
       "      <td>wdQ5hWhv8P14T7Sh9g4QCg==</td>\n",
       "      <td>Propiedad</td>\n",
       "      <td>2020-12-25</td>\n",
       "      <td>9999-12-31</td>\n",
       "      <td>2020-12-25</td>\n",
       "      <td>-32.716652</td>\n",
       "      <td>-68.642692</td>\n",
       "      <td>Argentina</td>\n",
       "      <td>Mendoza</td>\n",
       "      <td>NaN</td>\n",
       "      <td>...</td>\n",
       "      <td>NaN</td>\n",
       "      <td>350.0</td>\n",
       "      <td>350.0</td>\n",
       "      <td>NaN</td>\n",
       "      <td>NaN</td>\n",
       "      <td>NaN</td>\n",
       "      <td>Excelentes Lotes Sobre Ruta 34</td>\n",
       "      <td>Corredor Responsable: VICTOR E. MONTIVERO - C....</td>\n",
       "      <td>Lote</td>\n",
       "      <td>Venta</td>\n",
       "    </tr>\n",
       "    <tr>\n",
       "      <th>1</th>\n",
       "      <td>nnMBYZ4RMRY+vm753EtA+g==</td>\n",
       "      <td>Propiedad</td>\n",
       "      <td>2020-12-25</td>\n",
       "      <td>9999-12-31</td>\n",
       "      <td>2020-12-25</td>\n",
       "      <td>-24.797723</td>\n",
       "      <td>-65.467514</td>\n",
       "      <td>Argentina</td>\n",
       "      <td>Salta</td>\n",
       "      <td>NaN</td>\n",
       "      <td>...</td>\n",
       "      <td>NaN</td>\n",
       "      <td>1541.0</td>\n",
       "      <td>1541.0</td>\n",
       "      <td>NaN</td>\n",
       "      <td>NaN</td>\n",
       "      <td>Mensual</td>\n",
       "      <td>TERRENO + VENTA + JARDINES DE SAN LORENZO +150...</td>\n",
       "      <td>Corredor Responsable: Pablo Castañeda - C.U.C....</td>\n",
       "      <td>Lote</td>\n",
       "      <td>Venta</td>\n",
       "    </tr>\n",
       "    <tr>\n",
       "      <th>2</th>\n",
       "      <td>+dnVA1K6JxzL1zAjOEQ1pA==</td>\n",
       "      <td>Propiedad</td>\n",
       "      <td>2020-12-25</td>\n",
       "      <td>2020-12-29</td>\n",
       "      <td>2020-12-25</td>\n",
       "      <td>-34.919373</td>\n",
       "      <td>-58.020591</td>\n",
       "      <td>Argentina</td>\n",
       "      <td>Bs.As. G.B.A. Zona Sur</td>\n",
       "      <td>La Plata</td>\n",
       "      <td>...</td>\n",
       "      <td>NaN</td>\n",
       "      <td>1000.0</td>\n",
       "      <td>1000.0</td>\n",
       "      <td>NaN</td>\n",
       "      <td>NaN</td>\n",
       "      <td>Mensual</td>\n",
       "      <td>Lote en Venta de 1000 m2 en La Plata</td>\n",
       "      <td>Corredor Responsable: Rico Sebastián - Martill...</td>\n",
       "      <td>Lote</td>\n",
       "      <td>Venta</td>\n",
       "    </tr>\n",
       "  </tbody>\n",
       "</table>\n",
       "<p>3 rows × 25 columns</p>\n",
       "</div>"
      ],
      "text/plain": [
       "                         id    ad_type  start_date    end_date  created_on  \\\n",
       "0  wdQ5hWhv8P14T7Sh9g4QCg==  Propiedad  2020-12-25  9999-12-31  2020-12-25   \n",
       "1  nnMBYZ4RMRY+vm753EtA+g==  Propiedad  2020-12-25  9999-12-31  2020-12-25   \n",
       "2  +dnVA1K6JxzL1zAjOEQ1pA==  Propiedad  2020-12-25  2020-12-29  2020-12-25   \n",
       "\n",
       "         lat        lon         l1                      l2        l3  ...  \\\n",
       "0 -32.716652 -68.642692  Argentina                 Mendoza       NaN  ...   \n",
       "1 -24.797723 -65.467514  Argentina                   Salta       NaN  ...   \n",
       "2 -34.919373 -58.020591  Argentina  Bs.As. G.B.A. Zona Sur  La Plata  ...   \n",
       "\n",
       "  bathrooms surface_total  surface_covered  price  currency  price_period  \\\n",
       "0       NaN         350.0            350.0    NaN       NaN           NaN   \n",
       "1       NaN        1541.0           1541.0    NaN       NaN       Mensual   \n",
       "2       NaN        1000.0           1000.0    NaN       NaN       Mensual   \n",
       "\n",
       "                                               title  \\\n",
       "0                     Excelentes Lotes Sobre Ruta 34   \n",
       "1  TERRENO + VENTA + JARDINES DE SAN LORENZO +150...   \n",
       "2               Lote en Venta de 1000 m2 en La Plata   \n",
       "\n",
       "                                         description  property_type  \\\n",
       "0  Corredor Responsable: VICTOR E. MONTIVERO - C....           Lote   \n",
       "1  Corredor Responsable: Pablo Castañeda - C.U.C....           Lote   \n",
       "2  Corredor Responsable: Rico Sebastián - Martill...           Lote   \n",
       "\n",
       "  operation_type  \n",
       "0          Venta  \n",
       "1          Venta  \n",
       "2          Venta  \n",
       "\n",
       "[3 rows x 25 columns]"
      ]
     },
     "metadata": {},
     "output_type": "display_data"
    },
    {
     "data": {
      "text/html": [
       "<div>\n",
       "<style scoped>\n",
       "    .dataframe tbody tr th:only-of-type {\n",
       "        vertical-align: middle;\n",
       "    }\n",
       "\n",
       "    .dataframe tbody tr th {\n",
       "        vertical-align: top;\n",
       "    }\n",
       "\n",
       "    .dataframe thead th {\n",
       "        text-align: right;\n",
       "    }\n",
       "</style>\n",
       "<table border=\"1\" class=\"dataframe\">\n",
       "  <thead>\n",
       "    <tr style=\"text-align: right;\">\n",
       "      <th></th>\n",
       "      <th>Unnamed: 0</th>\n",
       "      <th>id</th>\n",
       "      <th>listing_url</th>\n",
       "      <th>scrape_id</th>\n",
       "      <th>last_scraped</th>\n",
       "      <th>name</th>\n",
       "      <th>summary</th>\n",
       "      <th>space</th>\n",
       "      <th>description</th>\n",
       "      <th>experiences_offered</th>\n",
       "      <th>...</th>\n",
       "      <th>minimum_minimum_nights</th>\n",
       "      <th>maximum_minimum_nights</th>\n",
       "      <th>minimum_maximum_nights</th>\n",
       "      <th>maximum_maximum_nights</th>\n",
       "      <th>minimum_nights_avg_ntm</th>\n",
       "      <th>maximum_nights_avg_ntm</th>\n",
       "      <th>number_of_reviews_ltm</th>\n",
       "      <th>calculated_host_listings_count_entire_homes</th>\n",
       "      <th>calculated_host_listings_count_private_rooms</th>\n",
       "      <th>calculated_host_listings_count_shared_rooms</th>\n",
       "    </tr>\n",
       "  </thead>\n",
       "  <tbody>\n",
       "    <tr>\n",
       "      <th>0</th>\n",
       "      <td>0.0</td>\n",
       "      <td>17878</td>\n",
       "      <td>https://www.airbnb.com/rooms/17878</td>\n",
       "      <td>2.018082e+13</td>\n",
       "      <td>2018-08-16</td>\n",
       "      <td>Very Nice 2Br - Copacabana - WiFi</td>\n",
       "      <td>Please note that special rates apply for New Y...</td>\n",
       "      <td>- large balcony which looks out on pedestrian ...</td>\n",
       "      <td>Please note that special rates apply for New Y...</td>\n",
       "      <td>none</td>\n",
       "      <td>...</td>\n",
       "      <td>NaN</td>\n",
       "      <td>NaN</td>\n",
       "      <td>NaN</td>\n",
       "      <td>NaN</td>\n",
       "      <td>NaN</td>\n",
       "      <td>NaN</td>\n",
       "      <td>NaN</td>\n",
       "      <td>NaN</td>\n",
       "      <td>NaN</td>\n",
       "      <td>NaN</td>\n",
       "    </tr>\n",
       "    <tr>\n",
       "      <th>1</th>\n",
       "      <td>1.0</td>\n",
       "      <td>24480</td>\n",
       "      <td>https://www.airbnb.com/rooms/24480</td>\n",
       "      <td>2.018082e+13</td>\n",
       "      <td>2018-08-16</td>\n",
       "      <td>Nice and cozy near Ipanema Beach</td>\n",
       "      <td>My studio is located in the best  of Ipanema. ...</td>\n",
       "      <td>The studio is located at Vinicius de Moraes St...</td>\n",
       "      <td>My studio is located in the best  of Ipanema. ...</td>\n",
       "      <td>none</td>\n",
       "      <td>...</td>\n",
       "      <td>NaN</td>\n",
       "      <td>NaN</td>\n",
       "      <td>NaN</td>\n",
       "      <td>NaN</td>\n",
       "      <td>NaN</td>\n",
       "      <td>NaN</td>\n",
       "      <td>NaN</td>\n",
       "      <td>NaN</td>\n",
       "      <td>NaN</td>\n",
       "      <td>NaN</td>\n",
       "    </tr>\n",
       "    <tr>\n",
       "      <th>2</th>\n",
       "      <td>2.0</td>\n",
       "      <td>25026</td>\n",
       "      <td>https://www.airbnb.com/rooms/25026</td>\n",
       "      <td>2.018082e+13</td>\n",
       "      <td>2018-08-16</td>\n",
       "      <td>Beautiful Modern Decorated Studio in Copa</td>\n",
       "      <td>Our apartment is a little gem, everyone loves ...</td>\n",
       "      <td>This newly renovated studio (last renovations ...</td>\n",
       "      <td>Our apartment is a little gem, everyone loves ...</td>\n",
       "      <td>none</td>\n",
       "      <td>...</td>\n",
       "      <td>NaN</td>\n",
       "      <td>NaN</td>\n",
       "      <td>NaN</td>\n",
       "      <td>NaN</td>\n",
       "      <td>NaN</td>\n",
       "      <td>NaN</td>\n",
       "      <td>NaN</td>\n",
       "      <td>NaN</td>\n",
       "      <td>NaN</td>\n",
       "      <td>NaN</td>\n",
       "    </tr>\n",
       "  </tbody>\n",
       "</table>\n",
       "<p>3 rows × 108 columns</p>\n",
       "</div>"
      ],
      "text/plain": [
       "   Unnamed: 0     id                         listing_url     scrape_id  \\\n",
       "0         0.0  17878  https://www.airbnb.com/rooms/17878  2.018082e+13   \n",
       "1         1.0  24480  https://www.airbnb.com/rooms/24480  2.018082e+13   \n",
       "2         2.0  25026  https://www.airbnb.com/rooms/25026  2.018082e+13   \n",
       "\n",
       "  last_scraped                                       name  \\\n",
       "0   2018-08-16          Very Nice 2Br - Copacabana - WiFi   \n",
       "1   2018-08-16           Nice and cozy near Ipanema Beach   \n",
       "2   2018-08-16  Beautiful Modern Decorated Studio in Copa   \n",
       "\n",
       "                                             summary  \\\n",
       "0  Please note that special rates apply for New Y...   \n",
       "1  My studio is located in the best  of Ipanema. ...   \n",
       "2  Our apartment is a little gem, everyone loves ...   \n",
       "\n",
       "                                               space  \\\n",
       "0  - large balcony which looks out on pedestrian ...   \n",
       "1  The studio is located at Vinicius de Moraes St...   \n",
       "2  This newly renovated studio (last renovations ...   \n",
       "\n",
       "                                         description experiences_offered  ...  \\\n",
       "0  Please note that special rates apply for New Y...                none  ...   \n",
       "1  My studio is located in the best  of Ipanema. ...                none  ...   \n",
       "2  Our apartment is a little gem, everyone loves ...                none  ...   \n",
       "\n",
       "  minimum_minimum_nights maximum_minimum_nights minimum_maximum_nights  \\\n",
       "0                    NaN                    NaN                    NaN   \n",
       "1                    NaN                    NaN                    NaN   \n",
       "2                    NaN                    NaN                    NaN   \n",
       "\n",
       "  maximum_maximum_nights minimum_nights_avg_ntm maximum_nights_avg_ntm  \\\n",
       "0                    NaN                    NaN                    NaN   \n",
       "1                    NaN                    NaN                    NaN   \n",
       "2                    NaN                    NaN                    NaN   \n",
       "\n",
       "   number_of_reviews_ltm calculated_host_listings_count_entire_homes  \\\n",
       "0                    NaN                                         NaN   \n",
       "1                    NaN                                         NaN   \n",
       "2                    NaN                                         NaN   \n",
       "\n",
       "  calculated_host_listings_count_private_rooms  \\\n",
       "0                                          NaN   \n",
       "1                                          NaN   \n",
       "2                                          NaN   \n",
       "\n",
       "  calculated_host_listings_count_shared_rooms  \n",
       "0                                         NaN  \n",
       "1                                         NaN  \n",
       "2                                         NaN  \n",
       "\n",
       "[3 rows x 108 columns]"
      ]
     },
     "metadata": {},
     "output_type": "display_data"
    }
   ],
   "source": [
    "display(argentina.head(3))\n",
    "display(rio.head(3))"
   ]
  },
  {
   "cell_type": "code",
   "execution_count": 9,
   "metadata": {},
   "outputs": [
    {
     "name": "stdout",
     "output_type": "stream",
     "text": [
      "Number of unique listings: \t 73903\n",
      "Number of observations: \t 784122\n"
     ]
    }
   ],
   "source": [
    "print('Number of unique listings: \\t', rio.id.nunique())\n",
    "print('Number of observations: \\t', len(rio))"
   ]
  },
  {
   "cell_type": "code",
   "execution_count": 12,
   "metadata": {},
   "outputs": [],
   "source": [
    "rio.drop('Unnamed: 0', axis=1, inplace=True)"
   ]
  },
  {
   "cell_type": "code",
   "execution_count": 14,
   "metadata": {},
   "outputs": [
    {
     "data": {
      "text/plain": [
       "73903"
      ]
     },
     "execution_count": 14,
     "metadata": {},
     "output_type": "execute_result"
    }
   ],
   "source": [
    "rio = rio.drop_duplicates(subset='id')\n",
    "len(rio)"
   ]
  },
  {
   "cell_type": "code",
   "execution_count": 15,
   "metadata": {},
   "outputs": [],
   "source": [
    "rio.to_csv('data/rio.csv')"
   ]
  },
  {
   "cell_type": "markdown",
   "metadata": {},
   "source": [
    "After downsizing the rio dataset, we went from 2.54 GB to 203 MB therefore, I've decided to go with the 'argentina' dataset."
   ]
  },
  {
   "cell_type": "markdown",
   "metadata": {},
   "source": [
    "## Argentina EDA"
   ]
  },
  {
   "cell_type": "markdown",
   "metadata": {},
   "source": [
    "### Check for duplicates, null values,  and type conversion"
   ]
  },
  {
   "cell_type": "code",
   "execution_count": 19,
   "metadata": {},
   "outputs": [
    {
     "data": {
      "text/plain": [
       "(1000000, 1000000)"
      ]
     },
     "execution_count": 19,
     "metadata": {},
     "output_type": "execute_result"
    }
   ],
   "source": [
    "argentina.id.nunique(), len(argentina)"
   ]
  },
  {
   "cell_type": "code",
   "execution_count": 27,
   "metadata": {},
   "outputs": [
    {
     "data": {
      "text/plain": [
       "(id                  object\n",
       " ad_type             object\n",
       " start_date          object\n",
       " end_date            object\n",
       " created_on          object\n",
       " lat                float64\n",
       " lon                float64\n",
       " l1                  object\n",
       " l2                  object\n",
       " l3                  object\n",
       " l4                  object\n",
       " l5                  object\n",
       " l6                 float64\n",
       " rooms              float64\n",
       " bedrooms           float64\n",
       " bathrooms          float64\n",
       " surface_total      float64\n",
       " surface_covered    float64\n",
       " price              float64\n",
       " currency            object\n",
       " price_period        object\n",
       " title               object\n",
       " description         object\n",
       " property_type       object\n",
       " operation_type      object\n",
       " dtype: object,\n",
       " 25)"
      ]
     },
     "execution_count": 27,
     "metadata": {},
     "output_type": "execute_result"
    }
   ],
   "source": [
    "argentina.dtypes, len(argentina.columns)"
   ]
  },
  {
   "cell_type": "code",
   "execution_count": 29,
   "metadata": {},
   "outputs": [
    {
     "data": {
      "text/html": [
       "<div>\n",
       "<style scoped>\n",
       "    .dataframe tbody tr th:only-of-type {\n",
       "        vertical-align: middle;\n",
       "    }\n",
       "\n",
       "    .dataframe tbody tr th {\n",
       "        vertical-align: top;\n",
       "    }\n",
       "\n",
       "    .dataframe thead th {\n",
       "        text-align: right;\n",
       "    }\n",
       "</style>\n",
       "<table border=\"1\" class=\"dataframe\">\n",
       "  <thead>\n",
       "    <tr style=\"text-align: right;\">\n",
       "      <th></th>\n",
       "      <th>id</th>\n",
       "      <th>ad_type</th>\n",
       "      <th>start_date</th>\n",
       "      <th>end_date</th>\n",
       "      <th>created_on</th>\n",
       "      <th>lat</th>\n",
       "      <th>lon</th>\n",
       "      <th>l1</th>\n",
       "      <th>l2</th>\n",
       "      <th>l3</th>\n",
       "      <th>l4</th>\n",
       "      <th>l5</th>\n",
       "    </tr>\n",
       "  </thead>\n",
       "  <tbody>\n",
       "    <tr>\n",
       "      <th>0</th>\n",
       "      <td>wdQ5hWhv8P14T7Sh9g4QCg==</td>\n",
       "      <td>Propiedad</td>\n",
       "      <td>2020-12-25</td>\n",
       "      <td>9999-12-31</td>\n",
       "      <td>2020-12-25</td>\n",
       "      <td>-32.716652</td>\n",
       "      <td>-68.642692</td>\n",
       "      <td>Argentina</td>\n",
       "      <td>Mendoza</td>\n",
       "      <td>NaN</td>\n",
       "      <td>NaN</td>\n",
       "      <td>NaN</td>\n",
       "    </tr>\n",
       "    <tr>\n",
       "      <th>1</th>\n",
       "      <td>nnMBYZ4RMRY+vm753EtA+g==</td>\n",
       "      <td>Propiedad</td>\n",
       "      <td>2020-12-25</td>\n",
       "      <td>9999-12-31</td>\n",
       "      <td>2020-12-25</td>\n",
       "      <td>-24.797723</td>\n",
       "      <td>-65.467514</td>\n",
       "      <td>Argentina</td>\n",
       "      <td>Salta</td>\n",
       "      <td>NaN</td>\n",
       "      <td>NaN</td>\n",
       "      <td>NaN</td>\n",
       "    </tr>\n",
       "    <tr>\n",
       "      <th>2</th>\n",
       "      <td>+dnVA1K6JxzL1zAjOEQ1pA==</td>\n",
       "      <td>Propiedad</td>\n",
       "      <td>2020-12-25</td>\n",
       "      <td>2020-12-29</td>\n",
       "      <td>2020-12-25</td>\n",
       "      <td>-34.919373</td>\n",
       "      <td>-58.020591</td>\n",
       "      <td>Argentina</td>\n",
       "      <td>Bs.As. G.B.A. Zona Sur</td>\n",
       "      <td>La Plata</td>\n",
       "      <td>La Plata</td>\n",
       "      <td>NaN</td>\n",
       "    </tr>\n",
       "  </tbody>\n",
       "</table>\n",
       "</div>"
      ],
      "text/plain": [
       "                         id    ad_type  start_date    end_date  created_on  \\\n",
       "0  wdQ5hWhv8P14T7Sh9g4QCg==  Propiedad  2020-12-25  9999-12-31  2020-12-25   \n",
       "1  nnMBYZ4RMRY+vm753EtA+g==  Propiedad  2020-12-25  9999-12-31  2020-12-25   \n",
       "2  +dnVA1K6JxzL1zAjOEQ1pA==  Propiedad  2020-12-25  2020-12-29  2020-12-25   \n",
       "\n",
       "         lat        lon         l1                      l2        l3  \\\n",
       "0 -32.716652 -68.642692  Argentina                 Mendoza       NaN   \n",
       "1 -24.797723 -65.467514  Argentina                   Salta       NaN   \n",
       "2 -34.919373 -58.020591  Argentina  Bs.As. G.B.A. Zona Sur  La Plata   \n",
       "\n",
       "         l4   l5  \n",
       "0       NaN  NaN  \n",
       "1       NaN  NaN  \n",
       "2  La Plata  NaN  "
      ]
     },
     "metadata": {},
     "output_type": "display_data"
    },
    {
     "data": {
      "text/html": [
       "<div>\n",
       "<style scoped>\n",
       "    .dataframe tbody tr th:only-of-type {\n",
       "        vertical-align: middle;\n",
       "    }\n",
       "\n",
       "    .dataframe tbody tr th {\n",
       "        vertical-align: top;\n",
       "    }\n",
       "\n",
       "    .dataframe thead th {\n",
       "        text-align: right;\n",
       "    }\n",
       "</style>\n",
       "<table border=\"1\" class=\"dataframe\">\n",
       "  <thead>\n",
       "    <tr style=\"text-align: right;\">\n",
       "      <th></th>\n",
       "      <th>l6</th>\n",
       "      <th>rooms</th>\n",
       "      <th>bedrooms</th>\n",
       "      <th>bathrooms</th>\n",
       "      <th>surface_total</th>\n",
       "      <th>surface_covered</th>\n",
       "      <th>price</th>\n",
       "      <th>currency</th>\n",
       "      <th>price_period</th>\n",
       "      <th>title</th>\n",
       "      <th>description</th>\n",
       "      <th>property_type</th>\n",
       "      <th>operation_type</th>\n",
       "    </tr>\n",
       "  </thead>\n",
       "  <tbody>\n",
       "    <tr>\n",
       "      <th>0</th>\n",
       "      <td>NaN</td>\n",
       "      <td>NaN</td>\n",
       "      <td>NaN</td>\n",
       "      <td>NaN</td>\n",
       "      <td>350.0</td>\n",
       "      <td>350.0</td>\n",
       "      <td>NaN</td>\n",
       "      <td>NaN</td>\n",
       "      <td>NaN</td>\n",
       "      <td>Excelentes Lotes Sobre Ruta 34</td>\n",
       "      <td>Corredor Responsable: VICTOR E. MONTIVERO - C....</td>\n",
       "      <td>Lote</td>\n",
       "      <td>Venta</td>\n",
       "    </tr>\n",
       "    <tr>\n",
       "      <th>1</th>\n",
       "      <td>NaN</td>\n",
       "      <td>NaN</td>\n",
       "      <td>NaN</td>\n",
       "      <td>NaN</td>\n",
       "      <td>1541.0</td>\n",
       "      <td>1541.0</td>\n",
       "      <td>NaN</td>\n",
       "      <td>NaN</td>\n",
       "      <td>Mensual</td>\n",
       "      <td>TERRENO + VENTA + JARDINES DE SAN LORENZO +150...</td>\n",
       "      <td>Corredor Responsable: Pablo Castañeda - C.U.C....</td>\n",
       "      <td>Lote</td>\n",
       "      <td>Venta</td>\n",
       "    </tr>\n",
       "    <tr>\n",
       "      <th>2</th>\n",
       "      <td>NaN</td>\n",
       "      <td>NaN</td>\n",
       "      <td>NaN</td>\n",
       "      <td>NaN</td>\n",
       "      <td>1000.0</td>\n",
       "      <td>1000.0</td>\n",
       "      <td>NaN</td>\n",
       "      <td>NaN</td>\n",
       "      <td>Mensual</td>\n",
       "      <td>Lote en Venta de 1000 m2 en La Plata</td>\n",
       "      <td>Corredor Responsable: Rico Sebastián - Martill...</td>\n",
       "      <td>Lote</td>\n",
       "      <td>Venta</td>\n",
       "    </tr>\n",
       "  </tbody>\n",
       "</table>\n",
       "</div>"
      ],
      "text/plain": [
       "   l6  rooms  bedrooms  bathrooms  surface_total  surface_covered  price  \\\n",
       "0 NaN    NaN       NaN        NaN          350.0            350.0    NaN   \n",
       "1 NaN    NaN       NaN        NaN         1541.0           1541.0    NaN   \n",
       "2 NaN    NaN       NaN        NaN         1000.0           1000.0    NaN   \n",
       "\n",
       "  currency price_period                                              title  \\\n",
       "0      NaN          NaN                     Excelentes Lotes Sobre Ruta 34   \n",
       "1      NaN      Mensual  TERRENO + VENTA + JARDINES DE SAN LORENZO +150...   \n",
       "2      NaN      Mensual               Lote en Venta de 1000 m2 en La Plata   \n",
       "\n",
       "                                         description property_type  \\\n",
       "0  Corredor Responsable: VICTOR E. MONTIVERO - C....          Lote   \n",
       "1  Corredor Responsable: Pablo Castañeda - C.U.C....          Lote   \n",
       "2  Corredor Responsable: Rico Sebastián - Martill...          Lote   \n",
       "\n",
       "  operation_type  \n",
       "0          Venta  \n",
       "1          Venta  \n",
       "2          Venta  "
      ]
     },
     "metadata": {},
     "output_type": "display_data"
    }
   ],
   "source": [
    "display(argentina.iloc[:,:12].head(3))\n",
    "display(argentina.iloc[:,12:].head(3))"
   ]
  },
  {
   "cell_type": "code",
   "execution_count": 33,
   "metadata": {},
   "outputs": [
    {
     "data": {
      "text/html": [
       "<div>\n",
       "<style scoped>\n",
       "    .dataframe tbody tr th:only-of-type {\n",
       "        vertical-align: middle;\n",
       "    }\n",
       "\n",
       "    .dataframe tbody tr th {\n",
       "        vertical-align: top;\n",
       "    }\n",
       "\n",
       "    .dataframe thead th {\n",
       "        text-align: right;\n",
       "    }\n",
       "</style>\n",
       "<table border=\"1\" class=\"dataframe\">\n",
       "  <thead>\n",
       "    <tr style=\"text-align: right;\">\n",
       "      <th></th>\n",
       "      <th>Percent Null</th>\n",
       "    </tr>\n",
       "  </thead>\n",
       "  <tbody>\n",
       "    <tr>\n",
       "      <th>id</th>\n",
       "      <td>0.0000</td>\n",
       "    </tr>\n",
       "    <tr>\n",
       "      <th>ad_type</th>\n",
       "      <td>0.0000</td>\n",
       "    </tr>\n",
       "    <tr>\n",
       "      <th>start_date</th>\n",
       "      <td>0.0000</td>\n",
       "    </tr>\n",
       "    <tr>\n",
       "      <th>end_date</th>\n",
       "      <td>0.0000</td>\n",
       "    </tr>\n",
       "    <tr>\n",
       "      <th>created_on</th>\n",
       "      <td>0.0000</td>\n",
       "    </tr>\n",
       "    <tr>\n",
       "      <th>lat</th>\n",
       "      <td>15.0811</td>\n",
       "    </tr>\n",
       "    <tr>\n",
       "      <th>lon</th>\n",
       "      <td>15.1745</td>\n",
       "    </tr>\n",
       "    <tr>\n",
       "      <th>l1</th>\n",
       "      <td>0.0000</td>\n",
       "    </tr>\n",
       "    <tr>\n",
       "      <th>l2</th>\n",
       "      <td>0.0000</td>\n",
       "    </tr>\n",
       "    <tr>\n",
       "      <th>l3</th>\n",
       "      <td>5.3327</td>\n",
       "    </tr>\n",
       "    <tr>\n",
       "      <th>l4</th>\n",
       "      <td>76.0504</td>\n",
       "    </tr>\n",
       "    <tr>\n",
       "      <th>l5</th>\n",
       "      <td>99.4999</td>\n",
       "    </tr>\n",
       "    <tr>\n",
       "      <th>l6</th>\n",
       "      <td>100.0000</td>\n",
       "    </tr>\n",
       "    <tr>\n",
       "      <th>rooms</th>\n",
       "      <td>47.3577</td>\n",
       "    </tr>\n",
       "    <tr>\n",
       "      <th>bedrooms</th>\n",
       "      <td>53.3787</td>\n",
       "    </tr>\n",
       "    <tr>\n",
       "      <th>bathrooms</th>\n",
       "      <td>22.3267</td>\n",
       "    </tr>\n",
       "    <tr>\n",
       "      <th>surface_total</th>\n",
       "      <td>62.0499</td>\n",
       "    </tr>\n",
       "    <tr>\n",
       "      <th>surface_covered</th>\n",
       "      <td>61.8549</td>\n",
       "    </tr>\n",
       "    <tr>\n",
       "      <th>price</th>\n",
       "      <td>3.6902</td>\n",
       "    </tr>\n",
       "    <tr>\n",
       "      <th>currency</th>\n",
       "      <td>3.8281</td>\n",
       "    </tr>\n",
       "    <tr>\n",
       "      <th>price_period</th>\n",
       "      <td>63.6985</td>\n",
       "    </tr>\n",
       "    <tr>\n",
       "      <th>title</th>\n",
       "      <td>0.0000</td>\n",
       "    </tr>\n",
       "    <tr>\n",
       "      <th>description</th>\n",
       "      <td>0.0018</td>\n",
       "    </tr>\n",
       "    <tr>\n",
       "      <th>property_type</th>\n",
       "      <td>0.0000</td>\n",
       "    </tr>\n",
       "    <tr>\n",
       "      <th>operation_type</th>\n",
       "      <td>0.0000</td>\n",
       "    </tr>\n",
       "  </tbody>\n",
       "</table>\n",
       "</div>"
      ],
      "text/plain": [
       "                 Percent Null\n",
       "id                     0.0000\n",
       "ad_type                0.0000\n",
       "start_date             0.0000\n",
       "end_date               0.0000\n",
       "created_on             0.0000\n",
       "lat                   15.0811\n",
       "lon                   15.1745\n",
       "l1                     0.0000\n",
       "l2                     0.0000\n",
       "l3                     5.3327\n",
       "l4                    76.0504\n",
       "l5                    99.4999\n",
       "l6                   100.0000\n",
       "rooms                 47.3577\n",
       "bedrooms              53.3787\n",
       "bathrooms             22.3267\n",
       "surface_total         62.0499\n",
       "surface_covered       61.8549\n",
       "price                  3.6902\n",
       "currency               3.8281\n",
       "price_period          63.6985\n",
       "title                  0.0000\n",
       "description            0.0018\n",
       "property_type          0.0000\n",
       "operation_type         0.0000"
      ]
     },
     "execution_count": 33,
     "metadata": {},
     "output_type": "execute_result"
    }
   ],
   "source": [
    "perc_null = argentina.isnull().sum() / len(argentina) * 100\n",
    "perc_null = perc_null.to_frame()\n",
    "perc_null.columns = ['Percent Null']\n",
    "perc_null"
   ]
  },
  {
   "cell_type": "markdown",
   "metadata": {},
   "source": [
    "Drop Columns with 60% ? or more data missing\n",
    "At what threshold should I drop?\n",
    "How to deal with columns such as 'title' and 'description'"
   ]
  },
  {
   "cell_type": "code",
   "execution_count": 35,
   "metadata": {},
   "outputs": [
    {
     "name": "stdout",
     "output_type": "stream",
     "text": [
      "Number of columns: \t 22\n"
     ]
    }
   ],
   "source": [
    "argentina.drop(['l4', 'l5', 'l6'], axis=1, inplace=True)\n",
    "print('Number of columns: \\t', len(argentina.columns))"
   ]
  },
  {
   "cell_type": "code",
   "execution_count": 37,
   "metadata": {},
   "outputs": [
    {
     "data": {
      "text/plain": [
       "Propiedad    1000000\n",
       "Name: ad_type, dtype: int64"
      ]
     },
     "execution_count": 37,
     "metadata": {},
     "output_type": "execute_result"
    }
   ],
   "source": [
    "argentina.ad_type.value_counts()"
   ]
  },
  {
   "cell_type": "code",
   "execution_count": 39,
   "metadata": {},
   "outputs": [
    {
     "data": {
      "text/plain": [
       "Argentina         985725\n",
       "Uruguay            13471\n",
       "Estados Unidos       705\n",
       "Brasil                99\n",
       "Name: l1, dtype: int64"
      ]
     },
     "execution_count": 39,
     "metadata": {},
     "output_type": "execute_result"
    }
   ],
   "source": [
    "argentina.l1.value_counts()"
   ]
  },
  {
   "cell_type": "code",
   "execution_count": 40,
   "metadata": {},
   "outputs": [
    {
     "data": {
      "text/plain": [
       "Capital Federal                 242291\n",
       "Buenos Aires Costa Atlántica    176721\n",
       "Bs.As. G.B.A. Zona Norte        137586\n",
       "Bs.As. G.B.A. Zona Sur          124074\n",
       "Santa Fe                         86710\n",
       "Bs.As. G.B.A. Zona Oeste         75683\n",
       "Córdoba                          67771\n",
       "Buenos Aires Interior            22634\n",
       "Neuquén                          10528\n",
       "Mendoza                           8501\n",
       "Maldonado                         7280\n",
       "Entre Ríos                        5497\n",
       "Misiones                          5137\n",
       "Río Negro                         4993\n",
       "Tucumán                           4959\n",
       "Montevideo                        4345\n",
       "Salta                             3276\n",
       "San Luis                          1969\n",
       "La Pampa                          1269\n",
       "Colonia                           1180\n",
       "San Juan                          1064\n",
       "Chaco                             1040\n",
       "Corrientes                        1001\n",
       "Chubut                             920\n",
       "Jujuy                              555\n",
       "Canelones                          519\n",
       "Florida                            386\n",
       "Catamarca                          338\n",
       "Tierra Del Fuego                   334\n",
       "Santa Cruz                         319\n",
       "La Rioja                           280\n",
       "Santiago Del Estero                204\n",
       "Michigan                           173\n",
       "Rocha                              147\n",
       "Miami                              103\n",
       "Formosa                             71\n",
       "Santa Catarina                      55\n",
       "Maryland                            30\n",
       "Rio Grande do Norte                 19\n",
       "São Paulo                           15\n",
       "Pennsylvania                        12\n",
       "Rio de Janeiro                      10\n",
       "New York                             1\n",
       "Name: l2, dtype: int64"
      ]
     },
     "execution_count": 40,
     "metadata": {},
     "output_type": "execute_result"
    }
   ],
   "source": [
    "argentina.l2.value_counts()"
   ]
  },
  {
   "cell_type": "code",
   "execution_count": 41,
   "metadata": {},
   "outputs": [
    {
     "data": {
      "text/plain": [
       "Mar del Plata       153515\n",
       "Rosario              63632\n",
       "Tigre                42507\n",
       "La Plata             38073\n",
       "Palermo              35385\n",
       "                     ...  \n",
       "Colonia San José         1\n",
       "La Consulta              1\n",
       "Alto Río Senguer         1\n",
       "Trapiche                 1\n",
       "Aguará Grande            1\n",
       "Name: l3, Length: 1301, dtype: int64"
      ]
     },
     "execution_count": 41,
     "metadata": {},
     "output_type": "execute_result"
    }
   ],
   "source": [
    "argentina.l3.value_counts()"
   ]
  },
  {
   "cell_type": "code",
   "execution_count": 42,
   "metadata": {},
   "outputs": [
    {
     "data": {
      "text/plain": [
       "USD    757617\n",
       "ARS    202179\n",
       "UYU      1692\n",
       "PEN       231\n",
       "Name: currency, dtype: int64"
      ]
     },
     "execution_count": 42,
     "metadata": {},
     "output_type": "execute_result"
    }
   ],
   "source": [
    "argentina.currency.value_counts()"
   ]
  },
  {
   "cell_type": "code",
   "execution_count": 43,
   "metadata": {},
   "outputs": [
    {
     "data": {
      "text/plain": [
       "Mensual    362978\n",
       "Semanal        29\n",
       "Diario          8\n",
       "Name: price_period, dtype: int64"
      ]
     },
     "execution_count": 43,
     "metadata": {},
     "output_type": "execute_result"
    }
   ],
   "source": [
    "argentina.price_period.value_counts()"
   ]
  },
  {
   "cell_type": "code",
   "execution_count": 44,
   "metadata": {},
   "outputs": [
    {
     "data": {
      "text/plain": [
       "Departamento       373376\n",
       "Otro               239720\n",
       "Casa               190023\n",
       "Lote                83792\n",
       "PH                  35217\n",
       "Local comercial     34493\n",
       "Oficina             26365\n",
       "Cochera              8908\n",
       "Depósito             6502\n",
       "Casa de campo        1604\n",
       "Name: property_type, dtype: int64"
      ]
     },
     "execution_count": 44,
     "metadata": {},
     "output_type": "execute_result"
    }
   ],
   "source": [
    "argentina.property_type.value_counts()"
   ]
  },
  {
   "cell_type": "code",
   "execution_count": 45,
   "metadata": {},
   "outputs": [
    {
     "data": {
      "text/plain": [
       "Venta                782122\n",
       "Alquiler             183927\n",
       "Alquiler temporal     33951\n",
       "Name: operation_type, dtype: int64"
      ]
     },
     "execution_count": 45,
     "metadata": {},
     "output_type": "execute_result"
    }
   ],
   "source": [
    "argentina.operation_type.value_counts()"
   ]
  },
  {
   "cell_type": "code",
   "execution_count": 46,
   "metadata": {},
   "outputs": [
    {
     "data": {
      "text/html": [
       "<div>\n",
       "<style scoped>\n",
       "    .dataframe tbody tr th:only-of-type {\n",
       "        vertical-align: middle;\n",
       "    }\n",
       "\n",
       "    .dataframe tbody tr th {\n",
       "        vertical-align: top;\n",
       "    }\n",
       "\n",
       "    .dataframe thead th {\n",
       "        text-align: right;\n",
       "    }\n",
       "</style>\n",
       "<table border=\"1\" class=\"dataframe\">\n",
       "  <thead>\n",
       "    <tr style=\"text-align: right;\">\n",
       "      <th></th>\n",
       "      <th>lat</th>\n",
       "      <th>lon</th>\n",
       "      <th>rooms</th>\n",
       "      <th>bedrooms</th>\n",
       "      <th>bathrooms</th>\n",
       "      <th>surface_total</th>\n",
       "      <th>surface_covered</th>\n",
       "      <th>price</th>\n",
       "    </tr>\n",
       "  </thead>\n",
       "  <tbody>\n",
       "    <tr>\n",
       "      <th>count</th>\n",
       "      <td>849189.000000</td>\n",
       "      <td>848255.000000</td>\n",
       "      <td>526423.000000</td>\n",
       "      <td>466213.000000</td>\n",
       "      <td>776733.000000</td>\n",
       "      <td>379501.000000</td>\n",
       "      <td>3.814510e+05</td>\n",
       "      <td>9.630980e+05</td>\n",
       "    </tr>\n",
       "    <tr>\n",
       "      <th>mean</th>\n",
       "      <td>-34.790048</td>\n",
       "      <td>-59.256701</td>\n",
       "      <td>2.861982</td>\n",
       "      <td>2.104534</td>\n",
       "      <td>1.707951</td>\n",
       "      <td>514.889481</td>\n",
       "      <td>6.123054e+03</td>\n",
       "      <td>3.285948e+05</td>\n",
       "    </tr>\n",
       "    <tr>\n",
       "      <th>std</th>\n",
       "      <td>2.957449</td>\n",
       "      <td>2.638051</td>\n",
       "      <td>1.689448</td>\n",
       "      <td>2.399252</td>\n",
       "      <td>1.080390</td>\n",
       "      <td>4372.302647</td>\n",
       "      <td>3.477565e+06</td>\n",
       "      <td>1.192329e+07</td>\n",
       "    </tr>\n",
       "    <tr>\n",
       "      <th>min</th>\n",
       "      <td>-54.841484</td>\n",
       "      <td>-119.699390</td>\n",
       "      <td>1.000000</td>\n",
       "      <td>-16.000000</td>\n",
       "      <td>1.000000</td>\n",
       "      <td>-136.000000</td>\n",
       "      <td>-1.300000e+02</td>\n",
       "      <td>0.000000e+00</td>\n",
       "    </tr>\n",
       "    <tr>\n",
       "      <th>25%</th>\n",
       "      <td>-34.919952</td>\n",
       "      <td>-58.746835</td>\n",
       "      <td>2.000000</td>\n",
       "      <td>1.000000</td>\n",
       "      <td>1.000000</td>\n",
       "      <td>50.000000</td>\n",
       "      <td>4.500000e+01</td>\n",
       "      <td>4.200000e+04</td>\n",
       "    </tr>\n",
       "    <tr>\n",
       "      <th>50%</th>\n",
       "      <td>-34.611445</td>\n",
       "      <td>-58.448442</td>\n",
       "      <td>3.000000</td>\n",
       "      <td>2.000000</td>\n",
       "      <td>1.000000</td>\n",
       "      <td>95.000000</td>\n",
       "      <td>7.600000e+01</td>\n",
       "      <td>9.800000e+04</td>\n",
       "    </tr>\n",
       "    <tr>\n",
       "      <th>75%</th>\n",
       "      <td>-34.456179</td>\n",
       "      <td>-58.172063</td>\n",
       "      <td>4.000000</td>\n",
       "      <td>3.000000</td>\n",
       "      <td>2.000000</td>\n",
       "      <td>255.000000</td>\n",
       "      <td>1.640000e+02</td>\n",
       "      <td>2.100000e+05</td>\n",
       "    </tr>\n",
       "    <tr>\n",
       "      <th>max</th>\n",
       "      <td>85.051129</td>\n",
       "      <td>-1.981231</td>\n",
       "      <td>40.000000</td>\n",
       "      <td>900.000000</td>\n",
       "      <td>20.000000</td>\n",
       "      <td>200000.000000</td>\n",
       "      <td>2.147484e+09</td>\n",
       "      <td>1.000000e+10</td>\n",
       "    </tr>\n",
       "  </tbody>\n",
       "</table>\n",
       "</div>"
      ],
      "text/plain": [
       "                 lat            lon          rooms       bedrooms  \\\n",
       "count  849189.000000  848255.000000  526423.000000  466213.000000   \n",
       "mean      -34.790048     -59.256701       2.861982       2.104534   \n",
       "std         2.957449       2.638051       1.689448       2.399252   \n",
       "min       -54.841484    -119.699390       1.000000     -16.000000   \n",
       "25%       -34.919952     -58.746835       2.000000       1.000000   \n",
       "50%       -34.611445     -58.448442       3.000000       2.000000   \n",
       "75%       -34.456179     -58.172063       4.000000       3.000000   \n",
       "max        85.051129      -1.981231      40.000000     900.000000   \n",
       "\n",
       "           bathrooms  surface_total  surface_covered         price  \n",
       "count  776733.000000  379501.000000     3.814510e+05  9.630980e+05  \n",
       "mean        1.707951     514.889481     6.123054e+03  3.285948e+05  \n",
       "std         1.080390    4372.302647     3.477565e+06  1.192329e+07  \n",
       "min         1.000000    -136.000000    -1.300000e+02  0.000000e+00  \n",
       "25%         1.000000      50.000000     4.500000e+01  4.200000e+04  \n",
       "50%         1.000000      95.000000     7.600000e+01  9.800000e+04  \n",
       "75%         2.000000     255.000000     1.640000e+02  2.100000e+05  \n",
       "max        20.000000  200000.000000     2.147484e+09  1.000000e+10  "
      ]
     },
     "execution_count": 46,
     "metadata": {},
     "output_type": "execute_result"
    }
   ],
   "source": [
    "argentina.describe()"
   ]
  },
  {
   "cell_type": "code",
   "execution_count": null,
   "metadata": {},
   "outputs": [],
   "source": []
  }
 ],
 "metadata": {
  "kernelspec": {
   "display_name": "Python 3",
   "language": "python",
   "name": "python3"
  },
  "language_info": {
   "codemirror_mode": {
    "name": "ipython",
    "version": 3
   },
   "file_extension": ".py",
   "mimetype": "text/x-python",
   "name": "python",
   "nbconvert_exporter": "python",
   "pygments_lexer": "ipython3",
   "version": "3.8.5"
  }
 },
 "nbformat": 4,
 "nbformat_minor": 4
}
