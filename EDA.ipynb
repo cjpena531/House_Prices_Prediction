{
 "cells": [
  {
   "cell_type": "markdown",
   "metadata": {},
   "source": [
    "# Data Wrangling and Exploratory Data Analysis"
   ]
  },
  {
   "cell_type": "markdown",
   "metadata": {},
   "source": [
    "## Pick a dataset\n",
    "Starting off exploring two datasets to figure out which will be best to use. \n",
    "\n",
    "The 'rio' dataset is large and ideal in size, however, it was created by scraping craigsllist website monthly for two years, therefore it has many duplicate values. After considering how large the dataset is after dropping those duplicates, we'll reconsider which to model off of."
   ]
  },
  {
   "cell_type": "code",
   "execution_count": 1,
   "metadata": {},
   "outputs": [],
   "source": [
    "import pandas as pd\n",
    "import numpy as np\n",
    "import seaborn as sns"
   ]
  },
  {
   "cell_type": "code",
   "execution_count": 2,
   "metadata": {},
   "outputs": [],
   "source": [
    "argentina = pd.read_csv('data/argentina.csv')"
   ]
  },
  {
   "cell_type": "code",
   "execution_count": 3,
   "metadata": {},
   "outputs": [
    {
     "name": "stderr",
     "output_type": "stream",
     "text": [
      "/Users/cathleenpena1/anaconda3/lib/python3.8/site-packages/IPython/core/interactiveshell.py:3146: DtypeWarning: Columns (1,17,19,20,28,33,34,54,62,63,66,68,69,88) have mixed types.Specify dtype option on import or set low_memory=False.\n",
      "  has_raised = await self.run_ast_nodes(code_ast.body, cell_name,\n"
     ]
    }
   ],
   "source": [
    "rio = pd.read_csv('data/rio_de_janeiro.csv')"
   ]
  },
  {
   "cell_type": "code",
   "execution_count": 4,
   "metadata": {},
   "outputs": [
    {
     "data": {
      "text/html": [
       "<div>\n",
       "<style scoped>\n",
       "    .dataframe tbody tr th:only-of-type {\n",
       "        vertical-align: middle;\n",
       "    }\n",
       "\n",
       "    .dataframe tbody tr th {\n",
       "        vertical-align: top;\n",
       "    }\n",
       "\n",
       "    .dataframe thead th {\n",
       "        text-align: right;\n",
       "    }\n",
       "</style>\n",
       "<table border=\"1\" class=\"dataframe\">\n",
       "  <thead>\n",
       "    <tr style=\"text-align: right;\">\n",
       "      <th></th>\n",
       "      <th>id</th>\n",
       "      <th>ad_type</th>\n",
       "      <th>start_date</th>\n",
       "      <th>end_date</th>\n",
       "      <th>created_on</th>\n",
       "      <th>lat</th>\n",
       "      <th>lon</th>\n",
       "      <th>l1</th>\n",
       "      <th>l2</th>\n",
       "      <th>l3</th>\n",
       "      <th>...</th>\n",
       "      <th>bathrooms</th>\n",
       "      <th>surface_total</th>\n",
       "      <th>surface_covered</th>\n",
       "      <th>price</th>\n",
       "      <th>currency</th>\n",
       "      <th>price_period</th>\n",
       "      <th>title</th>\n",
       "      <th>description</th>\n",
       "      <th>property_type</th>\n",
       "      <th>operation_type</th>\n",
       "    </tr>\n",
       "  </thead>\n",
       "  <tbody>\n",
       "    <tr>\n",
       "      <th>0</th>\n",
       "      <td>wdQ5hWhv8P14T7Sh9g4QCg==</td>\n",
       "      <td>Propiedad</td>\n",
       "      <td>2020-12-25</td>\n",
       "      <td>9999-12-31</td>\n",
       "      <td>2020-12-25</td>\n",
       "      <td>-32.716652</td>\n",
       "      <td>-68.642692</td>\n",
       "      <td>Argentina</td>\n",
       "      <td>Mendoza</td>\n",
       "      <td>NaN</td>\n",
       "      <td>...</td>\n",
       "      <td>NaN</td>\n",
       "      <td>350.0</td>\n",
       "      <td>350.0</td>\n",
       "      <td>NaN</td>\n",
       "      <td>NaN</td>\n",
       "      <td>NaN</td>\n",
       "      <td>Excelentes Lotes Sobre Ruta 34</td>\n",
       "      <td>Corredor Responsable: VICTOR E. MONTIVERO - C....</td>\n",
       "      <td>Lote</td>\n",
       "      <td>Venta</td>\n",
       "    </tr>\n",
       "    <tr>\n",
       "      <th>1</th>\n",
       "      <td>nnMBYZ4RMRY+vm753EtA+g==</td>\n",
       "      <td>Propiedad</td>\n",
       "      <td>2020-12-25</td>\n",
       "      <td>9999-12-31</td>\n",
       "      <td>2020-12-25</td>\n",
       "      <td>-24.797723</td>\n",
       "      <td>-65.467514</td>\n",
       "      <td>Argentina</td>\n",
       "      <td>Salta</td>\n",
       "      <td>NaN</td>\n",
       "      <td>...</td>\n",
       "      <td>NaN</td>\n",
       "      <td>1541.0</td>\n",
       "      <td>1541.0</td>\n",
       "      <td>NaN</td>\n",
       "      <td>NaN</td>\n",
       "      <td>Mensual</td>\n",
       "      <td>TERRENO + VENTA + JARDINES DE SAN LORENZO +150...</td>\n",
       "      <td>Corredor Responsable: Pablo Castañeda - C.U.C....</td>\n",
       "      <td>Lote</td>\n",
       "      <td>Venta</td>\n",
       "    </tr>\n",
       "    <tr>\n",
       "      <th>2</th>\n",
       "      <td>+dnVA1K6JxzL1zAjOEQ1pA==</td>\n",
       "      <td>Propiedad</td>\n",
       "      <td>2020-12-25</td>\n",
       "      <td>2020-12-29</td>\n",
       "      <td>2020-12-25</td>\n",
       "      <td>-34.919373</td>\n",
       "      <td>-58.020591</td>\n",
       "      <td>Argentina</td>\n",
       "      <td>Bs.As. G.B.A. Zona Sur</td>\n",
       "      <td>La Plata</td>\n",
       "      <td>...</td>\n",
       "      <td>NaN</td>\n",
       "      <td>1000.0</td>\n",
       "      <td>1000.0</td>\n",
       "      <td>NaN</td>\n",
       "      <td>NaN</td>\n",
       "      <td>Mensual</td>\n",
       "      <td>Lote en Venta de 1000 m2 en La Plata</td>\n",
       "      <td>Corredor Responsable: Rico Sebastián - Martill...</td>\n",
       "      <td>Lote</td>\n",
       "      <td>Venta</td>\n",
       "    </tr>\n",
       "  </tbody>\n",
       "</table>\n",
       "<p>3 rows × 25 columns</p>\n",
       "</div>"
      ],
      "text/plain": [
       "                         id    ad_type  start_date    end_date  created_on  \\\n",
       "0  wdQ5hWhv8P14T7Sh9g4QCg==  Propiedad  2020-12-25  9999-12-31  2020-12-25   \n",
       "1  nnMBYZ4RMRY+vm753EtA+g==  Propiedad  2020-12-25  9999-12-31  2020-12-25   \n",
       "2  +dnVA1K6JxzL1zAjOEQ1pA==  Propiedad  2020-12-25  2020-12-29  2020-12-25   \n",
       "\n",
       "         lat        lon         l1                      l2        l3  ...  \\\n",
       "0 -32.716652 -68.642692  Argentina                 Mendoza       NaN  ...   \n",
       "1 -24.797723 -65.467514  Argentina                   Salta       NaN  ...   \n",
       "2 -34.919373 -58.020591  Argentina  Bs.As. G.B.A. Zona Sur  La Plata  ...   \n",
       "\n",
       "  bathrooms surface_total  surface_covered  price  currency  price_period  \\\n",
       "0       NaN         350.0            350.0    NaN       NaN           NaN   \n",
       "1       NaN        1541.0           1541.0    NaN       NaN       Mensual   \n",
       "2       NaN        1000.0           1000.0    NaN       NaN       Mensual   \n",
       "\n",
       "                                               title  \\\n",
       "0                     Excelentes Lotes Sobre Ruta 34   \n",
       "1  TERRENO + VENTA + JARDINES DE SAN LORENZO +150...   \n",
       "2               Lote en Venta de 1000 m2 en La Plata   \n",
       "\n",
       "                                         description  property_type  \\\n",
       "0  Corredor Responsable: VICTOR E. MONTIVERO - C....           Lote   \n",
       "1  Corredor Responsable: Pablo Castañeda - C.U.C....           Lote   \n",
       "2  Corredor Responsable: Rico Sebastián - Martill...           Lote   \n",
       "\n",
       "  operation_type  \n",
       "0          Venta  \n",
       "1          Venta  \n",
       "2          Venta  \n",
       "\n",
       "[3 rows x 25 columns]"
      ]
     },
     "metadata": {},
     "output_type": "display_data"
    },
    {
     "data": {
      "text/html": [
       "<div>\n",
       "<style scoped>\n",
       "    .dataframe tbody tr th:only-of-type {\n",
       "        vertical-align: middle;\n",
       "    }\n",
       "\n",
       "    .dataframe tbody tr th {\n",
       "        vertical-align: top;\n",
       "    }\n",
       "\n",
       "    .dataframe thead th {\n",
       "        text-align: right;\n",
       "    }\n",
       "</style>\n",
       "<table border=\"1\" class=\"dataframe\">\n",
       "  <thead>\n",
       "    <tr style=\"text-align: right;\">\n",
       "      <th></th>\n",
       "      <th>Unnamed: 0</th>\n",
       "      <th>id</th>\n",
       "      <th>listing_url</th>\n",
       "      <th>scrape_id</th>\n",
       "      <th>last_scraped</th>\n",
       "      <th>name</th>\n",
       "      <th>summary</th>\n",
       "      <th>space</th>\n",
       "      <th>description</th>\n",
       "      <th>experiences_offered</th>\n",
       "      <th>...</th>\n",
       "      <th>minimum_minimum_nights</th>\n",
       "      <th>maximum_minimum_nights</th>\n",
       "      <th>minimum_maximum_nights</th>\n",
       "      <th>maximum_maximum_nights</th>\n",
       "      <th>minimum_nights_avg_ntm</th>\n",
       "      <th>maximum_nights_avg_ntm</th>\n",
       "      <th>number_of_reviews_ltm</th>\n",
       "      <th>calculated_host_listings_count_entire_homes</th>\n",
       "      <th>calculated_host_listings_count_private_rooms</th>\n",
       "      <th>calculated_host_listings_count_shared_rooms</th>\n",
       "    </tr>\n",
       "  </thead>\n",
       "  <tbody>\n",
       "    <tr>\n",
       "      <th>0</th>\n",
       "      <td>0.0</td>\n",
       "      <td>17878</td>\n",
       "      <td>https://www.airbnb.com/rooms/17878</td>\n",
       "      <td>2.018082e+13</td>\n",
       "      <td>2018-08-16</td>\n",
       "      <td>Very Nice 2Br - Copacabana - WiFi</td>\n",
       "      <td>Please note that special rates apply for New Y...</td>\n",
       "      <td>- large balcony which looks out on pedestrian ...</td>\n",
       "      <td>Please note that special rates apply for New Y...</td>\n",
       "      <td>none</td>\n",
       "      <td>...</td>\n",
       "      <td>NaN</td>\n",
       "      <td>NaN</td>\n",
       "      <td>NaN</td>\n",
       "      <td>NaN</td>\n",
       "      <td>NaN</td>\n",
       "      <td>NaN</td>\n",
       "      <td>NaN</td>\n",
       "      <td>NaN</td>\n",
       "      <td>NaN</td>\n",
       "      <td>NaN</td>\n",
       "    </tr>\n",
       "    <tr>\n",
       "      <th>1</th>\n",
       "      <td>1.0</td>\n",
       "      <td>24480</td>\n",
       "      <td>https://www.airbnb.com/rooms/24480</td>\n",
       "      <td>2.018082e+13</td>\n",
       "      <td>2018-08-16</td>\n",
       "      <td>Nice and cozy near Ipanema Beach</td>\n",
       "      <td>My studio is located in the best  of Ipanema. ...</td>\n",
       "      <td>The studio is located at Vinicius de Moraes St...</td>\n",
       "      <td>My studio is located in the best  of Ipanema. ...</td>\n",
       "      <td>none</td>\n",
       "      <td>...</td>\n",
       "      <td>NaN</td>\n",
       "      <td>NaN</td>\n",
       "      <td>NaN</td>\n",
       "      <td>NaN</td>\n",
       "      <td>NaN</td>\n",
       "      <td>NaN</td>\n",
       "      <td>NaN</td>\n",
       "      <td>NaN</td>\n",
       "      <td>NaN</td>\n",
       "      <td>NaN</td>\n",
       "    </tr>\n",
       "    <tr>\n",
       "      <th>2</th>\n",
       "      <td>2.0</td>\n",
       "      <td>25026</td>\n",
       "      <td>https://www.airbnb.com/rooms/25026</td>\n",
       "      <td>2.018082e+13</td>\n",
       "      <td>2018-08-16</td>\n",
       "      <td>Beautiful Modern Decorated Studio in Copa</td>\n",
       "      <td>Our apartment is a little gem, everyone loves ...</td>\n",
       "      <td>This newly renovated studio (last renovations ...</td>\n",
       "      <td>Our apartment is a little gem, everyone loves ...</td>\n",
       "      <td>none</td>\n",
       "      <td>...</td>\n",
       "      <td>NaN</td>\n",
       "      <td>NaN</td>\n",
       "      <td>NaN</td>\n",
       "      <td>NaN</td>\n",
       "      <td>NaN</td>\n",
       "      <td>NaN</td>\n",
       "      <td>NaN</td>\n",
       "      <td>NaN</td>\n",
       "      <td>NaN</td>\n",
       "      <td>NaN</td>\n",
       "    </tr>\n",
       "  </tbody>\n",
       "</table>\n",
       "<p>3 rows × 108 columns</p>\n",
       "</div>"
      ],
      "text/plain": [
       "   Unnamed: 0     id                         listing_url     scrape_id  \\\n",
       "0         0.0  17878  https://www.airbnb.com/rooms/17878  2.018082e+13   \n",
       "1         1.0  24480  https://www.airbnb.com/rooms/24480  2.018082e+13   \n",
       "2         2.0  25026  https://www.airbnb.com/rooms/25026  2.018082e+13   \n",
       "\n",
       "  last_scraped                                       name  \\\n",
       "0   2018-08-16          Very Nice 2Br - Copacabana - WiFi   \n",
       "1   2018-08-16           Nice and cozy near Ipanema Beach   \n",
       "2   2018-08-16  Beautiful Modern Decorated Studio in Copa   \n",
       "\n",
       "                                             summary  \\\n",
       "0  Please note that special rates apply for New Y...   \n",
       "1  My studio is located in the best  of Ipanema. ...   \n",
       "2  Our apartment is a little gem, everyone loves ...   \n",
       "\n",
       "                                               space  \\\n",
       "0  - large balcony which looks out on pedestrian ...   \n",
       "1  The studio is located at Vinicius de Moraes St...   \n",
       "2  This newly renovated studio (last renovations ...   \n",
       "\n",
       "                                         description experiences_offered  ...  \\\n",
       "0  Please note that special rates apply for New Y...                none  ...   \n",
       "1  My studio is located in the best  of Ipanema. ...                none  ...   \n",
       "2  Our apartment is a little gem, everyone loves ...                none  ...   \n",
       "\n",
       "  minimum_minimum_nights maximum_minimum_nights minimum_maximum_nights  \\\n",
       "0                    NaN                    NaN                    NaN   \n",
       "1                    NaN                    NaN                    NaN   \n",
       "2                    NaN                    NaN                    NaN   \n",
       "\n",
       "  maximum_maximum_nights minimum_nights_avg_ntm maximum_nights_avg_ntm  \\\n",
       "0                    NaN                    NaN                    NaN   \n",
       "1                    NaN                    NaN                    NaN   \n",
       "2                    NaN                    NaN                    NaN   \n",
       "\n",
       "   number_of_reviews_ltm calculated_host_listings_count_entire_homes  \\\n",
       "0                    NaN                                         NaN   \n",
       "1                    NaN                                         NaN   \n",
       "2                    NaN                                         NaN   \n",
       "\n",
       "  calculated_host_listings_count_private_rooms  \\\n",
       "0                                          NaN   \n",
       "1                                          NaN   \n",
       "2                                          NaN   \n",
       "\n",
       "  calculated_host_listings_count_shared_rooms  \n",
       "0                                         NaN  \n",
       "1                                         NaN  \n",
       "2                                         NaN  \n",
       "\n",
       "[3 rows x 108 columns]"
      ]
     },
     "metadata": {},
     "output_type": "display_data"
    }
   ],
   "source": [
    "display(argentina.head(3))\n",
    "display(rio.head(3))"
   ]
  },
  {
   "cell_type": "code",
   "execution_count": 5,
   "metadata": {},
   "outputs": [
    {
     "name": "stdout",
     "output_type": "stream",
     "text": [
      "Number of unique listings: \t 73903\n",
      "Number of observations: \t 784122\n"
     ]
    }
   ],
   "source": [
    "print('Number of unique listings: \\t', rio.id.nunique())\n",
    "print('Number of observations: \\t', len(rio))"
   ]
  },
  {
   "cell_type": "code",
   "execution_count": 6,
   "metadata": {},
   "outputs": [],
   "source": [
    "rio.drop('Unnamed: 0', axis=1, inplace=True)"
   ]
  },
  {
   "cell_type": "code",
   "execution_count": 7,
   "metadata": {},
   "outputs": [
    {
     "data": {
      "text/plain": [
       "73903"
      ]
     },
     "execution_count": 7,
     "metadata": {},
     "output_type": "execute_result"
    }
   ],
   "source": [
    "rio = rio.drop_duplicates(subset='id')\n",
    "len(rio)"
   ]
  },
  {
   "cell_type": "code",
   "execution_count": null,
   "metadata": {},
   "outputs": [],
   "source": [
    "rio.to_csv('data/rio.csv')"
   ]
  },
  {
   "cell_type": "markdown",
   "metadata": {},
   "source": [
    "After downsizing the rio dataset, we went from 2.54 GB to 203 MB therefore, I've decided to go with the 'argentina' dataset."
   ]
  },
  {
   "cell_type": "markdown",
   "metadata": {},
   "source": [
    "## Argentina EDA"
   ]
  },
  {
   "cell_type": "markdown",
   "metadata": {},
   "source": [
    "### Check for duplicates, null values,  and type conversion"
   ]
  },
  {
   "cell_type": "code",
   "execution_count": 3,
   "metadata": {},
   "outputs": [
    {
     "data": {
      "text/plain": [
       "(1000000, 1000000)"
      ]
     },
     "execution_count": 3,
     "metadata": {},
     "output_type": "execute_result"
    }
   ],
   "source": [
    "argentina.id.nunique(), len(argentina)"
   ]
  },
  {
   "cell_type": "code",
   "execution_count": 4,
   "metadata": {},
   "outputs": [
    {
     "data": {
      "text/plain": [
       "(id                  object\n",
       " ad_type             object\n",
       " start_date          object\n",
       " end_date            object\n",
       " created_on          object\n",
       " lat                float64\n",
       " lon                float64\n",
       " l1                  object\n",
       " l2                  object\n",
       " l3                  object\n",
       " l4                  object\n",
       " l5                  object\n",
       " l6                 float64\n",
       " rooms              float64\n",
       " bedrooms           float64\n",
       " bathrooms          float64\n",
       " surface_total      float64\n",
       " surface_covered    float64\n",
       " price              float64\n",
       " currency            object\n",
       " price_period        object\n",
       " title               object\n",
       " description         object\n",
       " property_type       object\n",
       " operation_type      object\n",
       " dtype: object,\n",
       " 25)"
      ]
     },
     "execution_count": 4,
     "metadata": {},
     "output_type": "execute_result"
    }
   ],
   "source": [
    "argentina.dtypes, len(argentina.columns)"
   ]
  },
  {
   "cell_type": "code",
   "execution_count": 5,
   "metadata": {},
   "outputs": [
    {
     "data": {
      "text/html": [
       "<div>\n",
       "<style scoped>\n",
       "    .dataframe tbody tr th:only-of-type {\n",
       "        vertical-align: middle;\n",
       "    }\n",
       "\n",
       "    .dataframe tbody tr th {\n",
       "        vertical-align: top;\n",
       "    }\n",
       "\n",
       "    .dataframe thead th {\n",
       "        text-align: right;\n",
       "    }\n",
       "</style>\n",
       "<table border=\"1\" class=\"dataframe\">\n",
       "  <thead>\n",
       "    <tr style=\"text-align: right;\">\n",
       "      <th></th>\n",
       "      <th>id</th>\n",
       "      <th>ad_type</th>\n",
       "      <th>start_date</th>\n",
       "      <th>end_date</th>\n",
       "      <th>created_on</th>\n",
       "      <th>lat</th>\n",
       "      <th>lon</th>\n",
       "      <th>l1</th>\n",
       "      <th>l2</th>\n",
       "      <th>l3</th>\n",
       "      <th>l4</th>\n",
       "      <th>l5</th>\n",
       "    </tr>\n",
       "  </thead>\n",
       "  <tbody>\n",
       "    <tr>\n",
       "      <th>0</th>\n",
       "      <td>wdQ5hWhv8P14T7Sh9g4QCg==</td>\n",
       "      <td>Propiedad</td>\n",
       "      <td>2020-12-25</td>\n",
       "      <td>9999-12-31</td>\n",
       "      <td>2020-12-25</td>\n",
       "      <td>-32.716652</td>\n",
       "      <td>-68.642692</td>\n",
       "      <td>Argentina</td>\n",
       "      <td>Mendoza</td>\n",
       "      <td>NaN</td>\n",
       "      <td>NaN</td>\n",
       "      <td>NaN</td>\n",
       "    </tr>\n",
       "    <tr>\n",
       "      <th>1</th>\n",
       "      <td>nnMBYZ4RMRY+vm753EtA+g==</td>\n",
       "      <td>Propiedad</td>\n",
       "      <td>2020-12-25</td>\n",
       "      <td>9999-12-31</td>\n",
       "      <td>2020-12-25</td>\n",
       "      <td>-24.797723</td>\n",
       "      <td>-65.467514</td>\n",
       "      <td>Argentina</td>\n",
       "      <td>Salta</td>\n",
       "      <td>NaN</td>\n",
       "      <td>NaN</td>\n",
       "      <td>NaN</td>\n",
       "    </tr>\n",
       "    <tr>\n",
       "      <th>2</th>\n",
       "      <td>+dnVA1K6JxzL1zAjOEQ1pA==</td>\n",
       "      <td>Propiedad</td>\n",
       "      <td>2020-12-25</td>\n",
       "      <td>2020-12-29</td>\n",
       "      <td>2020-12-25</td>\n",
       "      <td>-34.919373</td>\n",
       "      <td>-58.020591</td>\n",
       "      <td>Argentina</td>\n",
       "      <td>Bs.As. G.B.A. Zona Sur</td>\n",
       "      <td>La Plata</td>\n",
       "      <td>La Plata</td>\n",
       "      <td>NaN</td>\n",
       "    </tr>\n",
       "  </tbody>\n",
       "</table>\n",
       "</div>"
      ],
      "text/plain": [
       "                         id    ad_type  start_date    end_date  created_on  \\\n",
       "0  wdQ5hWhv8P14T7Sh9g4QCg==  Propiedad  2020-12-25  9999-12-31  2020-12-25   \n",
       "1  nnMBYZ4RMRY+vm753EtA+g==  Propiedad  2020-12-25  9999-12-31  2020-12-25   \n",
       "2  +dnVA1K6JxzL1zAjOEQ1pA==  Propiedad  2020-12-25  2020-12-29  2020-12-25   \n",
       "\n",
       "         lat        lon         l1                      l2        l3  \\\n",
       "0 -32.716652 -68.642692  Argentina                 Mendoza       NaN   \n",
       "1 -24.797723 -65.467514  Argentina                   Salta       NaN   \n",
       "2 -34.919373 -58.020591  Argentina  Bs.As. G.B.A. Zona Sur  La Plata   \n",
       "\n",
       "         l4   l5  \n",
       "0       NaN  NaN  \n",
       "1       NaN  NaN  \n",
       "2  La Plata  NaN  "
      ]
     },
     "metadata": {},
     "output_type": "display_data"
    },
    {
     "data": {
      "text/html": [
       "<div>\n",
       "<style scoped>\n",
       "    .dataframe tbody tr th:only-of-type {\n",
       "        vertical-align: middle;\n",
       "    }\n",
       "\n",
       "    .dataframe tbody tr th {\n",
       "        vertical-align: top;\n",
       "    }\n",
       "\n",
       "    .dataframe thead th {\n",
       "        text-align: right;\n",
       "    }\n",
       "</style>\n",
       "<table border=\"1\" class=\"dataframe\">\n",
       "  <thead>\n",
       "    <tr style=\"text-align: right;\">\n",
       "      <th></th>\n",
       "      <th>l6</th>\n",
       "      <th>rooms</th>\n",
       "      <th>bedrooms</th>\n",
       "      <th>bathrooms</th>\n",
       "      <th>surface_total</th>\n",
       "      <th>surface_covered</th>\n",
       "      <th>price</th>\n",
       "      <th>currency</th>\n",
       "      <th>price_period</th>\n",
       "      <th>title</th>\n",
       "      <th>description</th>\n",
       "      <th>property_type</th>\n",
       "      <th>operation_type</th>\n",
       "    </tr>\n",
       "  </thead>\n",
       "  <tbody>\n",
       "    <tr>\n",
       "      <th>0</th>\n",
       "      <td>NaN</td>\n",
       "      <td>NaN</td>\n",
       "      <td>NaN</td>\n",
       "      <td>NaN</td>\n",
       "      <td>350.0</td>\n",
       "      <td>350.0</td>\n",
       "      <td>NaN</td>\n",
       "      <td>NaN</td>\n",
       "      <td>NaN</td>\n",
       "      <td>Excelentes Lotes Sobre Ruta 34</td>\n",
       "      <td>Corredor Responsable: VICTOR E. MONTIVERO - C....</td>\n",
       "      <td>Lote</td>\n",
       "      <td>Venta</td>\n",
       "    </tr>\n",
       "    <tr>\n",
       "      <th>1</th>\n",
       "      <td>NaN</td>\n",
       "      <td>NaN</td>\n",
       "      <td>NaN</td>\n",
       "      <td>NaN</td>\n",
       "      <td>1541.0</td>\n",
       "      <td>1541.0</td>\n",
       "      <td>NaN</td>\n",
       "      <td>NaN</td>\n",
       "      <td>Mensual</td>\n",
       "      <td>TERRENO + VENTA + JARDINES DE SAN LORENZO +150...</td>\n",
       "      <td>Corredor Responsable: Pablo Castañeda - C.U.C....</td>\n",
       "      <td>Lote</td>\n",
       "      <td>Venta</td>\n",
       "    </tr>\n",
       "    <tr>\n",
       "      <th>2</th>\n",
       "      <td>NaN</td>\n",
       "      <td>NaN</td>\n",
       "      <td>NaN</td>\n",
       "      <td>NaN</td>\n",
       "      <td>1000.0</td>\n",
       "      <td>1000.0</td>\n",
       "      <td>NaN</td>\n",
       "      <td>NaN</td>\n",
       "      <td>Mensual</td>\n",
       "      <td>Lote en Venta de 1000 m2 en La Plata</td>\n",
       "      <td>Corredor Responsable: Rico Sebastián - Martill...</td>\n",
       "      <td>Lote</td>\n",
       "      <td>Venta</td>\n",
       "    </tr>\n",
       "  </tbody>\n",
       "</table>\n",
       "</div>"
      ],
      "text/plain": [
       "   l6  rooms  bedrooms  bathrooms  surface_total  surface_covered  price  \\\n",
       "0 NaN    NaN       NaN        NaN          350.0            350.0    NaN   \n",
       "1 NaN    NaN       NaN        NaN         1541.0           1541.0    NaN   \n",
       "2 NaN    NaN       NaN        NaN         1000.0           1000.0    NaN   \n",
       "\n",
       "  currency price_period                                              title  \\\n",
       "0      NaN          NaN                     Excelentes Lotes Sobre Ruta 34   \n",
       "1      NaN      Mensual  TERRENO + VENTA + JARDINES DE SAN LORENZO +150...   \n",
       "2      NaN      Mensual               Lote en Venta de 1000 m2 en La Plata   \n",
       "\n",
       "                                         description property_type  \\\n",
       "0  Corredor Responsable: VICTOR E. MONTIVERO - C....          Lote   \n",
       "1  Corredor Responsable: Pablo Castañeda - C.U.C....          Lote   \n",
       "2  Corredor Responsable: Rico Sebastián - Martill...          Lote   \n",
       "\n",
       "  operation_type  \n",
       "0          Venta  \n",
       "1          Venta  \n",
       "2          Venta  "
      ]
     },
     "metadata": {},
     "output_type": "display_data"
    }
   ],
   "source": [
    "display(argentina.iloc[:,:12].head(3))\n",
    "display(argentina.iloc[:,12:].head(3))"
   ]
  },
  {
   "cell_type": "markdown",
   "metadata": {},
   "source": [
    "#### Type Conversion\n",
    "Make created_on, start_date, and end_date into datetime"
   ]
  },
  {
   "cell_type": "code",
   "execution_count": 6,
   "metadata": {},
   "outputs": [],
   "source": [
    "argentina['start_date'] = pd.to_datetime(argentina['start_date'])\n",
    "argentina['created_on'] = pd.to_datetime(argentina['created_on'])"
   ]
  },
  {
   "cell_type": "code",
   "execution_count": 7,
   "metadata": {},
   "outputs": [
    {
     "ename": "OutOfBoundsDatetime",
     "evalue": "Out of bounds nanosecond timestamp: 9999-12-31 00:00:00",
     "output_type": "error",
     "traceback": [
      "\u001b[0;31m---------------------------------------------------------------------------\u001b[0m",
      "\u001b[0;31mTypeError\u001b[0m                                 Traceback (most recent call last)",
      "\u001b[0;32m~/anaconda3/lib/python3.8/site-packages/pandas/core/arrays/datetimes.py\u001b[0m in \u001b[0;36mobjects_to_datetime64ns\u001b[0;34m(data, dayfirst, yearfirst, utc, errors, require_iso8601, allow_object)\u001b[0m\n\u001b[1;32m   2084\u001b[0m         \u001b[0;32mtry\u001b[0m\u001b[0;34m:\u001b[0m\u001b[0;34m\u001b[0m\u001b[0;34m\u001b[0m\u001b[0m\n\u001b[0;32m-> 2085\u001b[0;31m             \u001b[0mvalues\u001b[0m\u001b[0;34m,\u001b[0m \u001b[0mtz_parsed\u001b[0m \u001b[0;34m=\u001b[0m \u001b[0mconversion\u001b[0m\u001b[0;34m.\u001b[0m\u001b[0mdatetime_to_datetime64\u001b[0m\u001b[0;34m(\u001b[0m\u001b[0mdata\u001b[0m\u001b[0;34m)\u001b[0m\u001b[0;34m\u001b[0m\u001b[0;34m\u001b[0m\u001b[0m\n\u001b[0m\u001b[1;32m   2086\u001b[0m             \u001b[0;31m# If tzaware, these values represent unix timestamps, so we\u001b[0m\u001b[0;34m\u001b[0m\u001b[0;34m\u001b[0m\u001b[0;34m\u001b[0m\u001b[0m\n",
      "\u001b[0;32mpandas/_libs/tslibs/conversion.pyx\u001b[0m in \u001b[0;36mpandas._libs.tslibs.conversion.datetime_to_datetime64\u001b[0;34m()\u001b[0m\n",
      "\u001b[0;31mTypeError\u001b[0m: Unrecognized value type: <class 'str'>",
      "\nDuring handling of the above exception, another exception occurred:\n",
      "\u001b[0;31mOutOfBoundsDatetime\u001b[0m                       Traceback (most recent call last)",
      "\u001b[0;32m<ipython-input-7-7c1775b418e0>\u001b[0m in \u001b[0;36m<module>\u001b[0;34m\u001b[0m\n\u001b[0;32m----> 1\u001b[0;31m \u001b[0margentina\u001b[0m\u001b[0;34m[\u001b[0m\u001b[0;34m'end_date'\u001b[0m\u001b[0;34m]\u001b[0m \u001b[0;34m=\u001b[0m \u001b[0mpd\u001b[0m\u001b[0;34m.\u001b[0m\u001b[0mto_datetime\u001b[0m\u001b[0;34m(\u001b[0m\u001b[0margentina\u001b[0m\u001b[0;34m[\u001b[0m\u001b[0;34m'end_date'\u001b[0m\u001b[0;34m]\u001b[0m\u001b[0;34m)\u001b[0m\u001b[0;34m\u001b[0m\u001b[0;34m\u001b[0m\u001b[0m\n\u001b[0m",
      "\u001b[0;32m~/anaconda3/lib/python3.8/site-packages/pandas/core/tools/datetimes.py\u001b[0m in \u001b[0;36mto_datetime\u001b[0;34m(arg, errors, dayfirst, yearfirst, utc, format, exact, unit, infer_datetime_format, origin, cache)\u001b[0m\n\u001b[1;32m    799\u001b[0m                 \u001b[0mresult\u001b[0m \u001b[0;34m=\u001b[0m \u001b[0mresult\u001b[0m\u001b[0;34m.\u001b[0m\u001b[0mtz_localize\u001b[0m\u001b[0;34m(\u001b[0m\u001b[0mtz\u001b[0m\u001b[0;34m)\u001b[0m\u001b[0;34m\u001b[0m\u001b[0;34m\u001b[0m\u001b[0m\n\u001b[1;32m    800\u001b[0m     \u001b[0;32melif\u001b[0m \u001b[0misinstance\u001b[0m\u001b[0;34m(\u001b[0m\u001b[0marg\u001b[0m\u001b[0;34m,\u001b[0m \u001b[0mABCSeries\u001b[0m\u001b[0;34m)\u001b[0m\u001b[0;34m:\u001b[0m\u001b[0;34m\u001b[0m\u001b[0;34m\u001b[0m\u001b[0m\n\u001b[0;32m--> 801\u001b[0;31m         \u001b[0mcache_array\u001b[0m \u001b[0;34m=\u001b[0m \u001b[0m_maybe_cache\u001b[0m\u001b[0;34m(\u001b[0m\u001b[0marg\u001b[0m\u001b[0;34m,\u001b[0m \u001b[0mformat\u001b[0m\u001b[0;34m,\u001b[0m \u001b[0mcache\u001b[0m\u001b[0;34m,\u001b[0m \u001b[0mconvert_listlike\u001b[0m\u001b[0;34m)\u001b[0m\u001b[0;34m\u001b[0m\u001b[0;34m\u001b[0m\u001b[0m\n\u001b[0m\u001b[1;32m    802\u001b[0m         \u001b[0;32mif\u001b[0m \u001b[0;32mnot\u001b[0m \u001b[0mcache_array\u001b[0m\u001b[0;34m.\u001b[0m\u001b[0mempty\u001b[0m\u001b[0;34m:\u001b[0m\u001b[0;34m\u001b[0m\u001b[0;34m\u001b[0m\u001b[0m\n\u001b[1;32m    803\u001b[0m             \u001b[0mresult\u001b[0m \u001b[0;34m=\u001b[0m \u001b[0marg\u001b[0m\u001b[0;34m.\u001b[0m\u001b[0mmap\u001b[0m\u001b[0;34m(\u001b[0m\u001b[0mcache_array\u001b[0m\u001b[0;34m)\u001b[0m\u001b[0;34m\u001b[0m\u001b[0;34m\u001b[0m\u001b[0m\n",
      "\u001b[0;32m~/anaconda3/lib/python3.8/site-packages/pandas/core/tools/datetimes.py\u001b[0m in \u001b[0;36m_maybe_cache\u001b[0;34m(arg, format, cache, convert_listlike)\u001b[0m\n\u001b[1;32m    176\u001b[0m         \u001b[0munique_dates\u001b[0m \u001b[0;34m=\u001b[0m \u001b[0munique\u001b[0m\u001b[0;34m(\u001b[0m\u001b[0marg\u001b[0m\u001b[0;34m)\u001b[0m\u001b[0;34m\u001b[0m\u001b[0;34m\u001b[0m\u001b[0m\n\u001b[1;32m    177\u001b[0m         \u001b[0;32mif\u001b[0m \u001b[0mlen\u001b[0m\u001b[0;34m(\u001b[0m\u001b[0munique_dates\u001b[0m\u001b[0;34m)\u001b[0m \u001b[0;34m<\u001b[0m \u001b[0mlen\u001b[0m\u001b[0;34m(\u001b[0m\u001b[0marg\u001b[0m\u001b[0;34m)\u001b[0m\u001b[0;34m:\u001b[0m\u001b[0;34m\u001b[0m\u001b[0;34m\u001b[0m\u001b[0m\n\u001b[0;32m--> 178\u001b[0;31m             \u001b[0mcache_dates\u001b[0m \u001b[0;34m=\u001b[0m \u001b[0mconvert_listlike\u001b[0m\u001b[0;34m(\u001b[0m\u001b[0munique_dates\u001b[0m\u001b[0;34m,\u001b[0m \u001b[0mformat\u001b[0m\u001b[0;34m)\u001b[0m\u001b[0;34m\u001b[0m\u001b[0;34m\u001b[0m\u001b[0m\n\u001b[0m\u001b[1;32m    179\u001b[0m             \u001b[0mcache_array\u001b[0m \u001b[0;34m=\u001b[0m \u001b[0mSeries\u001b[0m\u001b[0;34m(\u001b[0m\u001b[0mcache_dates\u001b[0m\u001b[0;34m,\u001b[0m \u001b[0mindex\u001b[0m\u001b[0;34m=\u001b[0m\u001b[0munique_dates\u001b[0m\u001b[0;34m)\u001b[0m\u001b[0;34m\u001b[0m\u001b[0;34m\u001b[0m\u001b[0m\n\u001b[1;32m    180\u001b[0m     \u001b[0;32mreturn\u001b[0m \u001b[0mcache_array\u001b[0m\u001b[0;34m\u001b[0m\u001b[0;34m\u001b[0m\u001b[0m\n",
      "\u001b[0;32m~/anaconda3/lib/python3.8/site-packages/pandas/core/tools/datetimes.py\u001b[0m in \u001b[0;36m_convert_listlike_datetimes\u001b[0;34m(arg, format, name, tz, unit, errors, infer_datetime_format, dayfirst, yearfirst, exact)\u001b[0m\n\u001b[1;32m    463\u001b[0m         \u001b[0;32massert\u001b[0m \u001b[0mformat\u001b[0m \u001b[0;32mis\u001b[0m \u001b[0;32mNone\u001b[0m \u001b[0;32mor\u001b[0m \u001b[0minfer_datetime_format\u001b[0m\u001b[0;34m\u001b[0m\u001b[0;34m\u001b[0m\u001b[0m\n\u001b[1;32m    464\u001b[0m         \u001b[0mutc\u001b[0m \u001b[0;34m=\u001b[0m \u001b[0mtz\u001b[0m \u001b[0;34m==\u001b[0m \u001b[0;34m\"utc\"\u001b[0m\u001b[0;34m\u001b[0m\u001b[0;34m\u001b[0m\u001b[0m\n\u001b[0;32m--> 465\u001b[0;31m         result, tz_parsed = objects_to_datetime64ns(\n\u001b[0m\u001b[1;32m    466\u001b[0m             \u001b[0marg\u001b[0m\u001b[0;34m,\u001b[0m\u001b[0;34m\u001b[0m\u001b[0;34m\u001b[0m\u001b[0m\n\u001b[1;32m    467\u001b[0m             \u001b[0mdayfirst\u001b[0m\u001b[0;34m=\u001b[0m\u001b[0mdayfirst\u001b[0m\u001b[0;34m,\u001b[0m\u001b[0;34m\u001b[0m\u001b[0;34m\u001b[0m\u001b[0m\n",
      "\u001b[0;32m~/anaconda3/lib/python3.8/site-packages/pandas/core/arrays/datetimes.py\u001b[0m in \u001b[0;36mobjects_to_datetime64ns\u001b[0;34m(data, dayfirst, yearfirst, utc, errors, require_iso8601, allow_object)\u001b[0m\n\u001b[1;32m   2088\u001b[0m             \u001b[0;32mreturn\u001b[0m \u001b[0mvalues\u001b[0m\u001b[0;34m.\u001b[0m\u001b[0mview\u001b[0m\u001b[0;34m(\u001b[0m\u001b[0;34m\"i8\"\u001b[0m\u001b[0;34m)\u001b[0m\u001b[0;34m,\u001b[0m \u001b[0mtz_parsed\u001b[0m\u001b[0;34m\u001b[0m\u001b[0;34m\u001b[0m\u001b[0m\n\u001b[1;32m   2089\u001b[0m         \u001b[0;32mexcept\u001b[0m \u001b[0;34m(\u001b[0m\u001b[0mValueError\u001b[0m\u001b[0;34m,\u001b[0m \u001b[0mTypeError\u001b[0m\u001b[0;34m)\u001b[0m\u001b[0;34m:\u001b[0m\u001b[0;34m\u001b[0m\u001b[0;34m\u001b[0m\u001b[0m\n\u001b[0;32m-> 2090\u001b[0;31m             \u001b[0;32mraise\u001b[0m \u001b[0me\u001b[0m\u001b[0;34m\u001b[0m\u001b[0;34m\u001b[0m\u001b[0m\n\u001b[0m\u001b[1;32m   2091\u001b[0m \u001b[0;34m\u001b[0m\u001b[0m\n\u001b[1;32m   2092\u001b[0m     \u001b[0;32mif\u001b[0m \u001b[0mtz_parsed\u001b[0m \u001b[0;32mis\u001b[0m \u001b[0;32mnot\u001b[0m \u001b[0;32mNone\u001b[0m\u001b[0;34m:\u001b[0m\u001b[0;34m\u001b[0m\u001b[0;34m\u001b[0m\u001b[0m\n",
      "\u001b[0;32m~/anaconda3/lib/python3.8/site-packages/pandas/core/arrays/datetimes.py\u001b[0m in \u001b[0;36mobjects_to_datetime64ns\u001b[0;34m(data, dayfirst, yearfirst, utc, errors, require_iso8601, allow_object)\u001b[0m\n\u001b[1;32m   2073\u001b[0m \u001b[0;34m\u001b[0m\u001b[0m\n\u001b[1;32m   2074\u001b[0m     \u001b[0;32mtry\u001b[0m\u001b[0;34m:\u001b[0m\u001b[0;34m\u001b[0m\u001b[0;34m\u001b[0m\u001b[0m\n\u001b[0;32m-> 2075\u001b[0;31m         result, tz_parsed = tslib.array_to_datetime(\n\u001b[0m\u001b[1;32m   2076\u001b[0m             \u001b[0mdata\u001b[0m\u001b[0;34m,\u001b[0m\u001b[0;34m\u001b[0m\u001b[0;34m\u001b[0m\u001b[0m\n\u001b[1;32m   2077\u001b[0m             \u001b[0merrors\u001b[0m\u001b[0;34m=\u001b[0m\u001b[0merrors\u001b[0m\u001b[0;34m,\u001b[0m\u001b[0;34m\u001b[0m\u001b[0;34m\u001b[0m\u001b[0m\n",
      "\u001b[0;32mpandas/_libs/tslib.pyx\u001b[0m in \u001b[0;36mpandas._libs.tslib.array_to_datetime\u001b[0;34m()\u001b[0m\n",
      "\u001b[0;32mpandas/_libs/tslib.pyx\u001b[0m in \u001b[0;36mpandas._libs.tslib.array_to_datetime\u001b[0;34m()\u001b[0m\n",
      "\u001b[0;32mpandas/_libs/tslib.pyx\u001b[0m in \u001b[0;36mpandas._libs.tslib.array_to_datetime\u001b[0;34m()\u001b[0m\n",
      "\u001b[0;32mpandas/_libs/tslib.pyx\u001b[0m in \u001b[0;36mpandas._libs.tslib.array_to_datetime\u001b[0;34m()\u001b[0m\n",
      "\u001b[0;32mpandas/_libs/tslibs/np_datetime.pyx\u001b[0m in \u001b[0;36mpandas._libs.tslibs.np_datetime.check_dts_bounds\u001b[0;34m()\u001b[0m\n",
      "\u001b[0;31mOutOfBoundsDatetime\u001b[0m: Out of bounds nanosecond timestamp: 9999-12-31 00:00:00"
     ]
    }
   ],
   "source": [
    "argentina['end_date'] = pd.to_datetime(argentina['end_date'])"
   ]
  },
  {
   "cell_type": "markdown",
   "metadata": {},
   "source": [
    "Ran into a problem with the dates being set to the year 9999 which is out of bound of the pandas to_datetime function.\n",
    "\n",
    "Now we must deal with manually changing that date.\n",
    "\n",
    "I will set it to the max year that the to_datetime allows you to set it to."
   ]
  },
  {
   "cell_type": "code",
   "execution_count": 7,
   "metadata": {},
   "outputs": [
    {
     "data": {
      "text/plain": [
       "999600   NaT\n",
       "999601   NaT\n",
       "999606   NaT\n",
       "999609   NaT\n",
       "999614   NaT\n",
       "          ..\n",
       "999977   NaT\n",
       "999982   NaT\n",
       "999985   NaT\n",
       "999986   NaT\n",
       "999998   NaT\n",
       "Name: end_date, Length: 100, dtype: datetime64[ns]"
      ]
     },
     "execution_count": 7,
     "metadata": {},
     "output_type": "execute_result"
    }
   ],
   "source": [
    "pd.to_datetime(argentina['end_date'], errors='coerce').sort_values(ascending=False).tail(100)"
   ]
  },
  {
   "cell_type": "code",
   "execution_count": 8,
   "metadata": {},
   "outputs": [
    {
     "data": {
      "text/plain": [
       "Timestamp('2262-04-11 23:47:16.854775807')"
      ]
     },
     "execution_count": 8,
     "metadata": {},
     "output_type": "execute_result"
    }
   ],
   "source": [
    "pd.Timestamp.max"
   ]
  },
  {
   "cell_type": "code",
   "execution_count": 9,
   "metadata": {},
   "outputs": [
    {
     "data": {
      "text/plain": [
       "0         9999-12-31\n",
       "1         9999-12-31\n",
       "4         9999-12-31\n",
       "5         9999-12-31\n",
       "6         9999-12-31\n",
       "             ...    \n",
       "999977    9999-12-31\n",
       "999982    9999-12-31\n",
       "999985    9999-12-31\n",
       "999986    9999-12-31\n",
       "999998    9999-12-31\n",
       "Name: end_date, Length: 216548, dtype: object"
      ]
     },
     "execution_count": 9,
     "metadata": {},
     "output_type": "execute_result"
    }
   ],
   "source": [
    "argentina[argentina['end_date'].str.contains('9999')]['end_date']"
   ]
  },
  {
   "cell_type": "code",
   "execution_count": 10,
   "metadata": {},
   "outputs": [],
   "source": [
    "argentina['end_date'] = argentina['end_date'].str.replace('9999-12-31', '2262-04-11')"
   ]
  },
  {
   "cell_type": "code",
   "execution_count": 11,
   "metadata": {},
   "outputs": [],
   "source": [
    "argentina['end_date'] = pd.to_datetime(argentina['end_date'])"
   ]
  },
  {
   "cell_type": "code",
   "execution_count": 12,
   "metadata": {},
   "outputs": [
    {
     "data": {
      "text/plain": [
       "id                         object\n",
       "ad_type                    object\n",
       "start_date         datetime64[ns]\n",
       "end_date           datetime64[ns]\n",
       "created_on         datetime64[ns]\n",
       "lat                       float64\n",
       "lon                       float64\n",
       "l1                         object\n",
       "l2                         object\n",
       "l3                         object\n",
       "l4                         object\n",
       "l5                         object\n",
       "l6                        float64\n",
       "rooms                     float64\n",
       "bedrooms                  float64\n",
       "bathrooms                 float64\n",
       "surface_total             float64\n",
       "surface_covered           float64\n",
       "price                     float64\n",
       "currency                   object\n",
       "price_period               object\n",
       "title                      object\n",
       "description                object\n",
       "property_type              object\n",
       "operation_type             object\n",
       "dtype: object"
      ]
     },
     "execution_count": 12,
     "metadata": {},
     "output_type": "execute_result"
    }
   ],
   "source": [
    "argentina.dtypes"
   ]
  },
  {
   "cell_type": "markdown",
   "metadata": {},
   "source": [
    "#### Dealing with nulls"
   ]
  },
  {
   "cell_type": "code",
   "execution_count": 13,
   "metadata": {},
   "outputs": [
    {
     "data": {
      "text/html": [
       "<div>\n",
       "<style scoped>\n",
       "    .dataframe tbody tr th:only-of-type {\n",
       "        vertical-align: middle;\n",
       "    }\n",
       "\n",
       "    .dataframe tbody tr th {\n",
       "        vertical-align: top;\n",
       "    }\n",
       "\n",
       "    .dataframe thead th {\n",
       "        text-align: right;\n",
       "    }\n",
       "</style>\n",
       "<table border=\"1\" class=\"dataframe\">\n",
       "  <thead>\n",
       "    <tr style=\"text-align: right;\">\n",
       "      <th></th>\n",
       "      <th>Percent Null</th>\n",
       "    </tr>\n",
       "  </thead>\n",
       "  <tbody>\n",
       "    <tr>\n",
       "      <th>id</th>\n",
       "      <td>0.0000</td>\n",
       "    </tr>\n",
       "    <tr>\n",
       "      <th>ad_type</th>\n",
       "      <td>0.0000</td>\n",
       "    </tr>\n",
       "    <tr>\n",
       "      <th>start_date</th>\n",
       "      <td>0.0000</td>\n",
       "    </tr>\n",
       "    <tr>\n",
       "      <th>end_date</th>\n",
       "      <td>0.0000</td>\n",
       "    </tr>\n",
       "    <tr>\n",
       "      <th>created_on</th>\n",
       "      <td>0.0000</td>\n",
       "    </tr>\n",
       "    <tr>\n",
       "      <th>lat</th>\n",
       "      <td>15.0811</td>\n",
       "    </tr>\n",
       "    <tr>\n",
       "      <th>lon</th>\n",
       "      <td>15.1745</td>\n",
       "    </tr>\n",
       "    <tr>\n",
       "      <th>l1</th>\n",
       "      <td>0.0000</td>\n",
       "    </tr>\n",
       "    <tr>\n",
       "      <th>l2</th>\n",
       "      <td>0.0000</td>\n",
       "    </tr>\n",
       "    <tr>\n",
       "      <th>l3</th>\n",
       "      <td>5.3327</td>\n",
       "    </tr>\n",
       "    <tr>\n",
       "      <th>l4</th>\n",
       "      <td>76.0504</td>\n",
       "    </tr>\n",
       "    <tr>\n",
       "      <th>l5</th>\n",
       "      <td>99.4999</td>\n",
       "    </tr>\n",
       "    <tr>\n",
       "      <th>l6</th>\n",
       "      <td>100.0000</td>\n",
       "    </tr>\n",
       "    <tr>\n",
       "      <th>rooms</th>\n",
       "      <td>47.3577</td>\n",
       "    </tr>\n",
       "    <tr>\n",
       "      <th>bedrooms</th>\n",
       "      <td>53.3787</td>\n",
       "    </tr>\n",
       "    <tr>\n",
       "      <th>bathrooms</th>\n",
       "      <td>22.3267</td>\n",
       "    </tr>\n",
       "    <tr>\n",
       "      <th>surface_total</th>\n",
       "      <td>62.0499</td>\n",
       "    </tr>\n",
       "    <tr>\n",
       "      <th>surface_covered</th>\n",
       "      <td>61.8549</td>\n",
       "    </tr>\n",
       "    <tr>\n",
       "      <th>price</th>\n",
       "      <td>3.6902</td>\n",
       "    </tr>\n",
       "    <tr>\n",
       "      <th>currency</th>\n",
       "      <td>3.8281</td>\n",
       "    </tr>\n",
       "    <tr>\n",
       "      <th>price_period</th>\n",
       "      <td>63.6985</td>\n",
       "    </tr>\n",
       "    <tr>\n",
       "      <th>title</th>\n",
       "      <td>0.0000</td>\n",
       "    </tr>\n",
       "    <tr>\n",
       "      <th>description</th>\n",
       "      <td>0.0018</td>\n",
       "    </tr>\n",
       "    <tr>\n",
       "      <th>property_type</th>\n",
       "      <td>0.0000</td>\n",
       "    </tr>\n",
       "    <tr>\n",
       "      <th>operation_type</th>\n",
       "      <td>0.0000</td>\n",
       "    </tr>\n",
       "  </tbody>\n",
       "</table>\n",
       "</div>"
      ],
      "text/plain": [
       "                 Percent Null\n",
       "id                     0.0000\n",
       "ad_type                0.0000\n",
       "start_date             0.0000\n",
       "end_date               0.0000\n",
       "created_on             0.0000\n",
       "lat                   15.0811\n",
       "lon                   15.1745\n",
       "l1                     0.0000\n",
       "l2                     0.0000\n",
       "l3                     5.3327\n",
       "l4                    76.0504\n",
       "l5                    99.4999\n",
       "l6                   100.0000\n",
       "rooms                 47.3577\n",
       "bedrooms              53.3787\n",
       "bathrooms             22.3267\n",
       "surface_total         62.0499\n",
       "surface_covered       61.8549\n",
       "price                  3.6902\n",
       "currency               3.8281\n",
       "price_period          63.6985\n",
       "title                  0.0000\n",
       "description            0.0018\n",
       "property_type          0.0000\n",
       "operation_type         0.0000"
      ]
     },
     "execution_count": 13,
     "metadata": {},
     "output_type": "execute_result"
    }
   ],
   "source": [
    "perc_null = argentina.isnull().sum() / len(argentina) * 100\n",
    "perc_null = perc_null.to_frame()\n",
    "perc_null.columns = ['Percent Null']\n",
    "perc_null"
   ]
  },
  {
   "cell_type": "markdown",
   "metadata": {},
   "source": [
    "#### Drop unnecessary columns\n",
    "Drop Columns with 50% or more data missing and drop columns that do not have an associated price"
   ]
  },
  {
   "cell_type": "code",
   "execution_count": 14,
   "metadata": {},
   "outputs": [],
   "source": [
    "argentina.dropna(subset=['price'], inplace=True)"
   ]
  },
  {
   "cell_type": "code",
   "execution_count": 15,
   "metadata": {},
   "outputs": [
    {
     "name": "stdout",
     "output_type": "stream",
     "text": [
      "Number of columns: \t 22\n"
     ]
    }
   ],
   "source": [
    "argentina.drop(['l4', 'l5', 'l6'], axis=1, inplace=True)\n",
    "print('Number of columns: \\t', len(argentina.columns))"
   ]
  },
  {
   "cell_type": "markdown",
   "metadata": {},
   "source": [
    "Drop columns of strings that will not give us any valuable information"
   ]
  },
  {
   "cell_type": "code",
   "execution_count": 16,
   "metadata": {},
   "outputs": [],
   "source": [
    "argentina.drop(['title', 'description'], axis=1, inplace=True)"
   ]
  },
  {
   "cell_type": "markdown",
   "metadata": {},
   "source": [
    "### Impute missing values"
   ]
  },
  {
   "cell_type": "code",
   "execution_count": 17,
   "metadata": {},
   "outputs": [],
   "source": [
    "argentina = argentina.fillna({'lat': argentina.lat.mean(), \n",
    "                              'lon': argentina.lon.mean(),  \n",
    "                              'rooms': argentina.rooms.mean(), \n",
    "                              'bedrooms': argentina.bedrooms.mean(), \n",
    "                              'bathrooms': argentina.bathrooms.mean(), \n",
    "                              'surface_total': argentina.surface_total.mean(), \n",
    "                              'surface_covered': argentina.surface_covered.mean()\n",
    "                             })\n"
   ]
  },
  {
   "cell_type": "markdown",
   "metadata": {},
   "source": [
    "### Explore what kinds of values are used in the other string columns"
   ]
  },
  {
   "cell_type": "code",
   "execution_count": 18,
   "metadata": {},
   "outputs": [
    {
     "data": {
      "text/plain": [
       "Propiedad    963098\n",
       "Name: ad_type, dtype: int64"
      ]
     },
     "execution_count": 18,
     "metadata": {},
     "output_type": "execute_result"
    }
   ],
   "source": [
    "argentina.ad_type.value_counts()"
   ]
  },
  {
   "cell_type": "markdown",
   "metadata": {},
   "source": [
    "Since all of the rows contain the same value for 'ad_type', we will drop that column as well."
   ]
  },
  {
   "cell_type": "code",
   "execution_count": 19,
   "metadata": {},
   "outputs": [],
   "source": [
    "argentina.drop('ad_type', axis=1, inplace=True)"
   ]
  },
  {
   "cell_type": "code",
   "execution_count": 20,
   "metadata": {},
   "outputs": [
    {
     "data": {
      "text/plain": [
       "Argentina         949344\n",
       "Uruguay            12973\n",
       "Estados Unidos       691\n",
       "Brasil                90\n",
       "Name: l1, dtype: int64"
      ]
     },
     "execution_count": 20,
     "metadata": {},
     "output_type": "execute_result"
    }
   ],
   "source": [
    "argentina.l1.value_counts()"
   ]
  },
  {
   "cell_type": "markdown",
   "metadata": {},
   "source": [
    "This can be one-hot encoded"
   ]
  },
  {
   "cell_type": "code",
   "execution_count": 21,
   "metadata": {},
   "outputs": [
    {
     "data": {
      "text/plain": [
       "Capital Federal                 236394\n",
       "Buenos Aires Costa Atlántica    173184\n",
       "Bs.As. G.B.A. Zona Norte        135002\n",
       "Bs.As. G.B.A. Zona Sur          121301\n",
       "Santa Fe                         79210\n",
       "Bs.As. G.B.A. Zona Oeste         73197\n",
       "Córdoba                          64550\n",
       "Buenos Aires Interior            21287\n",
       "Neuquén                           9028\n",
       "Mendoza                           7482\n",
       "Maldonado                         6906\n",
       "Misiones                          5003\n",
       "Entre Ríos                        4495\n",
       "Montevideo                        4313\n",
       "Río Negro                         4193\n",
       "Tucumán                           4138\n",
       "Salta                             2889\n",
       "San Luis                          1748\n",
       "Colonia                           1101\n",
       "Chaco                              966\n",
       "La Pampa                           895\n",
       "Corrientes                         838\n",
       "San Juan                           792\n",
       "Chubut                             786\n",
       "Canelones                          515\n",
       "Jujuy                              513\n",
       "Florida                            375\n",
       "Tierra Del Fuego                   319\n",
       "Catamarca                          316\n",
       "Santa Cruz                         311\n",
       "La Rioja                           270\n",
       "Michigan                           172\n",
       "Santiago Del Estero                172\n",
       "Rocha                              138\n",
       "Miami                              101\n",
       "Formosa                             65\n",
       "Santa Catarina                      47\n",
       "Maryland                            30\n",
       "Rio Grande do Norte                 19\n",
       "São Paulo                           15\n",
       "Pennsylvania                        12\n",
       "Rio de Janeiro                       9\n",
       "New York                             1\n",
       "Name: l2, dtype: int64"
      ]
     },
     "execution_count": 21,
     "metadata": {},
     "output_type": "execute_result"
    }
   ],
   "source": [
    "argentina.l2.value_counts()"
   ]
  },
  {
   "cell_type": "code",
   "execution_count": 22,
   "metadata": {},
   "outputs": [
    {
     "data": {
      "text/plain": [
       "Mar del Plata            151696\n",
       "Rosario                   59051\n",
       "Tigre                     41433\n",
       "La Plata                  37101\n",
       "Palermo                   34382\n",
       "                          ...  \n",
       "Santa Clara (Mendoza)         1\n",
       "Cañada Rosquín                1\n",
       "Las Perlas                    1\n",
       "Campo Largo                   1\n",
       "Las Toscas                    1\n",
       "Name: l3, Length: 1209, dtype: int64"
      ]
     },
     "execution_count": 22,
     "metadata": {},
     "output_type": "execute_result"
    }
   ],
   "source": [
    "argentina.l3.value_counts()"
   ]
  },
  {
   "cell_type": "code",
   "execution_count": 23,
   "metadata": {},
   "outputs": [
    {
     "data": {
      "text/plain": [
       "USD    757617\n",
       "ARS    202179\n",
       "UYU      1692\n",
       "PEN       231\n",
       "Name: currency, dtype: int64"
      ]
     },
     "execution_count": 23,
     "metadata": {},
     "output_type": "execute_result"
    }
   ],
   "source": [
    "argentina.currency.value_counts()"
   ]
  },
  {
   "cell_type": "code",
   "execution_count": 24,
   "metadata": {},
   "outputs": [
    {
     "data": {
      "text/plain": [
       "Mensual    338986\n",
       "Semanal        29\n",
       "Diario          4\n",
       "Name: price_period, dtype: int64"
      ]
     },
     "execution_count": 24,
     "metadata": {},
     "output_type": "execute_result"
    }
   ],
   "source": [
    "argentina.price_period.value_counts()"
   ]
  },
  {
   "cell_type": "code",
   "execution_count": 25,
   "metadata": {},
   "outputs": [
    {
     "data": {
      "text/plain": [
       "Departamento       360464\n",
       "Otro               237032\n",
       "Casa               179869\n",
       "Lote                78850\n",
       "PH                  34076\n",
       "Local comercial     32159\n",
       "Oficina             25045\n",
       "Cochera              8037\n",
       "Depósito             6085\n",
       "Casa de campo        1481\n",
       "Name: property_type, dtype: int64"
      ]
     },
     "execution_count": 25,
     "metadata": {},
     "output_type": "execute_result"
    }
   ],
   "source": [
    "argentina.property_type.value_counts()"
   ]
  },
  {
   "cell_type": "markdown",
   "metadata": {},
   "source": [
    "### Translate to English"
   ]
  },
  {
   "cell_type": "code",
   "execution_count": 26,
   "metadata": {},
   "outputs": [],
   "source": [
    "argentina['property_type'] = argentina['property_type'].replace({'Departamento':'Department',\n",
    "                                                                 'Otro': 'Other', \n",
    "                                                                 'Casa': 'House', \n",
    "                                                                 'Lote': 'Lot', \n",
    "                                                                 'Local comercial': 'Shop', \n",
    "                                                                 'Oficina': 'Office', \n",
    "                                                                 'Cochera': 'Garage', \n",
    "                                                                 'Depósito': 'Warehouse', \n",
    "                                                                 'Casa de campo': 'Cottage'\n",
    "                                                                })"
   ]
  },
  {
   "cell_type": "code",
   "execution_count": 27,
   "metadata": {},
   "outputs": [
    {
     "data": {
      "text/plain": [
       "Venta                755922\n",
       "Alquiler             177278\n",
       "Alquiler temporal     29898\n",
       "Name: operation_type, dtype: int64"
      ]
     },
     "execution_count": 27,
     "metadata": {},
     "output_type": "execute_result"
    }
   ],
   "source": [
    "argentina.operation_type.value_counts()"
   ]
  },
  {
   "cell_type": "markdown",
   "metadata": {},
   "source": [
    "Translate to english"
   ]
  },
  {
   "cell_type": "code",
   "execution_count": 28,
   "metadata": {},
   "outputs": [],
   "source": [
    "argentina['operation_type'] = argentina['operation_type'].replace({'Venta':'For Sale',\n",
    "                                                                 'Alquiler': 'For Rent', \n",
    "                                                                 'Alquiler temporal': 'For Sublease'\n",
    "                                                                  })"
   ]
  },
  {
   "cell_type": "code",
   "execution_count": 29,
   "metadata": {},
   "outputs": [
    {
     "data": {
      "text/html": [
       "<div>\n",
       "<style scoped>\n",
       "    .dataframe tbody tr th:only-of-type {\n",
       "        vertical-align: middle;\n",
       "    }\n",
       "\n",
       "    .dataframe tbody tr th {\n",
       "        vertical-align: top;\n",
       "    }\n",
       "\n",
       "    .dataframe thead th {\n",
       "        text-align: right;\n",
       "    }\n",
       "</style>\n",
       "<table border=\"1\" class=\"dataframe\">\n",
       "  <thead>\n",
       "    <tr style=\"text-align: right;\">\n",
       "      <th></th>\n",
       "      <th>lat</th>\n",
       "      <th>lon</th>\n",
       "      <th>rooms</th>\n",
       "      <th>bedrooms</th>\n",
       "      <th>bathrooms</th>\n",
       "      <th>surface_total</th>\n",
       "      <th>surface_covered</th>\n",
       "      <th>price</th>\n",
       "    </tr>\n",
       "  </thead>\n",
       "  <tbody>\n",
       "    <tr>\n",
       "      <th>count</th>\n",
       "      <td>963098.000000</td>\n",
       "      <td>963098.000000</td>\n",
       "      <td>963098.000000</td>\n",
       "      <td>963098.000000</td>\n",
       "      <td>963098.00000</td>\n",
       "      <td>963098.000000</td>\n",
       "      <td>9.630980e+05</td>\n",
       "      <td>9.630980e+05</td>\n",
       "    </tr>\n",
       "    <tr>\n",
       "      <th>mean</th>\n",
       "      <td>-34.816634</td>\n",
       "      <td>-59.193616</td>\n",
       "      <td>2.844661</td>\n",
       "      <td>2.084058</td>\n",
       "      <td>1.70148</td>\n",
       "      <td>474.884308</td>\n",
       "      <td>6.370155e+03</td>\n",
       "      <td>3.285948e+05</td>\n",
       "    </tr>\n",
       "    <tr>\n",
       "      <th>std</th>\n",
       "      <td>2.711359</td>\n",
       "      <td>2.366182</td>\n",
       "      <td>1.210602</td>\n",
       "      <td>1.489370</td>\n",
       "      <td>0.94590</td>\n",
       "      <td>2499.260252</td>\n",
       "      <td>2.188542e+06</td>\n",
       "      <td>1.192329e+07</td>\n",
       "    </tr>\n",
       "    <tr>\n",
       "      <th>min</th>\n",
       "      <td>-54.840886</td>\n",
       "      <td>-119.699390</td>\n",
       "      <td>1.000000</td>\n",
       "      <td>-16.000000</td>\n",
       "      <td>1.00000</td>\n",
       "      <td>-136.000000</td>\n",
       "      <td>-1.300000e+02</td>\n",
       "      <td>0.000000e+00</td>\n",
       "    </tr>\n",
       "    <tr>\n",
       "      <th>25%</th>\n",
       "      <td>-34.816634</td>\n",
       "      <td>-59.193616</td>\n",
       "      <td>2.844661</td>\n",
       "      <td>2.000000</td>\n",
       "      <td>1.00000</td>\n",
       "      <td>178.000000</td>\n",
       "      <td>1.200000e+02</td>\n",
       "      <td>4.200000e+04</td>\n",
       "    </tr>\n",
       "    <tr>\n",
       "      <th>50%</th>\n",
       "      <td>-34.649614</td>\n",
       "      <td>-58.498129</td>\n",
       "      <td>2.844661</td>\n",
       "      <td>2.084058</td>\n",
       "      <td>1.70148</td>\n",
       "      <td>474.884308</td>\n",
       "      <td>6.370155e+03</td>\n",
       "      <td>9.800000e+04</td>\n",
       "    </tr>\n",
       "    <tr>\n",
       "      <th>75%</th>\n",
       "      <td>-34.548750</td>\n",
       "      <td>-58.373499</td>\n",
       "      <td>3.000000</td>\n",
       "      <td>2.084058</td>\n",
       "      <td>2.00000</td>\n",
       "      <td>474.884308</td>\n",
       "      <td>6.370155e+03</td>\n",
       "      <td>2.100000e+05</td>\n",
       "    </tr>\n",
       "    <tr>\n",
       "      <th>max</th>\n",
       "      <td>85.051129</td>\n",
       "      <td>-1.981231</td>\n",
       "      <td>40.000000</td>\n",
       "      <td>900.000000</td>\n",
       "      <td>20.00000</td>\n",
       "      <td>200000.000000</td>\n",
       "      <td>2.147484e+09</td>\n",
       "      <td>1.000000e+10</td>\n",
       "    </tr>\n",
       "  </tbody>\n",
       "</table>\n",
       "</div>"
      ],
      "text/plain": [
       "                 lat            lon          rooms       bedrooms  \\\n",
       "count  963098.000000  963098.000000  963098.000000  963098.000000   \n",
       "mean      -34.816634     -59.193616       2.844661       2.084058   \n",
       "std         2.711359       2.366182       1.210602       1.489370   \n",
       "min       -54.840886    -119.699390       1.000000     -16.000000   \n",
       "25%       -34.816634     -59.193616       2.844661       2.000000   \n",
       "50%       -34.649614     -58.498129       2.844661       2.084058   \n",
       "75%       -34.548750     -58.373499       3.000000       2.084058   \n",
       "max        85.051129      -1.981231      40.000000     900.000000   \n",
       "\n",
       "          bathrooms  surface_total  surface_covered         price  \n",
       "count  963098.00000  963098.000000     9.630980e+05  9.630980e+05  \n",
       "mean        1.70148     474.884308     6.370155e+03  3.285948e+05  \n",
       "std         0.94590    2499.260252     2.188542e+06  1.192329e+07  \n",
       "min         1.00000    -136.000000    -1.300000e+02  0.000000e+00  \n",
       "25%         1.00000     178.000000     1.200000e+02  4.200000e+04  \n",
       "50%         1.70148     474.884308     6.370155e+03  9.800000e+04  \n",
       "75%         2.00000     474.884308     6.370155e+03  2.100000e+05  \n",
       "max        20.00000  200000.000000     2.147484e+09  1.000000e+10  "
      ]
     },
     "execution_count": 29,
     "metadata": {},
     "output_type": "execute_result"
    }
   ],
   "source": [
    "argentina.describe()"
   ]
  },
  {
   "cell_type": "code",
   "execution_count": 30,
   "metadata": {},
   "outputs": [
    {
     "data": {
      "text/plain": [
       "Mar del Plata            151696\n",
       "Rosario                   59051\n",
       "Tigre                     41433\n",
       "La Plata                  37101\n",
       "Palermo                   34382\n",
       "                          ...  \n",
       "Santa Clara (Mendoza)         1\n",
       "Cañada Rosquín                1\n",
       "Las Perlas                    1\n",
       "Campo Largo                   1\n",
       "Las Toscas                    1\n",
       "Name: l3, Length: 1209, dtype: int64"
      ]
     },
     "execution_count": 30,
     "metadata": {},
     "output_type": "execute_result"
    }
   ],
   "source": [
    "argentina.l3.value_counts()"
   ]
  },
  {
   "cell_type": "markdown",
   "metadata": {},
   "source": [
    "### Find ways to impute values for l3, currency, price period\n",
    "#### l3"
   ]
  },
  {
   "cell_type": "code",
   "execution_count": 31,
   "metadata": {},
   "outputs": [
    {
     "data": {
      "text/html": [
       "<div>\n",
       "<style scoped>\n",
       "    .dataframe tbody tr th:only-of-type {\n",
       "        vertical-align: middle;\n",
       "    }\n",
       "\n",
       "    .dataframe tbody tr th {\n",
       "        vertical-align: top;\n",
       "    }\n",
       "\n",
       "    .dataframe thead th {\n",
       "        text-align: right;\n",
       "    }\n",
       "</style>\n",
       "<table border=\"1\" class=\"dataframe\">\n",
       "  <thead>\n",
       "    <tr style=\"text-align: right;\">\n",
       "      <th></th>\n",
       "      <th>l1</th>\n",
       "      <th>l2</th>\n",
       "      <th>l3</th>\n",
       "    </tr>\n",
       "  </thead>\n",
       "  <tbody>\n",
       "    <tr>\n",
       "      <th>40</th>\n",
       "      <td>Argentina</td>\n",
       "      <td>Córdoba</td>\n",
       "      <td>NaN</td>\n",
       "    </tr>\n",
       "    <tr>\n",
       "      <th>61</th>\n",
       "      <td>Argentina</td>\n",
       "      <td>Salta</td>\n",
       "      <td>NaN</td>\n",
       "    </tr>\n",
       "    <tr>\n",
       "      <th>101</th>\n",
       "      <td>Argentina</td>\n",
       "      <td>Neuquén</td>\n",
       "      <td>NaN</td>\n",
       "    </tr>\n",
       "    <tr>\n",
       "      <th>218</th>\n",
       "      <td>Argentina</td>\n",
       "      <td>Tucumán</td>\n",
       "      <td>NaN</td>\n",
       "    </tr>\n",
       "    <tr>\n",
       "      <th>353</th>\n",
       "      <td>Argentina</td>\n",
       "      <td>Bs.As. G.B.A. Zona Norte</td>\n",
       "      <td>NaN</td>\n",
       "    </tr>\n",
       "    <tr>\n",
       "      <th>545</th>\n",
       "      <td>Uruguay</td>\n",
       "      <td>Colonia</td>\n",
       "      <td>NaN</td>\n",
       "    </tr>\n",
       "    <tr>\n",
       "      <th>549</th>\n",
       "      <td>Uruguay</td>\n",
       "      <td>Canelones</td>\n",
       "      <td>NaN</td>\n",
       "    </tr>\n",
       "    <tr>\n",
       "      <th>550</th>\n",
       "      <td>Estados Unidos</td>\n",
       "      <td>Florida</td>\n",
       "      <td>NaN</td>\n",
       "    </tr>\n",
       "    <tr>\n",
       "      <th>551</th>\n",
       "      <td>Uruguay</td>\n",
       "      <td>Montevideo</td>\n",
       "      <td>NaN</td>\n",
       "    </tr>\n",
       "    <tr>\n",
       "      <th>774</th>\n",
       "      <td>Argentina</td>\n",
       "      <td>Río Negro</td>\n",
       "      <td>NaN</td>\n",
       "    </tr>\n",
       "    <tr>\n",
       "      <th>839</th>\n",
       "      <td>Argentina</td>\n",
       "      <td>Capital Federal</td>\n",
       "      <td>NaN</td>\n",
       "    </tr>\n",
       "    <tr>\n",
       "      <th>1248</th>\n",
       "      <td>Argentina</td>\n",
       "      <td>Mendoza</td>\n",
       "      <td>NaN</td>\n",
       "    </tr>\n",
       "    <tr>\n",
       "      <th>1317</th>\n",
       "      <td>Uruguay</td>\n",
       "      <td>Maldonado</td>\n",
       "      <td>NaN</td>\n",
       "    </tr>\n",
       "    <tr>\n",
       "      <th>3209</th>\n",
       "      <td>Argentina</td>\n",
       "      <td>Bs.As. G.B.A. Zona Sur</td>\n",
       "      <td>NaN</td>\n",
       "    </tr>\n",
       "    <tr>\n",
       "      <th>3956</th>\n",
       "      <td>Argentina</td>\n",
       "      <td>Santa Fe</td>\n",
       "      <td>NaN</td>\n",
       "    </tr>\n",
       "    <tr>\n",
       "      <th>6507</th>\n",
       "      <td>Argentina</td>\n",
       "      <td>Bs.As. G.B.A. Zona Oeste</td>\n",
       "      <td>NaN</td>\n",
       "    </tr>\n",
       "    <tr>\n",
       "      <th>7522</th>\n",
       "      <td>Argentina</td>\n",
       "      <td>San Juan</td>\n",
       "      <td>NaN</td>\n",
       "    </tr>\n",
       "    <tr>\n",
       "      <th>7639</th>\n",
       "      <td>Estados Unidos</td>\n",
       "      <td>Miami</td>\n",
       "      <td>NaN</td>\n",
       "    </tr>\n",
       "    <tr>\n",
       "      <th>7683</th>\n",
       "      <td>Argentina</td>\n",
       "      <td>Misiones</td>\n",
       "      <td>NaN</td>\n",
       "    </tr>\n",
       "    <tr>\n",
       "      <th>9792</th>\n",
       "      <td>Argentina</td>\n",
       "      <td>Buenos Aires Costa Atlántica</td>\n",
       "      <td>NaN</td>\n",
       "    </tr>\n",
       "    <tr>\n",
       "      <th>10545</th>\n",
       "      <td>Argentina</td>\n",
       "      <td>San Luis</td>\n",
       "      <td>NaN</td>\n",
       "    </tr>\n",
       "    <tr>\n",
       "      <th>11896</th>\n",
       "      <td>Argentina</td>\n",
       "      <td>Tierra Del Fuego</td>\n",
       "      <td>NaN</td>\n",
       "    </tr>\n",
       "    <tr>\n",
       "      <th>14001</th>\n",
       "      <td>Argentina</td>\n",
       "      <td>Entre Ríos</td>\n",
       "      <td>NaN</td>\n",
       "    </tr>\n",
       "    <tr>\n",
       "      <th>18451</th>\n",
       "      <td>Uruguay</td>\n",
       "      <td>Rocha</td>\n",
       "      <td>NaN</td>\n",
       "    </tr>\n",
       "    <tr>\n",
       "      <th>22682</th>\n",
       "      <td>Brasil</td>\n",
       "      <td>Rio Grande do Norte</td>\n",
       "      <td>NaN</td>\n",
       "    </tr>\n",
       "    <tr>\n",
       "      <th>26788</th>\n",
       "      <td>Argentina</td>\n",
       "      <td>Chaco</td>\n",
       "      <td>NaN</td>\n",
       "    </tr>\n",
       "    <tr>\n",
       "      <th>29953</th>\n",
       "      <td>Brasil</td>\n",
       "      <td>Santa Catarina</td>\n",
       "      <td>NaN</td>\n",
       "    </tr>\n",
       "    <tr>\n",
       "      <th>30322</th>\n",
       "      <td>Estados Unidos</td>\n",
       "      <td>Maryland</td>\n",
       "      <td>NaN</td>\n",
       "    </tr>\n",
       "    <tr>\n",
       "      <th>36617</th>\n",
       "      <td>Argentina</td>\n",
       "      <td>Corrientes</td>\n",
       "      <td>NaN</td>\n",
       "    </tr>\n",
       "    <tr>\n",
       "      <th>48294</th>\n",
       "      <td>Argentina</td>\n",
       "      <td>Chubut</td>\n",
       "      <td>NaN</td>\n",
       "    </tr>\n",
       "    <tr>\n",
       "      <th>49616</th>\n",
       "      <td>Estados Unidos</td>\n",
       "      <td>Michigan</td>\n",
       "      <td>NaN</td>\n",
       "    </tr>\n",
       "    <tr>\n",
       "      <th>58657</th>\n",
       "      <td>Argentina</td>\n",
       "      <td>Jujuy</td>\n",
       "      <td>NaN</td>\n",
       "    </tr>\n",
       "    <tr>\n",
       "      <th>63145</th>\n",
       "      <td>Argentina</td>\n",
       "      <td>Santiago Del Estero</td>\n",
       "      <td>NaN</td>\n",
       "    </tr>\n",
       "    <tr>\n",
       "      <th>68178</th>\n",
       "      <td>Argentina</td>\n",
       "      <td>Buenos Aires Interior</td>\n",
       "      <td>NaN</td>\n",
       "    </tr>\n",
       "    <tr>\n",
       "      <th>97950</th>\n",
       "      <td>Argentina</td>\n",
       "      <td>La Rioja</td>\n",
       "      <td>NaN</td>\n",
       "    </tr>\n",
       "    <tr>\n",
       "      <th>104646</th>\n",
       "      <td>Argentina</td>\n",
       "      <td>La Pampa</td>\n",
       "      <td>NaN</td>\n",
       "    </tr>\n",
       "    <tr>\n",
       "      <th>162436</th>\n",
       "      <td>Argentina</td>\n",
       "      <td>Catamarca</td>\n",
       "      <td>NaN</td>\n",
       "    </tr>\n",
       "    <tr>\n",
       "      <th>377563</th>\n",
       "      <td>Argentina</td>\n",
       "      <td>Santa Cruz</td>\n",
       "      <td>NaN</td>\n",
       "    </tr>\n",
       "    <tr>\n",
       "      <th>383288</th>\n",
       "      <td>Argentina</td>\n",
       "      <td>Formosa</td>\n",
       "      <td>NaN</td>\n",
       "    </tr>\n",
       "    <tr>\n",
       "      <th>986418</th>\n",
       "      <td>Estados Unidos</td>\n",
       "      <td>New York</td>\n",
       "      <td>NaN</td>\n",
       "    </tr>\n",
       "  </tbody>\n",
       "</table>\n",
       "</div>"
      ],
      "text/plain": [
       "                    l1                            l2   l3\n",
       "40           Argentina                       Córdoba  NaN\n",
       "61           Argentina                         Salta  NaN\n",
       "101          Argentina                       Neuquén  NaN\n",
       "218          Argentina                       Tucumán  NaN\n",
       "353          Argentina      Bs.As. G.B.A. Zona Norte  NaN\n",
       "545            Uruguay                       Colonia  NaN\n",
       "549            Uruguay                     Canelones  NaN\n",
       "550     Estados Unidos                       Florida  NaN\n",
       "551            Uruguay                    Montevideo  NaN\n",
       "774          Argentina                     Río Negro  NaN\n",
       "839          Argentina               Capital Federal  NaN\n",
       "1248         Argentina                       Mendoza  NaN\n",
       "1317           Uruguay                     Maldonado  NaN\n",
       "3209         Argentina        Bs.As. G.B.A. Zona Sur  NaN\n",
       "3956         Argentina                      Santa Fe  NaN\n",
       "6507         Argentina      Bs.As. G.B.A. Zona Oeste  NaN\n",
       "7522         Argentina                      San Juan  NaN\n",
       "7639    Estados Unidos                         Miami  NaN\n",
       "7683         Argentina                      Misiones  NaN\n",
       "9792         Argentina  Buenos Aires Costa Atlántica  NaN\n",
       "10545        Argentina                      San Luis  NaN\n",
       "11896        Argentina              Tierra Del Fuego  NaN\n",
       "14001        Argentina                    Entre Ríos  NaN\n",
       "18451          Uruguay                         Rocha  NaN\n",
       "22682           Brasil           Rio Grande do Norte  NaN\n",
       "26788        Argentina                         Chaco  NaN\n",
       "29953           Brasil                Santa Catarina  NaN\n",
       "30322   Estados Unidos                      Maryland  NaN\n",
       "36617        Argentina                    Corrientes  NaN\n",
       "48294        Argentina                        Chubut  NaN\n",
       "49616   Estados Unidos                      Michigan  NaN\n",
       "58657        Argentina                         Jujuy  NaN\n",
       "63145        Argentina           Santiago Del Estero  NaN\n",
       "68178        Argentina         Buenos Aires Interior  NaN\n",
       "97950        Argentina                      La Rioja  NaN\n",
       "104646       Argentina                      La Pampa  NaN\n",
       "162436       Argentina                     Catamarca  NaN\n",
       "377563       Argentina                    Santa Cruz  NaN\n",
       "383288       Argentina                       Formosa  NaN\n",
       "986418  Estados Unidos                      New York  NaN"
      ]
     },
     "execution_count": 31,
     "metadata": {},
     "output_type": "execute_result"
    }
   ],
   "source": [
    "missing_l3s = argentina[argentina.l3.isnull()][['l1','l2', 'l3']].drop_duplicates()\n",
    "missing_l3s"
   ]
  },
  {
   "cell_type": "code",
   "execution_count": 32,
   "metadata": {},
   "outputs": [
    {
     "data": {
      "text/plain": [
       "array([['Argentina', 'Córdoba', nan],\n",
       "       ['Argentina', 'Salta', nan],\n",
       "       ['Argentina', 'Neuquén', nan],\n",
       "       ['Argentina', 'Tucumán', nan],\n",
       "       ['Argentina', 'Bs.As. G.B.A. Zona Norte', nan],\n",
       "       ['Uruguay', 'Colonia', nan],\n",
       "       ['Uruguay', 'Canelones', nan],\n",
       "       ['Estados Unidos', 'Florida', nan],\n",
       "       ['Uruguay', 'Montevideo', nan],\n",
       "       ['Argentina', 'Río Negro', nan],\n",
       "       ['Argentina', 'Capital Federal', nan],\n",
       "       ['Argentina', 'Mendoza', nan],\n",
       "       ['Uruguay', 'Maldonado', nan],\n",
       "       ['Argentina', 'Bs.As. G.B.A. Zona Sur', nan],\n",
       "       ['Argentina', 'Santa Fe', nan],\n",
       "       ['Argentina', 'Bs.As. G.B.A. Zona Oeste', nan],\n",
       "       ['Argentina', 'San Juan', nan],\n",
       "       ['Estados Unidos', 'Miami', nan],\n",
       "       ['Argentina', 'Misiones', nan],\n",
       "       ['Argentina', 'Buenos Aires Costa Atlántica', nan],\n",
       "       ['Argentina', 'San Luis', nan],\n",
       "       ['Argentina', 'Tierra Del Fuego', nan],\n",
       "       ['Argentina', 'Entre Ríos', nan],\n",
       "       ['Uruguay', 'Rocha', nan],\n",
       "       ['Brasil', 'Rio Grande do Norte', nan],\n",
       "       ['Argentina', 'Chaco', nan],\n",
       "       ['Brasil', 'Santa Catarina', nan],\n",
       "       ['Estados Unidos', 'Maryland', nan],\n",
       "       ['Argentina', 'Corrientes', nan],\n",
       "       ['Argentina', 'Chubut', nan],\n",
       "       ['Estados Unidos', 'Michigan', nan],\n",
       "       ['Argentina', 'Jujuy', nan],\n",
       "       ['Argentina', 'Santiago Del Estero', nan],\n",
       "       ['Argentina', 'Buenos Aires Interior', nan],\n",
       "       ['Argentina', 'La Rioja', nan],\n",
       "       ['Argentina', 'La Pampa', nan],\n",
       "       ['Argentina', 'Catamarca', nan],\n",
       "       ['Argentina', 'Santa Cruz', nan],\n",
       "       ['Argentina', 'Formosa', nan],\n",
       "       ['Estados Unidos', 'New York', nan]], dtype=object)"
      ]
     },
     "execution_count": 32,
     "metadata": {},
     "output_type": "execute_result"
    }
   ],
   "source": [
    "#argentina[argentina.l2 == 'Santa Cruz'].l3.mode()[0]\n",
    "missing_l3s.values"
   ]
  },
  {
   "cell_type": "code",
   "execution_count": 33,
   "metadata": {},
   "outputs": [
    {
     "name": "stdout",
     "output_type": "stream",
     "text": [
      "Córdoba\n"
     ]
    }
   ],
   "source": [
    "import math\n",
    "math.isnan(np.nan)\n",
    "print(argentina[argentina.l2 == 'Córdoba'].l3.mode()[0])"
   ]
  },
  {
   "cell_type": "code",
   "execution_count": 35,
   "metadata": {},
   "outputs": [
    {
     "name": "stdout",
     "output_type": "stream",
     "text": [
      "['Argentina' 'Córdoba' 'Córdoba']\n",
      "['Argentina' 'Salta' 'Salta']\n",
      "['Argentina' 'Neuquén' 'Confluencia']\n",
      "['Argentina' 'Tucumán' 'San Miguel de Tucumán']\n",
      "['Argentina' 'Bs.As. G.B.A. Zona Norte' 'Tigre']\n",
      "['Uruguay' 'Colonia' 'Carmelo']\n"
     ]
    },
    {
     "ename": "KeyError",
     "evalue": "0",
     "output_type": "error",
     "traceback": [
      "\u001b[0;31m---------------------------------------------------------------------------\u001b[0m",
      "\u001b[0;31mValueError\u001b[0m                                Traceback (most recent call last)",
      "\u001b[0;32m~/anaconda3/lib/python3.8/site-packages/pandas/core/indexes/range.py\u001b[0m in \u001b[0;36mget_loc\u001b[0;34m(self, key, method, tolerance)\u001b[0m\n\u001b[1;32m    350\u001b[0m                 \u001b[0;32mtry\u001b[0m\u001b[0;34m:\u001b[0m\u001b[0;34m\u001b[0m\u001b[0;34m\u001b[0m\u001b[0m\n\u001b[0;32m--> 351\u001b[0;31m                     \u001b[0;32mreturn\u001b[0m \u001b[0mself\u001b[0m\u001b[0;34m.\u001b[0m\u001b[0m_range\u001b[0m\u001b[0;34m.\u001b[0m\u001b[0mindex\u001b[0m\u001b[0;34m(\u001b[0m\u001b[0mnew_key\u001b[0m\u001b[0;34m)\u001b[0m\u001b[0;34m\u001b[0m\u001b[0;34m\u001b[0m\u001b[0m\n\u001b[0m\u001b[1;32m    352\u001b[0m                 \u001b[0;32mexcept\u001b[0m \u001b[0mValueError\u001b[0m \u001b[0;32mas\u001b[0m \u001b[0merr\u001b[0m\u001b[0;34m:\u001b[0m\u001b[0;34m\u001b[0m\u001b[0;34m\u001b[0m\u001b[0m\n",
      "\u001b[0;31mValueError\u001b[0m: 0 is not in range",
      "\nThe above exception was the direct cause of the following exception:\n",
      "\u001b[0;31mKeyError\u001b[0m                                  Traceback (most recent call last)",
      "\u001b[0;32m<ipython-input-35-084febb57c98>\u001b[0m in \u001b[0;36m<module>\u001b[0;34m\u001b[0m\n\u001b[1;32m      1\u001b[0m \u001b[0;32mfor\u001b[0m \u001b[0mrow\u001b[0m \u001b[0;32min\u001b[0m \u001b[0mmissing_l3s\u001b[0m\u001b[0;34m.\u001b[0m\u001b[0mvalues\u001b[0m\u001b[0;34m:\u001b[0m\u001b[0;34m\u001b[0m\u001b[0;34m\u001b[0m\u001b[0m\n\u001b[1;32m      2\u001b[0m     \u001b[0ml2\u001b[0m \u001b[0;34m=\u001b[0m \u001b[0mrow\u001b[0m\u001b[0;34m[\u001b[0m\u001b[0;36m1\u001b[0m\u001b[0;34m]\u001b[0m\u001b[0;34m\u001b[0m\u001b[0;34m\u001b[0m\u001b[0m\n\u001b[0;32m----> 3\u001b[0;31m     \u001b[0mrow\u001b[0m\u001b[0;34m[\u001b[0m\u001b[0;36m2\u001b[0m\u001b[0;34m]\u001b[0m \u001b[0;34m=\u001b[0m \u001b[0margentina\u001b[0m\u001b[0;34m[\u001b[0m\u001b[0margentina\u001b[0m\u001b[0;34m.\u001b[0m\u001b[0ml2\u001b[0m \u001b[0;34m==\u001b[0m \u001b[0ml2\u001b[0m\u001b[0;34m]\u001b[0m\u001b[0;34m.\u001b[0m\u001b[0ml3\u001b[0m\u001b[0;34m.\u001b[0m\u001b[0mmode\u001b[0m\u001b[0;34m(\u001b[0m\u001b[0;34m)\u001b[0m\u001b[0;34m[\u001b[0m\u001b[0;36m0\u001b[0m\u001b[0;34m]\u001b[0m\u001b[0;34m\u001b[0m\u001b[0;34m\u001b[0m\u001b[0m\n\u001b[0m\u001b[1;32m      4\u001b[0m     \u001b[0mprint\u001b[0m\u001b[0;34m(\u001b[0m\u001b[0mrow\u001b[0m\u001b[0;34m)\u001b[0m\u001b[0;34m\u001b[0m\u001b[0;34m\u001b[0m\u001b[0m\n\u001b[1;32m      5\u001b[0m \u001b[0;31m#this gives me an error, have to handle edge cases now\u001b[0m\u001b[0;34m\u001b[0m\u001b[0;34m\u001b[0m\u001b[0;34m\u001b[0m\u001b[0m\n",
      "\u001b[0;32m~/anaconda3/lib/python3.8/site-packages/pandas/core/series.py\u001b[0m in \u001b[0;36m__getitem__\u001b[0;34m(self, key)\u001b[0m\n\u001b[1;32m    851\u001b[0m \u001b[0;34m\u001b[0m\u001b[0m\n\u001b[1;32m    852\u001b[0m         \u001b[0;32melif\u001b[0m \u001b[0mkey_is_scalar\u001b[0m\u001b[0;34m:\u001b[0m\u001b[0;34m\u001b[0m\u001b[0;34m\u001b[0m\u001b[0m\n\u001b[0;32m--> 853\u001b[0;31m             \u001b[0;32mreturn\u001b[0m \u001b[0mself\u001b[0m\u001b[0;34m.\u001b[0m\u001b[0m_get_value\u001b[0m\u001b[0;34m(\u001b[0m\u001b[0mkey\u001b[0m\u001b[0;34m)\u001b[0m\u001b[0;34m\u001b[0m\u001b[0;34m\u001b[0m\u001b[0m\n\u001b[0m\u001b[1;32m    854\u001b[0m \u001b[0;34m\u001b[0m\u001b[0m\n\u001b[1;32m    855\u001b[0m         \u001b[0;32mif\u001b[0m \u001b[0mis_hashable\u001b[0m\u001b[0;34m(\u001b[0m\u001b[0mkey\u001b[0m\u001b[0;34m)\u001b[0m\u001b[0;34m:\u001b[0m\u001b[0;34m\u001b[0m\u001b[0;34m\u001b[0m\u001b[0m\n",
      "\u001b[0;32m~/anaconda3/lib/python3.8/site-packages/pandas/core/series.py\u001b[0m in \u001b[0;36m_get_value\u001b[0;34m(self, label, takeable)\u001b[0m\n\u001b[1;32m    959\u001b[0m \u001b[0;34m\u001b[0m\u001b[0m\n\u001b[1;32m    960\u001b[0m         \u001b[0;31m# Similar to Index.get_value, but we do not fall back to positional\u001b[0m\u001b[0;34m\u001b[0m\u001b[0;34m\u001b[0m\u001b[0;34m\u001b[0m\u001b[0m\n\u001b[0;32m--> 961\u001b[0;31m         \u001b[0mloc\u001b[0m \u001b[0;34m=\u001b[0m \u001b[0mself\u001b[0m\u001b[0;34m.\u001b[0m\u001b[0mindex\u001b[0m\u001b[0;34m.\u001b[0m\u001b[0mget_loc\u001b[0m\u001b[0;34m(\u001b[0m\u001b[0mlabel\u001b[0m\u001b[0;34m)\u001b[0m\u001b[0;34m\u001b[0m\u001b[0;34m\u001b[0m\u001b[0m\n\u001b[0m\u001b[1;32m    962\u001b[0m         \u001b[0;32mreturn\u001b[0m \u001b[0mself\u001b[0m\u001b[0;34m.\u001b[0m\u001b[0mindex\u001b[0m\u001b[0;34m.\u001b[0m\u001b[0m_get_values_for_loc\u001b[0m\u001b[0;34m(\u001b[0m\u001b[0mself\u001b[0m\u001b[0;34m,\u001b[0m \u001b[0mloc\u001b[0m\u001b[0;34m,\u001b[0m \u001b[0mlabel\u001b[0m\u001b[0;34m)\u001b[0m\u001b[0;34m\u001b[0m\u001b[0;34m\u001b[0m\u001b[0m\n\u001b[1;32m    963\u001b[0m \u001b[0;34m\u001b[0m\u001b[0m\n",
      "\u001b[0;32m~/anaconda3/lib/python3.8/site-packages/pandas/core/indexes/range.py\u001b[0m in \u001b[0;36mget_loc\u001b[0;34m(self, key, method, tolerance)\u001b[0m\n\u001b[1;32m    351\u001b[0m                     \u001b[0;32mreturn\u001b[0m \u001b[0mself\u001b[0m\u001b[0;34m.\u001b[0m\u001b[0m_range\u001b[0m\u001b[0;34m.\u001b[0m\u001b[0mindex\u001b[0m\u001b[0;34m(\u001b[0m\u001b[0mnew_key\u001b[0m\u001b[0;34m)\u001b[0m\u001b[0;34m\u001b[0m\u001b[0;34m\u001b[0m\u001b[0m\n\u001b[1;32m    352\u001b[0m                 \u001b[0;32mexcept\u001b[0m \u001b[0mValueError\u001b[0m \u001b[0;32mas\u001b[0m \u001b[0merr\u001b[0m\u001b[0;34m:\u001b[0m\u001b[0;34m\u001b[0m\u001b[0;34m\u001b[0m\u001b[0m\n\u001b[0;32m--> 353\u001b[0;31m                     \u001b[0;32mraise\u001b[0m \u001b[0mKeyError\u001b[0m\u001b[0;34m(\u001b[0m\u001b[0mkey\u001b[0m\u001b[0;34m)\u001b[0m \u001b[0;32mfrom\u001b[0m \u001b[0merr\u001b[0m\u001b[0;34m\u001b[0m\u001b[0;34m\u001b[0m\u001b[0m\n\u001b[0m\u001b[1;32m    354\u001b[0m             \u001b[0;32mraise\u001b[0m \u001b[0mKeyError\u001b[0m\u001b[0;34m(\u001b[0m\u001b[0mkey\u001b[0m\u001b[0;34m)\u001b[0m\u001b[0;34m\u001b[0m\u001b[0;34m\u001b[0m\u001b[0m\n\u001b[1;32m    355\u001b[0m         \u001b[0;32mreturn\u001b[0m \u001b[0msuper\u001b[0m\u001b[0;34m(\u001b[0m\u001b[0;34m)\u001b[0m\u001b[0;34m.\u001b[0m\u001b[0mget_loc\u001b[0m\u001b[0;34m(\u001b[0m\u001b[0mkey\u001b[0m\u001b[0;34m,\u001b[0m \u001b[0mmethod\u001b[0m\u001b[0;34m=\u001b[0m\u001b[0mmethod\u001b[0m\u001b[0;34m,\u001b[0m \u001b[0mtolerance\u001b[0m\u001b[0;34m=\u001b[0m\u001b[0mtolerance\u001b[0m\u001b[0;34m)\u001b[0m\u001b[0;34m\u001b[0m\u001b[0;34m\u001b[0m\u001b[0m\n",
      "\u001b[0;31mKeyError\u001b[0m: 0"
     ]
    }
   ],
   "source": [
    "for row in missing_l3s.values:\n",
    "    l2 = row[1]\n",
    "    row[2] = argentina[argentina.l2 == l2].l3.mode()[0]\n",
    "    print(row)\n",
    "#this gives me an error, have to handle edge cases now"
   ]
  },
  {
   "cell_type": "code",
   "execution_count": 34,
   "metadata": {},
   "outputs": [
    {
     "data": {
      "text/html": [
       "<div>\n",
       "<style scoped>\n",
       "    .dataframe tbody tr th:only-of-type {\n",
       "        vertical-align: middle;\n",
       "    }\n",
       "\n",
       "    .dataframe tbody tr th {\n",
       "        vertical-align: top;\n",
       "    }\n",
       "\n",
       "    .dataframe thead th {\n",
       "        text-align: right;\n",
       "    }\n",
       "</style>\n",
       "<table border=\"1\" class=\"dataframe\">\n",
       "  <thead>\n",
       "    <tr style=\"text-align: right;\">\n",
       "      <th></th>\n",
       "      <th>l1</th>\n",
       "      <th>l2</th>\n",
       "      <th>l3</th>\n",
       "    </tr>\n",
       "  </thead>\n",
       "  <tbody>\n",
       "    <tr>\n",
       "      <th>0</th>\n",
       "      <td>Argentina</td>\n",
       "      <td>Córdoba</td>\n",
       "      <td>Córdoba</td>\n",
       "    </tr>\n",
       "    <tr>\n",
       "      <th>1</th>\n",
       "      <td>Argentina</td>\n",
       "      <td>Salta</td>\n",
       "      <td>Salta</td>\n",
       "    </tr>\n",
       "    <tr>\n",
       "      <th>2</th>\n",
       "      <td>Argentina</td>\n",
       "      <td>Neuquén</td>\n",
       "      <td>Confluencia</td>\n",
       "    </tr>\n",
       "    <tr>\n",
       "      <th>3</th>\n",
       "      <td>Argentina</td>\n",
       "      <td>Tucumán</td>\n",
       "      <td>San Miguel de Tucumán</td>\n",
       "    </tr>\n",
       "    <tr>\n",
       "      <th>4</th>\n",
       "      <td>Argentina</td>\n",
       "      <td>Bs.As. G.B.A. Zona Norte</td>\n",
       "      <td>Tigre</td>\n",
       "    </tr>\n",
       "    <tr>\n",
       "      <th>5</th>\n",
       "      <td>Uruguay</td>\n",
       "      <td>Colonia</td>\n",
       "      <td>Carmelo</td>\n",
       "    </tr>\n",
       "    <tr>\n",
       "      <th>6</th>\n",
       "      <td>Uruguay</td>\n",
       "      <td>Canelones</td>\n",
       "      <td>MISSING</td>\n",
       "    </tr>\n",
       "    <tr>\n",
       "      <th>7</th>\n",
       "      <td>Estados Unidos</td>\n",
       "      <td>Florida</td>\n",
       "      <td>Palm Beach</td>\n",
       "    </tr>\n",
       "    <tr>\n",
       "      <th>8</th>\n",
       "      <td>Uruguay</td>\n",
       "      <td>Montevideo</td>\n",
       "      <td>Pocitos</td>\n",
       "    </tr>\n",
       "    <tr>\n",
       "      <th>9</th>\n",
       "      <td>Argentina</td>\n",
       "      <td>Río Negro</td>\n",
       "      <td>San Carlos de Bariloche</td>\n",
       "    </tr>\n",
       "    <tr>\n",
       "      <th>10</th>\n",
       "      <td>Argentina</td>\n",
       "      <td>Capital Federal</td>\n",
       "      <td>Palermo</td>\n",
       "    </tr>\n",
       "    <tr>\n",
       "      <th>11</th>\n",
       "      <td>Argentina</td>\n",
       "      <td>Mendoza</td>\n",
       "      <td>Mendoza</td>\n",
       "    </tr>\n",
       "    <tr>\n",
       "      <th>12</th>\n",
       "      <td>Uruguay</td>\n",
       "      <td>Maldonado</td>\n",
       "      <td>Punta del Este</td>\n",
       "    </tr>\n",
       "    <tr>\n",
       "      <th>13</th>\n",
       "      <td>Argentina</td>\n",
       "      <td>Bs.As. G.B.A. Zona Sur</td>\n",
       "      <td>La Plata</td>\n",
       "    </tr>\n",
       "    <tr>\n",
       "      <th>14</th>\n",
       "      <td>Argentina</td>\n",
       "      <td>Santa Fe</td>\n",
       "      <td>Rosario</td>\n",
       "    </tr>\n",
       "    <tr>\n",
       "      <th>15</th>\n",
       "      <td>Argentina</td>\n",
       "      <td>Bs.As. G.B.A. Zona Oeste</td>\n",
       "      <td>La Matanza</td>\n",
       "    </tr>\n",
       "    <tr>\n",
       "      <th>16</th>\n",
       "      <td>Argentina</td>\n",
       "      <td>San Juan</td>\n",
       "      <td>Rivadavia</td>\n",
       "    </tr>\n",
       "    <tr>\n",
       "      <th>17</th>\n",
       "      <td>Estados Unidos</td>\n",
       "      <td>Miami</td>\n",
       "      <td>MISSING</td>\n",
       "    </tr>\n",
       "    <tr>\n",
       "      <th>18</th>\n",
       "      <td>Argentina</td>\n",
       "      <td>Misiones</td>\n",
       "      <td>Posadas</td>\n",
       "    </tr>\n",
       "    <tr>\n",
       "      <th>19</th>\n",
       "      <td>Argentina</td>\n",
       "      <td>Buenos Aires Costa Atlántica</td>\n",
       "      <td>Mar del Plata</td>\n",
       "    </tr>\n",
       "    <tr>\n",
       "      <th>20</th>\n",
       "      <td>Argentina</td>\n",
       "      <td>San Luis</td>\n",
       "      <td>Merlo</td>\n",
       "    </tr>\n",
       "    <tr>\n",
       "      <th>21</th>\n",
       "      <td>Argentina</td>\n",
       "      <td>Tierra Del Fuego</td>\n",
       "      <td>Río Grande</td>\n",
       "    </tr>\n",
       "    <tr>\n",
       "      <th>22</th>\n",
       "      <td>Argentina</td>\n",
       "      <td>Entre Ríos</td>\n",
       "      <td>Paraná</td>\n",
       "    </tr>\n",
       "    <tr>\n",
       "      <th>23</th>\n",
       "      <td>Uruguay</td>\n",
       "      <td>Rocha</td>\n",
       "      <td>Rocha</td>\n",
       "    </tr>\n",
       "    <tr>\n",
       "      <th>24</th>\n",
       "      <td>Brasil</td>\n",
       "      <td>Rio Grande do Norte</td>\n",
       "      <td>MISSING</td>\n",
       "    </tr>\n",
       "    <tr>\n",
       "      <th>25</th>\n",
       "      <td>Argentina</td>\n",
       "      <td>Chaco</td>\n",
       "      <td>Resistencia</td>\n",
       "    </tr>\n",
       "    <tr>\n",
       "      <th>26</th>\n",
       "      <td>Brasil</td>\n",
       "      <td>Santa Catarina</td>\n",
       "      <td>Florianópolis</td>\n",
       "    </tr>\n",
       "    <tr>\n",
       "      <th>27</th>\n",
       "      <td>Estados Unidos</td>\n",
       "      <td>Maryland</td>\n",
       "      <td>Baltimore</td>\n",
       "    </tr>\n",
       "    <tr>\n",
       "      <th>28</th>\n",
       "      <td>Argentina</td>\n",
       "      <td>Corrientes</td>\n",
       "      <td>Corrientes</td>\n",
       "    </tr>\n",
       "    <tr>\n",
       "      <th>29</th>\n",
       "      <td>Argentina</td>\n",
       "      <td>Chubut</td>\n",
       "      <td>Puerto Madryn</td>\n",
       "    </tr>\n",
       "    <tr>\n",
       "      <th>30</th>\n",
       "      <td>Estados Unidos</td>\n",
       "      <td>Michigan</td>\n",
       "      <td>Detroit</td>\n",
       "    </tr>\n",
       "    <tr>\n",
       "      <th>31</th>\n",
       "      <td>Argentina</td>\n",
       "      <td>Jujuy</td>\n",
       "      <td>San Salvador de Jujuy</td>\n",
       "    </tr>\n",
       "    <tr>\n",
       "      <th>32</th>\n",
       "      <td>Argentina</td>\n",
       "      <td>Santiago Del Estero</td>\n",
       "      <td>Villa Nueva</td>\n",
       "    </tr>\n",
       "    <tr>\n",
       "      <th>33</th>\n",
       "      <td>Argentina</td>\n",
       "      <td>Buenos Aires Interior</td>\n",
       "      <td>Bahía Blanca</td>\n",
       "    </tr>\n",
       "    <tr>\n",
       "      <th>34</th>\n",
       "      <td>Argentina</td>\n",
       "      <td>La Rioja</td>\n",
       "      <td>Santa Bárbara</td>\n",
       "    </tr>\n",
       "    <tr>\n",
       "      <th>35</th>\n",
       "      <td>Argentina</td>\n",
       "      <td>La Pampa</td>\n",
       "      <td>Perú</td>\n",
       "    </tr>\n",
       "    <tr>\n",
       "      <th>36</th>\n",
       "      <td>Argentina</td>\n",
       "      <td>Catamarca</td>\n",
       "      <td>San Gabriel</td>\n",
       "    </tr>\n",
       "    <tr>\n",
       "      <th>37</th>\n",
       "      <td>Argentina</td>\n",
       "      <td>Santa Cruz</td>\n",
       "      <td>Caleta Olivia</td>\n",
       "    </tr>\n",
       "    <tr>\n",
       "      <th>38</th>\n",
       "      <td>Argentina</td>\n",
       "      <td>Formosa</td>\n",
       "      <td>Formosa</td>\n",
       "    </tr>\n",
       "    <tr>\n",
       "      <th>39</th>\n",
       "      <td>Estados Unidos</td>\n",
       "      <td>New York</td>\n",
       "      <td>MISSING</td>\n",
       "    </tr>\n",
       "  </tbody>\n",
       "</table>\n",
       "</div>"
      ],
      "text/plain": [
       "                l1                            l2                       l3\n",
       "0        Argentina                       Córdoba                  Córdoba\n",
       "1        Argentina                         Salta                    Salta\n",
       "2        Argentina                       Neuquén              Confluencia\n",
       "3        Argentina                       Tucumán    San Miguel de Tucumán\n",
       "4        Argentina      Bs.As. G.B.A. Zona Norte                    Tigre\n",
       "5          Uruguay                       Colonia                  Carmelo\n",
       "6          Uruguay                     Canelones                  MISSING\n",
       "7   Estados Unidos                       Florida               Palm Beach\n",
       "8          Uruguay                    Montevideo                  Pocitos\n",
       "9        Argentina                     Río Negro  San Carlos de Bariloche\n",
       "10       Argentina               Capital Federal                  Palermo\n",
       "11       Argentina                       Mendoza                  Mendoza\n",
       "12         Uruguay                     Maldonado           Punta del Este\n",
       "13       Argentina        Bs.As. G.B.A. Zona Sur                 La Plata\n",
       "14       Argentina                      Santa Fe                  Rosario\n",
       "15       Argentina      Bs.As. G.B.A. Zona Oeste               La Matanza\n",
       "16       Argentina                      San Juan                Rivadavia\n",
       "17  Estados Unidos                         Miami                  MISSING\n",
       "18       Argentina                      Misiones                  Posadas\n",
       "19       Argentina  Buenos Aires Costa Atlántica            Mar del Plata\n",
       "20       Argentina                      San Luis                    Merlo\n",
       "21       Argentina              Tierra Del Fuego               Río Grande\n",
       "22       Argentina                    Entre Ríos                   Paraná\n",
       "23         Uruguay                         Rocha                    Rocha\n",
       "24          Brasil           Rio Grande do Norte                  MISSING\n",
       "25       Argentina                         Chaco              Resistencia\n",
       "26          Brasil                Santa Catarina            Florianópolis\n",
       "27  Estados Unidos                      Maryland                Baltimore\n",
       "28       Argentina                    Corrientes               Corrientes\n",
       "29       Argentina                        Chubut            Puerto Madryn\n",
       "30  Estados Unidos                      Michigan                  Detroit\n",
       "31       Argentina                         Jujuy    San Salvador de Jujuy\n",
       "32       Argentina           Santiago Del Estero              Villa Nueva\n",
       "33       Argentina         Buenos Aires Interior             Bahía Blanca\n",
       "34       Argentina                      La Rioja            Santa Bárbara\n",
       "35       Argentina                      La Pampa                     Perú\n",
       "36       Argentina                     Catamarca              San Gabriel\n",
       "37       Argentina                    Santa Cruz            Caleta Olivia\n",
       "38       Argentina                       Formosa                  Formosa\n",
       "39  Estados Unidos                      New York                  MISSING"
      ]
     },
     "execution_count": 34,
     "metadata": {},
     "output_type": "execute_result"
    }
   ],
   "source": [
    "missing_data = []\n",
    "for row in missing_l3s.values:\n",
    "    l2 = row[1]\n",
    "    if l2 in ['New York', 'Rio Grande do Norte', 'Miami', 'Canelones']:\n",
    "        row[2] = 'MISSING'\n",
    "    else :\n",
    "        row[2] = argentina[argentina.l2 == l2].l3.mode()[0]\n",
    "    missing_data.append(row)\n",
    "fixed_l3s = pd.DataFrame(missing_data, columns=['l1', 'l2', 'l3'])\n",
    "fixed_l3s"
   ]
  },
  {
   "cell_type": "code",
   "execution_count": 35,
   "metadata": {},
   "outputs": [
    {
     "data": {
      "text/plain": [
       "51202"
      ]
     },
     "execution_count": 35,
     "metadata": {},
     "output_type": "execute_result"
    }
   ],
   "source": [
    "missing_indices = missing_l3s.index\n",
    "for index in missing_indices:\n",
    "    l2val = argentina.loc[index, 'l2']\n",
    "    argentina.at[index, 'l3'] = fixed_l3s[fixed_l3s.l2 == l2val].l3.values[0]\n",
    "    \n",
    "argentina.l3.isnull().sum()"
   ]
  },
  {
   "cell_type": "code",
   "execution_count": 36,
   "metadata": {},
   "outputs": [
    {
     "data": {
      "text/plain": [
       "Int64Index([    40,     61,    101,    218,    353,    545,    549,    550,\n",
       "               551,    774,    839,   1248,   1317,   3209,   3956,   6507,\n",
       "              7522,   7639,   7683,   9792,  10545,  11896,  14001,  18451,\n",
       "             22682,  26788,  29953,  30322,  36617,  48294,  49616,  58657,\n",
       "             63145,  68178,  97950, 104646, 162436, 377563, 383288, 986418],\n",
       "           dtype='int64')"
      ]
     },
     "execution_count": 36,
     "metadata": {},
     "output_type": "execute_result"
    }
   ],
   "source": [
    "missing_indices"
   ]
  },
  {
   "cell_type": "markdown",
   "metadata": {},
   "source": [
    "Had to come up with another way because I was having a lot of trouble"
   ]
  },
  {
   "cell_type": "code",
   "execution_count": 37,
   "metadata": {},
   "outputs": [
    {
     "data": {
      "text/plain": [
       "0"
      ]
     },
     "execution_count": 37,
     "metadata": {},
     "output_type": "execute_result"
    }
   ],
   "source": [
    "argentina = argentina.sort_values(by=['lat', 'lon', 'l2'])\n",
    "argentina['l3'] = argentina['l3'].fillna(method='ffill')\n",
    "argentina.l3.isnull().sum()"
   ]
  },
  {
   "cell_type": "markdown",
   "metadata": {},
   "source": [
    "#### Currency"
   ]
  },
  {
   "cell_type": "code",
   "execution_count": 38,
   "metadata": {},
   "outputs": [
    {
     "data": {
      "text/plain": [
       "1379"
      ]
     },
     "execution_count": 38,
     "metadata": {},
     "output_type": "execute_result"
    }
   ],
   "source": [
    "argentina.currency.isnull().sum()"
   ]
  },
  {
   "cell_type": "code",
   "execution_count": 39,
   "metadata": {},
   "outputs": [
    {
     "data": {
      "text/plain": [
       "USD    757617\n",
       "ARS    202179\n",
       "UYU      1692\n",
       "PEN       231\n",
       "Name: currency, dtype: int64"
      ]
     },
     "execution_count": 39,
     "metadata": {},
     "output_type": "execute_result"
    }
   ],
   "source": [
    "argentina.currency.value_counts()"
   ]
  },
  {
   "cell_type": "code",
   "execution_count": 40,
   "metadata": {},
   "outputs": [
    {
     "data": {
      "text/plain": [
       "currency\n",
       "ARS    733599.498301\n",
       "PEN    685088.965368\n",
       "USD    221682.568836\n",
       "UYU     24722.229314\n",
       "Name: price, dtype: float64"
      ]
     },
     "execution_count": 40,
     "metadata": {},
     "output_type": "execute_result"
    }
   ],
   "source": [
    "argentina.groupby('currency')['price'].mean()"
   ]
  },
  {
   "cell_type": "code",
   "execution_count": 41,
   "metadata": {},
   "outputs": [
    {
     "data": {
      "text/plain": [
       "1379"
      ]
     },
     "execution_count": 41,
     "metadata": {},
     "output_type": "execute_result"
    }
   ],
   "source": [
    "argentina.loc[argentina.price<80000, 'currency'].fillna('UYU', inplace=True)\n",
    "argentina.currency.isnull().sum()"
   ]
  },
  {
   "cell_type": "code",
   "execution_count": 42,
   "metadata": {},
   "outputs": [
    {
     "data": {
      "text/plain": [
       "0"
      ]
     },
     "execution_count": 42,
     "metadata": {},
     "output_type": "execute_result"
    }
   ],
   "source": [
    "argentina = argentina.sort_values(by=['price'])\n",
    "argentina['currency'] = argentina['currency'].fillna(method='ffill')\n",
    "argentina.currency.isnull().sum()"
   ]
  },
  {
   "cell_type": "code",
   "execution_count": 43,
   "metadata": {},
   "outputs": [
    {
     "data": {
      "text/html": [
       "<div>\n",
       "<style scoped>\n",
       "    .dataframe tbody tr th:only-of-type {\n",
       "        vertical-align: middle;\n",
       "    }\n",
       "\n",
       "    .dataframe tbody tr th {\n",
       "        vertical-align: top;\n",
       "    }\n",
       "\n",
       "    .dataframe thead th {\n",
       "        text-align: right;\n",
       "    }\n",
       "</style>\n",
       "<table border=\"1\" class=\"dataframe\">\n",
       "  <thead>\n",
       "    <tr style=\"text-align: right;\">\n",
       "      <th></th>\n",
       "      <th>id</th>\n",
       "      <th>start_date</th>\n",
       "      <th>end_date</th>\n",
       "      <th>created_on</th>\n",
       "      <th>lat</th>\n",
       "      <th>lon</th>\n",
       "      <th>l1</th>\n",
       "      <th>l2</th>\n",
       "      <th>l3</th>\n",
       "      <th>rooms</th>\n",
       "      <th>bedrooms</th>\n",
       "      <th>bathrooms</th>\n",
       "      <th>surface_total</th>\n",
       "      <th>surface_covered</th>\n",
       "      <th>price</th>\n",
       "      <th>currency</th>\n",
       "      <th>price_period</th>\n",
       "      <th>property_type</th>\n",
       "      <th>operation_type</th>\n",
       "    </tr>\n",
       "  </thead>\n",
       "  <tbody>\n",
       "  </tbody>\n",
       "</table>\n",
       "</div>"
      ],
      "text/plain": [
       "Empty DataFrame\n",
       "Columns: [id, start_date, end_date, created_on, lat, lon, l1, l2, l3, rooms, bedrooms, bathrooms, surface_total, surface_covered, price, currency, price_period, property_type, operation_type]\n",
       "Index: []"
      ]
     },
     "execution_count": 43,
     "metadata": {},
     "output_type": "execute_result"
    }
   ],
   "source": [
    "argentina[argentina.currency.isnull()]"
   ]
  },
  {
   "cell_type": "code",
   "execution_count": 44,
   "metadata": {},
   "outputs": [],
   "source": [
    "#argentina['currency'] = argentina['currency'].fillna('ARS')\n",
    "#argentina.currency.isnull().sum()"
   ]
  },
  {
   "cell_type": "markdown",
   "metadata": {},
   "source": [
    "#### Price Period"
   ]
  },
  {
   "cell_type": "code",
   "execution_count": 45,
   "metadata": {},
   "outputs": [
    {
     "data": {
      "text/plain": [
       "Mensual    338986\n",
       "Semanal        29\n",
       "Diario          4\n",
       "Name: price_period, dtype: int64"
      ]
     },
     "execution_count": 45,
     "metadata": {},
     "output_type": "execute_result"
    }
   ],
   "source": [
    "argentina.price_period.value_counts()"
   ]
  },
  {
   "cell_type": "code",
   "execution_count": 46,
   "metadata": {},
   "outputs": [
    {
     "data": {
      "text/plain": [
       "0"
      ]
     },
     "execution_count": 46,
     "metadata": {},
     "output_type": "execute_result"
    }
   ],
   "source": [
    "argentina = argentina.fillna({'price_period': 'Mensual'})\n",
    "argentina.price_period.isnull().sum()"
   ]
  },
  {
   "cell_type": "code",
   "execution_count": 47,
   "metadata": {},
   "outputs": [
    {
     "data": {
      "text/plain": [
       "Monthly    963065\n",
       "Weekly         29\n",
       "Daily           4\n",
       "Name: price_period, dtype: int64"
      ]
     },
     "execution_count": 47,
     "metadata": {},
     "output_type": "execute_result"
    }
   ],
   "source": [
    "argentina['price_period'] = argentina['price_period'].replace({'Mensual':'Monthly', 'Semanal': 'Weekly', 'Diario': 'Daily'})\n",
    "argentina.price_period.value_counts()"
   ]
  },
  {
   "cell_type": "code",
   "execution_count": 48,
   "metadata": {},
   "outputs": [
    {
     "data": {
      "text/plain": [
       "id                 0\n",
       "start_date         0\n",
       "end_date           0\n",
       "created_on         0\n",
       "lat                0\n",
       "lon                0\n",
       "l1                 0\n",
       "l2                 0\n",
       "l3                 0\n",
       "rooms              0\n",
       "bedrooms           0\n",
       "bathrooms          0\n",
       "surface_total      0\n",
       "surface_covered    0\n",
       "price              0\n",
       "currency           0\n",
       "price_period       0\n",
       "property_type      0\n",
       "operation_type     0\n",
       "dtype: int64"
      ]
     },
     "execution_count": 48,
     "metadata": {},
     "output_type": "execute_result"
    }
   ],
   "source": [
    "argentina.isnull().sum()"
   ]
  },
  {
   "cell_type": "markdown",
   "metadata": {},
   "source": [
    "#### DONE!"
   ]
  },
  {
   "cell_type": "markdown",
   "metadata": {},
   "source": [
    "### Get all currencies to be the same\n",
    "Convert all prices to USD\n",
    "\n",
    "- 1 ARS = 0.010 USD\n",
    "- 1 UYU = 0.023 USD\n",
    "- 1 PEN = 0.250 USD"
   ]
  },
  {
   "cell_type": "code",
   "execution_count": 49,
   "metadata": {},
   "outputs": [
    {
     "data": {
      "text/plain": [
       "USD    758703\n",
       "ARS    202472\n",
       "UYU      1692\n",
       "PEN       231\n",
       "Name: currency, dtype: int64"
      ]
     },
     "execution_count": 49,
     "metadata": {},
     "output_type": "execute_result"
    }
   ],
   "source": [
    "argentina.currency.value_counts()"
   ]
  },
  {
   "cell_type": "code",
   "execution_count": 50,
   "metadata": {},
   "outputs": [
    {
     "data": {
      "text/plain": [
       "113228    0.000000e+00\n",
       "186213    0.000000e+00\n",
       "614675    0.000000e+00\n",
       "452469    0.000000e+00\n",
       "178912    0.000000e+00\n",
       "              ...     \n",
       "601175    1.530399e+09\n",
       "959536    1.550000e+09\n",
       "808722    1.655097e+09\n",
       "959535    2.500000e+09\n",
       "306053    3.100000e+09\n",
       "Name: price, Length: 202472, dtype: float64"
      ]
     },
     "execution_count": 50,
     "metadata": {},
     "output_type": "execute_result"
    }
   ],
   "source": [
    "argentina[argentina['currency'] == 'ARS']['price']"
   ]
  },
  {
   "cell_type": "code",
   "execution_count": 51,
   "metadata": {},
   "outputs": [],
   "source": [
    "argentina['price'] = argentina['price'].replace({0:np.nan})"
   ]
  },
  {
   "cell_type": "code",
   "execution_count": 52,
   "metadata": {},
   "outputs": [
    {
     "data": {
      "text/plain": [
       "113228             NaN\n",
       "186213             NaN\n",
       "614675             NaN\n",
       "452469             NaN\n",
       "178912             NaN\n",
       "              ...     \n",
       "601175    1.530399e+09\n",
       "959536    1.550000e+09\n",
       "808722    1.655097e+09\n",
       "959535    2.500000e+09\n",
       "306053    3.100000e+09\n",
       "Name: price, Length: 202472, dtype: float64"
      ]
     },
     "execution_count": 52,
     "metadata": {},
     "output_type": "execute_result"
    }
   ],
   "source": [
    "argentina[argentina['currency'] == 'ARS']['price']"
   ]
  },
  {
   "cell_type": "code",
   "execution_count": 53,
   "metadata": {},
   "outputs": [],
   "source": [
    "argentina.loc[argentina['currency'] == 'ARS', 'price'] = argentina[argentina['currency'] == 'ARS']['price'] * 0.010\n",
    "argentina.loc[argentina['currency'] == 'UYU', 'price'] = argentina[argentina['currency'] == 'ARS']['price'] * 0.023\n",
    "argentina.loc[argentina['currency'] == 'PEN', 'price'] = argentina[argentina['currency'] == 'ARS']['price'] * 0.250\n"
   ]
  },
  {
   "cell_type": "code",
   "execution_count": 54,
   "metadata": {},
   "outputs": [
    {
     "data": {
      "text/plain": [
       "113228            NaN\n",
       "186213            NaN\n",
       "614675            NaN\n",
       "452469            NaN\n",
       "178912            NaN\n",
       "             ...     \n",
       "601175    15303992.06\n",
       "959536    15500000.00\n",
       "808722    16550974.00\n",
       "959535    25000000.00\n",
       "306053    31000000.00\n",
       "Name: price, Length: 202472, dtype: float64"
      ]
     },
     "execution_count": 54,
     "metadata": {},
     "output_type": "execute_result"
    }
   ],
   "source": [
    "argentina[argentina['currency'] == 'ARS']['price']"
   ]
  },
  {
   "cell_type": "code",
   "execution_count": 55,
   "metadata": {},
   "outputs": [],
   "source": [
    "argentina.drop('currency', axis=1, inplace=True)"
   ]
  },
  {
   "cell_type": "markdown",
   "metadata": {},
   "source": [
    "Replace all '0' price values with the mean."
   ]
  },
  {
   "cell_type": "code",
   "execution_count": 56,
   "metadata": {},
   "outputs": [
    {
     "data": {
      "text/plain": [
       "176556.30118611775"
      ]
     },
     "execution_count": 56,
     "metadata": {},
     "output_type": "execute_result"
    }
   ],
   "source": [
    "argentina.price.mean()"
   ]
  },
  {
   "cell_type": "code",
   "execution_count": 57,
   "metadata": {},
   "outputs": [],
   "source": [
    "argentina['price'] = argentina['price'].fillna(argentina.price.mean())"
   ]
  },
  {
   "cell_type": "code",
   "execution_count": 58,
   "metadata": {},
   "outputs": [
    {
     "data": {
      "text/plain": [
       "id                 0\n",
       "start_date         0\n",
       "end_date           0\n",
       "created_on         0\n",
       "lat                0\n",
       "lon                0\n",
       "l1                 0\n",
       "l2                 0\n",
       "l3                 0\n",
       "rooms              0\n",
       "bedrooms           0\n",
       "bathrooms          0\n",
       "surface_total      0\n",
       "surface_covered    0\n",
       "price              0\n",
       "price_period       0\n",
       "property_type      0\n",
       "operation_type     0\n",
       "dtype: int64"
      ]
     },
     "execution_count": 58,
     "metadata": {},
     "output_type": "execute_result"
    }
   ],
   "source": [
    "argentina.isnull().sum()"
   ]
  },
  {
   "cell_type": "markdown",
   "metadata": {},
   "source": [
    "### Visualizations"
   ]
  },
  {
   "cell_type": "code",
   "execution_count": 59,
   "metadata": {},
   "outputs": [
    {
     "data": {
      "text/html": [
       "<div>\n",
       "<style scoped>\n",
       "    .dataframe tbody tr th:only-of-type {\n",
       "        vertical-align: middle;\n",
       "    }\n",
       "\n",
       "    .dataframe tbody tr th {\n",
       "        vertical-align: top;\n",
       "    }\n",
       "\n",
       "    .dataframe thead th {\n",
       "        text-align: right;\n",
       "    }\n",
       "</style>\n",
       "<table border=\"1\" class=\"dataframe\">\n",
       "  <thead>\n",
       "    <tr style=\"text-align: right;\">\n",
       "      <th></th>\n",
       "      <th>lat</th>\n",
       "      <th>lon</th>\n",
       "      <th>rooms</th>\n",
       "      <th>bedrooms</th>\n",
       "      <th>bathrooms</th>\n",
       "      <th>surface_total</th>\n",
       "      <th>surface_covered</th>\n",
       "      <th>price</th>\n",
       "    </tr>\n",
       "  </thead>\n",
       "  <tbody>\n",
       "    <tr>\n",
       "      <th>count</th>\n",
       "      <td>963098.000000</td>\n",
       "      <td>963098.000000</td>\n",
       "      <td>963098.000000</td>\n",
       "      <td>963098.000000</td>\n",
       "      <td>963098.00000</td>\n",
       "      <td>963098.000000</td>\n",
       "      <td>9.630980e+05</td>\n",
       "      <td>9.630980e+05</td>\n",
       "    </tr>\n",
       "    <tr>\n",
       "      <th>mean</th>\n",
       "      <td>-34.816634</td>\n",
       "      <td>-59.193616</td>\n",
       "      <td>2.844661</td>\n",
       "      <td>2.084058</td>\n",
       "      <td>1.70148</td>\n",
       "      <td>474.884308</td>\n",
       "      <td>6.370155e+03</td>\n",
       "      <td>1.765563e+05</td>\n",
       "    </tr>\n",
       "    <tr>\n",
       "      <th>std</th>\n",
       "      <td>2.711359</td>\n",
       "      <td>2.366182</td>\n",
       "      <td>1.210602</td>\n",
       "      <td>1.489370</td>\n",
       "      <td>0.94590</td>\n",
       "      <td>2499.260252</td>\n",
       "      <td>2.188542e+06</td>\n",
       "      <td>1.019807e+07</td>\n",
       "    </tr>\n",
       "    <tr>\n",
       "      <th>min</th>\n",
       "      <td>-54.840886</td>\n",
       "      <td>-119.699390</td>\n",
       "      <td>1.000000</td>\n",
       "      <td>-16.000000</td>\n",
       "      <td>1.00000</td>\n",
       "      <td>-136.000000</td>\n",
       "      <td>-1.300000e+02</td>\n",
       "      <td>1.000000e-02</td>\n",
       "    </tr>\n",
       "    <tr>\n",
       "      <th>25%</th>\n",
       "      <td>-34.816634</td>\n",
       "      <td>-59.193616</td>\n",
       "      <td>2.844661</td>\n",
       "      <td>2.000000</td>\n",
       "      <td>1.00000</td>\n",
       "      <td>178.000000</td>\n",
       "      <td>1.200000e+02</td>\n",
       "      <td>1.900000e+04</td>\n",
       "    </tr>\n",
       "    <tr>\n",
       "      <th>50%</th>\n",
       "      <td>-34.649614</td>\n",
       "      <td>-58.498129</td>\n",
       "      <td>2.844661</td>\n",
       "      <td>2.084058</td>\n",
       "      <td>1.70148</td>\n",
       "      <td>474.884308</td>\n",
       "      <td>6.370155e+03</td>\n",
       "      <td>8.800000e+04</td>\n",
       "    </tr>\n",
       "    <tr>\n",
       "      <th>75%</th>\n",
       "      <td>-34.548750</td>\n",
       "      <td>-58.373499</td>\n",
       "      <td>3.000000</td>\n",
       "      <td>2.084058</td>\n",
       "      <td>2.00000</td>\n",
       "      <td>474.884308</td>\n",
       "      <td>6.370155e+03</td>\n",
       "      <td>1.800000e+05</td>\n",
       "    </tr>\n",
       "    <tr>\n",
       "      <th>max</th>\n",
       "      <td>85.051129</td>\n",
       "      <td>-1.981231</td>\n",
       "      <td>40.000000</td>\n",
       "      <td>900.000000</td>\n",
       "      <td>20.00000</td>\n",
       "      <td>200000.000000</td>\n",
       "      <td>2.147484e+09</td>\n",
       "      <td>1.000000e+10</td>\n",
       "    </tr>\n",
       "  </tbody>\n",
       "</table>\n",
       "</div>"
      ],
      "text/plain": [
       "                 lat            lon          rooms       bedrooms  \\\n",
       "count  963098.000000  963098.000000  963098.000000  963098.000000   \n",
       "mean      -34.816634     -59.193616       2.844661       2.084058   \n",
       "std         2.711359       2.366182       1.210602       1.489370   \n",
       "min       -54.840886    -119.699390       1.000000     -16.000000   \n",
       "25%       -34.816634     -59.193616       2.844661       2.000000   \n",
       "50%       -34.649614     -58.498129       2.844661       2.084058   \n",
       "75%       -34.548750     -58.373499       3.000000       2.084058   \n",
       "max        85.051129      -1.981231      40.000000     900.000000   \n",
       "\n",
       "          bathrooms  surface_total  surface_covered         price  \n",
       "count  963098.00000  963098.000000     9.630980e+05  9.630980e+05  \n",
       "mean        1.70148     474.884308     6.370155e+03  1.765563e+05  \n",
       "std         0.94590    2499.260252     2.188542e+06  1.019807e+07  \n",
       "min         1.00000    -136.000000    -1.300000e+02  1.000000e-02  \n",
       "25%         1.00000     178.000000     1.200000e+02  1.900000e+04  \n",
       "50%         1.70148     474.884308     6.370155e+03  8.800000e+04  \n",
       "75%         2.00000     474.884308     6.370155e+03  1.800000e+05  \n",
       "max        20.00000  200000.000000     2.147484e+09  1.000000e+10  "
      ]
     },
     "execution_count": 59,
     "metadata": {},
     "output_type": "execute_result"
    }
   ],
   "source": [
    "argentina.describe()"
   ]
  },
  {
   "cell_type": "code",
   "execution_count": 60,
   "metadata": {},
   "outputs": [
    {
     "data": {
      "text/html": [
       "<div>\n",
       "<style scoped>\n",
       "    .dataframe tbody tr th:only-of-type {\n",
       "        vertical-align: middle;\n",
       "    }\n",
       "\n",
       "    .dataframe tbody tr th {\n",
       "        vertical-align: top;\n",
       "    }\n",
       "\n",
       "    .dataframe thead th {\n",
       "        text-align: right;\n",
       "    }\n",
       "</style>\n",
       "<table border=\"1\" class=\"dataframe\">\n",
       "  <thead>\n",
       "    <tr style=\"text-align: right;\">\n",
       "      <th></th>\n",
       "      <th>lat</th>\n",
       "      <th>lon</th>\n",
       "      <th>rooms</th>\n",
       "      <th>bedrooms</th>\n",
       "      <th>bathrooms</th>\n",
       "      <th>surface_total</th>\n",
       "      <th>surface_covered</th>\n",
       "      <th>price</th>\n",
       "    </tr>\n",
       "  </thead>\n",
       "  <tbody>\n",
       "    <tr>\n",
       "      <th>lat</th>\n",
       "      <td>1.000000</td>\n",
       "      <td>-0.404253</td>\n",
       "      <td>0.014776</td>\n",
       "      <td>0.008766</td>\n",
       "      <td>-0.005824</td>\n",
       "      <td>0.001471</td>\n",
       "      <td>-0.000142</td>\n",
       "      <td>-0.000822</td>\n",
       "    </tr>\n",
       "    <tr>\n",
       "      <th>lon</th>\n",
       "      <td>-0.404253</td>\n",
       "      <td>1.000000</td>\n",
       "      <td>-0.020388</td>\n",
       "      <td>-0.001817</td>\n",
       "      <td>0.012290</td>\n",
       "      <td>-0.029275</td>\n",
       "      <td>-0.000021</td>\n",
       "      <td>0.001776</td>\n",
       "    </tr>\n",
       "    <tr>\n",
       "      <th>rooms</th>\n",
       "      <td>0.014776</td>\n",
       "      <td>-0.020388</td>\n",
       "      <td>1.000000</td>\n",
       "      <td>0.391731</td>\n",
       "      <td>0.409070</td>\n",
       "      <td>0.023812</td>\n",
       "      <td>-0.000065</td>\n",
       "      <td>0.007193</td>\n",
       "    </tr>\n",
       "    <tr>\n",
       "      <th>bedrooms</th>\n",
       "      <td>0.008766</td>\n",
       "      <td>-0.001817</td>\n",
       "      <td>0.391731</td>\n",
       "      <td>1.000000</td>\n",
       "      <td>0.288601</td>\n",
       "      <td>0.016281</td>\n",
       "      <td>0.000527</td>\n",
       "      <td>0.004655</td>\n",
       "    </tr>\n",
       "    <tr>\n",
       "      <th>bathrooms</th>\n",
       "      <td>-0.005824</td>\n",
       "      <td>0.012290</td>\n",
       "      <td>0.409070</td>\n",
       "      <td>0.288601</td>\n",
       "      <td>1.000000</td>\n",
       "      <td>0.030925</td>\n",
       "      <td>0.000275</td>\n",
       "      <td>0.010208</td>\n",
       "    </tr>\n",
       "    <tr>\n",
       "      <th>surface_total</th>\n",
       "      <td>0.001471</td>\n",
       "      <td>-0.029275</td>\n",
       "      <td>0.023812</td>\n",
       "      <td>0.016281</td>\n",
       "      <td>0.030925</td>\n",
       "      <td>1.000000</td>\n",
       "      <td>0.000179</td>\n",
       "      <td>0.002600</td>\n",
       "    </tr>\n",
       "    <tr>\n",
       "      <th>surface_covered</th>\n",
       "      <td>-0.000142</td>\n",
       "      <td>-0.000021</td>\n",
       "      <td>-0.000065</td>\n",
       "      <td>0.000527</td>\n",
       "      <td>0.000275</td>\n",
       "      <td>0.000179</td>\n",
       "      <td>1.000000</td>\n",
       "      <td>-0.000007</td>\n",
       "    </tr>\n",
       "    <tr>\n",
       "      <th>price</th>\n",
       "      <td>-0.000822</td>\n",
       "      <td>0.001776</td>\n",
       "      <td>0.007193</td>\n",
       "      <td>0.004655</td>\n",
       "      <td>0.010208</td>\n",
       "      <td>0.002600</td>\n",
       "      <td>-0.000007</td>\n",
       "      <td>1.000000</td>\n",
       "    </tr>\n",
       "  </tbody>\n",
       "</table>\n",
       "</div>"
      ],
      "text/plain": [
       "                      lat       lon     rooms  bedrooms  bathrooms  \\\n",
       "lat              1.000000 -0.404253  0.014776  0.008766  -0.005824   \n",
       "lon             -0.404253  1.000000 -0.020388 -0.001817   0.012290   \n",
       "rooms            0.014776 -0.020388  1.000000  0.391731   0.409070   \n",
       "bedrooms         0.008766 -0.001817  0.391731  1.000000   0.288601   \n",
       "bathrooms       -0.005824  0.012290  0.409070  0.288601   1.000000   \n",
       "surface_total    0.001471 -0.029275  0.023812  0.016281   0.030925   \n",
       "surface_covered -0.000142 -0.000021 -0.000065  0.000527   0.000275   \n",
       "price           -0.000822  0.001776  0.007193  0.004655   0.010208   \n",
       "\n",
       "                 surface_total  surface_covered     price  \n",
       "lat                   0.001471        -0.000142 -0.000822  \n",
       "lon                  -0.029275        -0.000021  0.001776  \n",
       "rooms                 0.023812        -0.000065  0.007193  \n",
       "bedrooms              0.016281         0.000527  0.004655  \n",
       "bathrooms             0.030925         0.000275  0.010208  \n",
       "surface_total         1.000000         0.000179  0.002600  \n",
       "surface_covered       0.000179         1.000000 -0.000007  \n",
       "price                 0.002600        -0.000007  1.000000  "
      ]
     },
     "execution_count": 60,
     "metadata": {},
     "output_type": "execute_result"
    }
   ],
   "source": [
    "argentina.corr()"
   ]
  },
  {
   "cell_type": "code",
   "execution_count": 61,
   "metadata": {},
   "outputs": [
    {
     "data": {
      "text/plain": [
       "<matplotlib.axes._subplots.AxesSubplot at 0x7f8c3e3b52b0>"
      ]
     },
     "execution_count": 61,
     "metadata": {},
     "output_type": "execute_result"
    },
    {
     "data": {
      "image/png": "[encoded data removed]",
      "text/plain": [
       "<Figure size 432x288 with 2 Axes>"
      ]
     },
     "metadata": {
      "needs_background": "light"
     },
     "output_type": "display_data"
    }
   ],
   "source": [
    "sns.heatmap(argentina.corr())"
   ]
  },
  {
   "cell_type": "code",
   "execution_count": 62,
   "metadata": {},
   "outputs": [
    {
     "data": {
      "text/plain": [
       "<matplotlib.axes._subplots.AxesSubplot at 0x7f8ca249aee0>"
      ]
     },
     "execution_count": 62,
     "metadata": {},
     "output_type": "execute_result"
    },
    {
     "data": {
      "image/png": "[encoded data removed]",
      "text/plain": [
       "<Figure size 432x288 with 1 Axes>"
      ]
     },
     "metadata": {
      "needs_background": "light"
     },
     "output_type": "display_data"
    }
   ],
   "source": [
    "prices_by_country = argentina.groupby('l1')['price'].mean()\n",
    "prices_by_country.plot(kind='bar')"
   ]
  },
  {
   "cell_type": "code",
   "execution_count": 63,
   "metadata": {},
   "outputs": [
    {
     "data": {
      "text/plain": [
       "<matplotlib.axes._subplots.AxesSubplot at 0x7f8cbfb263d0>"
      ]
     },
     "execution_count": 63,
     "metadata": {},
     "output_type": "execute_result"
    },
    {
     "data": {
      "image/png": "[encoded data removed]",
      "text/plain": [
       "<Figure size 432x288 with 1 Axes>"
      ]
     },
     "metadata": {
      "needs_background": "light"
     },
     "output_type": "display_data"
    }
   ],
   "source": [
    "argentina['surface_total'].plot(kind='hist', bins=30)"
   ]
  },
  {
   "cell_type": "code",
   "execution_count": 64,
   "metadata": {},
   "outputs": [
    {
     "data": {
      "text/plain": [
       "<matplotlib.axes._subplots.AxesSubplot at 0x7f8caf57b5e0>"
      ]
     },
     "execution_count": 64,
     "metadata": {},
     "output_type": "execute_result"
    },
    {
     "data": {
      "image/png": "[encoded data removed]",
      "text/plain": [
       "<Figure size 432x288 with 1 Axes>"
      ]
     },
     "metadata": {
      "needs_background": "light"
     },
     "output_type": "display_data"
    }
   ],
   "source": [
    "argentina['surface_covered'].plot(kind='hist', bins=30)"
   ]
  },
  {
   "cell_type": "markdown",
   "metadata": {},
   "source": [
    "this is strange"
   ]
  },
  {
   "cell_type": "code",
   "execution_count": 65,
   "metadata": {},
   "outputs": [
    {
     "data": {
      "text/plain": [
       "<matplotlib.axes._subplots.AxesSubplot at 0x7f8caccea6a0>"
      ]
     },
     "execution_count": 65,
     "metadata": {},
     "output_type": "execute_result"
    },
    {
     "data": {
      "image/png": "[encoded data removed]",
      "text/plain": [
       "<Figure size 432x288 with 1 Axes>"
      ]
     },
     "metadata": {
      "needs_background": "light"
     },
     "output_type": "display_data"
    }
   ],
   "source": [
    "argentina['rooms'].plot(kind='hist')"
   ]
  },
  {
   "cell_type": "code",
   "execution_count": 66,
   "metadata": {},
   "outputs": [
    {
     "data": {
      "text/plain": [
       "<matplotlib.axes._subplots.AxesSubplot at 0x7f8c6c9d99d0>"
      ]
     },
     "execution_count": 66,
     "metadata": {},
     "output_type": "execute_result"
    },
    {
     "data": {
      "image/png": "[encoded data removed]",
      "text/plain": [
       "<Figure size 432x288 with 1 Axes>"
      ]
     },
     "metadata": {
      "needs_background": "light"
     },
     "output_type": "display_data"
    }
   ],
   "source": [
    "argentina['bedrooms'].plot(kind='hist', bins=30)"
   ]
  },
  {
   "cell_type": "code",
   "execution_count": 67,
   "metadata": {},
   "outputs": [
    {
     "data": {
      "text/plain": [
       "<matplotlib.axes._subplots.AxesSubplot at 0x7f8c85d1eb50>"
      ]
     },
     "execution_count": 67,
     "metadata": {},
     "output_type": "execute_result"
    },
    {
     "data": {
      "image/png": "[encoded data removed]",
      "text/plain": [
       "<Figure size 432x288 with 1 Axes>"
      ]
     },
     "metadata": {
      "needs_background": "light"
     },
     "output_type": "display_data"
    }
   ],
   "source": [
    "argentina['bathrooms'].plot(kind='hist')"
   ]
  },
  {
   "cell_type": "code",
   "execution_count": 68,
   "metadata": {},
   "outputs": [
    {
     "data": {
      "text/plain": [
       "<matplotlib.axes._subplots.AxesSubplot at 0x7f8cb5a35370>"
      ]
     },
     "execution_count": 68,
     "metadata": {},
     "output_type": "execute_result"
    },
    {
     "data": {
      "image/png": "[encoded data removed]",
      "text/plain": [
       "<Figure size 432x288 with 1 Axes>"
      ]
     },
     "metadata": {
      "needs_background": "light"
     },
     "output_type": "display_data"
    }
   ],
   "source": [
    "argentina.plot(kind='scatter', x='rooms', y='price')"
   ]
  },
  {
   "cell_type": "code",
   "execution_count": 69,
   "metadata": {},
   "outputs": [
    {
     "data": {
      "text/plain": [
       "176556.30118611813"
      ]
     },
     "execution_count": 69,
     "metadata": {},
     "output_type": "execute_result"
    }
   ],
   "source": [
    "argentina.price.mean()"
   ]
  },
  {
   "cell_type": "code",
   "execution_count": 70,
   "metadata": {},
   "outputs": [
    {
     "data": {
      "text/plain": [
       "<matplotlib.axes._subplots.AxesSubplot at 0x7f8c9b092ca0>"
      ]
     },
     "execution_count": 70,
     "metadata": {},
     "output_type": "execute_result"
    },
    {
     "data": {
      "image/png": "[encoded data removed]",
      "text/plain": [
       "<Figure size 432x288 with 1 Axes>"
      ]
     },
     "metadata": {
      "needs_background": "light"
     },
     "output_type": "display_data"
    }
   ],
   "source": [
    "argentina.plot(kind='scatter', x='surface_covered', y='price')"
   ]
  },
  {
   "cell_type": "code",
   "execution_count": 71,
   "metadata": {},
   "outputs": [
    {
     "data": {
      "text/plain": [
       "<matplotlib.axes._subplots.AxesSubplot at 0x7f8c81606ca0>"
      ]
     },
     "execution_count": 71,
     "metadata": {},
     "output_type": "execute_result"
    },
    {
     "data": {
      "image/png": "[encoded data removed]",
      "text/plain": [
       "<Figure size 432x288 with 1 Axes>"
      ]
     },
     "metadata": {
      "needs_background": "light"
     },
     "output_type": "display_data"
    }
   ],
   "source": [
    "argentina.plot(kind='line', x='start_date', y='price')"
   ]
  },
  {
   "cell_type": "code",
   "execution_count": 72,
   "metadata": {},
   "outputs": [
    {
     "data": {
      "text/plain": [
       "(Timestamp('2019-12-22 00:00:00'), Timestamp('2021-01-14 00:00:00'))"
      ]
     },
     "execution_count": 72,
     "metadata": {},
     "output_type": "execute_result"
    }
   ],
   "source": [
    "argentina.start_date.min(), argentina.start_date.max()"
   ]
  },
  {
   "cell_type": "code",
   "execution_count": 73,
   "metadata": {},
   "outputs": [
    {
     "data": {
      "text/plain": [
       "(Timestamp('2019-12-22 00:00:00'), Timestamp('2262-04-11 00:00:00'))"
      ]
     },
     "execution_count": 73,
     "metadata": {},
     "output_type": "execute_result"
    }
   ],
   "source": [
    "argentina.end_date.min(), argentina.end_date.max()"
   ]
  },
  {
   "cell_type": "code",
   "execution_count": 74,
   "metadata": {},
   "outputs": [
    {
     "data": {
      "text/plain": [
       "(Timestamp('2019-12-22 00:00:00'), Timestamp('2021-01-14 00:00:00'))"
      ]
     },
     "execution_count": 74,
     "metadata": {},
     "output_type": "execute_result"
    }
   ],
   "source": [
    "argentina.created_on.min(), argentina.created_on.max()"
   ]
  },
  {
   "cell_type": "markdown",
   "metadata": {},
   "source": [
    "### Drop ID since it adds no information"
   ]
  },
  {
   "cell_type": "code",
   "execution_count": 75,
   "metadata": {},
   "outputs": [
    {
     "data": {
      "text/plain": [
       "(963098, 963098)"
      ]
     },
     "execution_count": 75,
     "metadata": {},
     "output_type": "execute_result"
    }
   ],
   "source": [
    "argentina.id.nunique(), len(argentina)"
   ]
  },
  {
   "cell_type": "code",
   "execution_count": 76,
   "metadata": {},
   "outputs": [],
   "source": [
    "argentina.drop('id', axis=1, inplace=True)"
   ]
  },
  {
   "cell_type": "code",
   "execution_count": 77,
   "metadata": {},
   "outputs": [
    {
     "data": {
      "text/plain": [
       "(Index(['start_date', 'end_date', 'created_on', 'lat', 'lon', 'l1', 'l2', 'l3',\n",
       "        'rooms', 'bedrooms', 'bathrooms', 'surface_total', 'surface_covered',\n",
       "        'price', 'price_period', 'property_type', 'operation_type'],\n",
       "       dtype='object'),\n",
       " 17)"
      ]
     },
     "execution_count": 77,
     "metadata": {},
     "output_type": "execute_result"
    }
   ],
   "source": [
    "argentina.columns, len(argentina.columns)"
   ]
  },
  {
   "cell_type": "code",
   "execution_count": 78,
   "metadata": {},
   "outputs": [],
   "source": [
    "argentina.reset_index(drop=True, inplace=True)"
   ]
  },
  {
   "cell_type": "code",
   "execution_count": 79,
   "metadata": {},
   "outputs": [
    {
     "data": {
      "text/html": [
       "<div>\n",
       "<style scoped>\n",
       "    .dataframe tbody tr th:only-of-type {\n",
       "        vertical-align: middle;\n",
       "    }\n",
       "\n",
       "    .dataframe tbody tr th {\n",
       "        vertical-align: top;\n",
       "    }\n",
       "\n",
       "    .dataframe thead th {\n",
       "        text-align: right;\n",
       "    }\n",
       "</style>\n",
       "<table border=\"1\" class=\"dataframe\">\n",
       "  <thead>\n",
       "    <tr style=\"text-align: right;\">\n",
       "      <th></th>\n",
       "      <th>start_date</th>\n",
       "      <th>end_date</th>\n",
       "      <th>created_on</th>\n",
       "      <th>lat</th>\n",
       "      <th>lon</th>\n",
       "      <th>l1</th>\n",
       "      <th>l2</th>\n",
       "      <th>l3</th>\n",
       "      <th>rooms</th>\n",
       "      <th>bedrooms</th>\n",
       "      <th>bathrooms</th>\n",
       "      <th>surface_total</th>\n",
       "      <th>surface_covered</th>\n",
       "      <th>price</th>\n",
       "      <th>price_period</th>\n",
       "      <th>property_type</th>\n",
       "      <th>operation_type</th>\n",
       "    </tr>\n",
       "  </thead>\n",
       "  <tbody>\n",
       "    <tr>\n",
       "      <th>0</th>\n",
       "      <td>2020-06-17</td>\n",
       "      <td>2020-06-18</td>\n",
       "      <td>2020-06-17</td>\n",
       "      <td>-34.995340</td>\n",
       "      <td>-58.047423</td>\n",
       "      <td>Argentina</td>\n",
       "      <td>Bs.As. G.B.A. Zona Sur</td>\n",
       "      <td>La Plata</td>\n",
       "      <td>2.844661</td>\n",
       "      <td>0.0</td>\n",
       "      <td>1.70148</td>\n",
       "      <td>474.884308</td>\n",
       "      <td>6370.15545</td>\n",
       "      <td>176556.301186</td>\n",
       "      <td>Monthly</td>\n",
       "      <td>Department</td>\n",
       "      <td>For Sale</td>\n",
       "    </tr>\n",
       "    <tr>\n",
       "      <th>1</th>\n",
       "      <td>2020-05-20</td>\n",
       "      <td>2020-05-20</td>\n",
       "      <td>2020-05-20</td>\n",
       "      <td>-34.816634</td>\n",
       "      <td>-59.193616</td>\n",
       "      <td>Argentina</td>\n",
       "      <td>Neuquén</td>\n",
       "      <td>Neuquén</td>\n",
       "      <td>5.000000</td>\n",
       "      <td>2.0</td>\n",
       "      <td>1.00000</td>\n",
       "      <td>72.000000</td>\n",
       "      <td>72.00000</td>\n",
       "      <td>176556.301186</td>\n",
       "      <td>Monthly</td>\n",
       "      <td>Department</td>\n",
       "      <td>For Sale</td>\n",
       "    </tr>\n",
       "    <tr>\n",
       "      <th>2</th>\n",
       "      <td>2020-07-14</td>\n",
       "      <td>2020-08-13</td>\n",
       "      <td>2020-07-14</td>\n",
       "      <td>-31.116769</td>\n",
       "      <td>-64.482921</td>\n",
       "      <td>Argentina</td>\n",
       "      <td>Córdoba</td>\n",
       "      <td>Valle Hermoso</td>\n",
       "      <td>2.844661</td>\n",
       "      <td>3.0</td>\n",
       "      <td>1.00000</td>\n",
       "      <td>747.000000</td>\n",
       "      <td>244.00000</td>\n",
       "      <td>176556.301186</td>\n",
       "      <td>Monthly</td>\n",
       "      <td>House</td>\n",
       "      <td>For Sale</td>\n",
       "    </tr>\n",
       "  </tbody>\n",
       "</table>\n",
       "</div>"
      ],
      "text/plain": [
       "  start_date   end_date created_on        lat        lon         l1  \\\n",
       "0 2020-06-17 2020-06-18 2020-06-17 -34.995340 -58.047423  Argentina   \n",
       "1 2020-05-20 2020-05-20 2020-05-20 -34.816634 -59.193616  Argentina   \n",
       "2 2020-07-14 2020-08-13 2020-07-14 -31.116769 -64.482921  Argentina   \n",
       "\n",
       "                       l2             l3     rooms  bedrooms  bathrooms  \\\n",
       "0  Bs.As. G.B.A. Zona Sur       La Plata  2.844661       0.0    1.70148   \n",
       "1                 Neuquén        Neuquén  5.000000       2.0    1.00000   \n",
       "2                 Córdoba  Valle Hermoso  2.844661       3.0    1.00000   \n",
       "\n",
       "   surface_total  surface_covered          price price_period property_type  \\\n",
       "0     474.884308       6370.15545  176556.301186      Monthly    Department   \n",
       "1      72.000000         72.00000  176556.301186      Monthly    Department   \n",
       "2     747.000000        244.00000  176556.301186      Monthly         House   \n",
       "\n",
       "  operation_type  \n",
       "0       For Sale  \n",
       "1       For Sale  \n",
       "2       For Sale  "
      ]
     },
     "execution_count": 79,
     "metadata": {},
     "output_type": "execute_result"
    }
   ],
   "source": [
    "argentina.head(3)"
   ]
  },
  {
   "cell_type": "code",
   "execution_count": 80,
   "metadata": {},
   "outputs": [],
   "source": [
    "argentina.to_csv('data/argentina_cleaned.csv')"
   ]
  },
  {
   "cell_type": "code",
   "execution_count": 81,
   "metadata": {},
   "outputs": [
    {
     "data": {
      "text/plain": [
       "start_date         datetime64[ns]\n",
       "end_date           datetime64[ns]\n",
       "created_on         datetime64[ns]\n",
       "lat                       float64\n",
       "lon                       float64\n",
       "l1                         object\n",
       "l2                         object\n",
       "l3                         object\n",
       "rooms                     float64\n",
       "bedrooms                  float64\n",
       "bathrooms                 float64\n",
       "surface_total             float64\n",
       "surface_covered           float64\n",
       "price                     float64\n",
       "price_period               object\n",
       "property_type              object\n",
       "operation_type             object\n",
       "dtype: object"
      ]
     },
     "execution_count": 81,
     "metadata": {},
     "output_type": "execute_result"
    }
   ],
   "source": [
    "argentina.dtypes"
   ]
  },
  {
   "cell_type": "code",
   "execution_count": null,
   "metadata": {},
   "outputs": [],
   "source": []
  }
 ],
 "metadata": {
  "kernelspec": {
   "display_name": "Python 3",
   "language": "python",
   "name": "python3"
  },
  "language_info": {
   "codemirror_mode": {
    "name": "ipython",
    "version": 3
   },
   "file_extension": ".py",
   "mimetype": "text/x-python",
   "name": "python",
   "nbconvert_exporter": "python",
   "pygments_lexer": "ipython3",
   "version": "3.8.5"
  }
 },
 "nbformat": 4,
 "nbformat_minor": 4
}
