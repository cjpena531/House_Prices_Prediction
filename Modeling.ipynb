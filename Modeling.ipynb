{
 "cells": [
  {
   "cell_type": "markdown",
   "metadata": {},
   "source": [
    "# Experiment with Various Models"
   ]
  },
  {
   "cell_type": "code",
   "execution_count": 1,
   "metadata": {},
   "outputs": [],
   "source": [
    "import pandas as pd\n",
    "import numpy as np\n",
    "import seaborn as sns\n",
    "import math"
   ]
  },
  {
   "cell_type": "code",
   "execution_count": 2,
   "metadata": {},
   "outputs": [
    {
     "data": {
      "text/html": [
       "<div>\n",
       "<style scoped>\n",
       "    .dataframe tbody tr th:only-of-type {\n",
       "        vertical-align: middle;\n",
       "    }\n",
       "\n",
       "    .dataframe tbody tr th {\n",
       "        vertical-align: top;\n",
       "    }\n",
       "\n",
       "    .dataframe thead th {\n",
       "        text-align: right;\n",
       "    }\n",
       "</style>\n",
       "<table border=\"1\" class=\"dataframe\">\n",
       "  <thead>\n",
       "    <tr style=\"text-align: right;\">\n",
       "      <th></th>\n",
       "      <th>Unnamed: 0</th>\n",
       "      <th>start_date</th>\n",
       "      <th>end_date</th>\n",
       "      <th>created_on</th>\n",
       "      <th>lat</th>\n",
       "      <th>lon</th>\n",
       "      <th>l1</th>\n",
       "      <th>l2</th>\n",
       "      <th>l3</th>\n",
       "      <th>rooms</th>\n",
       "      <th>bedrooms</th>\n",
       "      <th>bathrooms</th>\n",
       "      <th>surface_total</th>\n",
       "      <th>surface_covered</th>\n",
       "      <th>price</th>\n",
       "      <th>price_period</th>\n",
       "      <th>property_type</th>\n",
       "      <th>operation_type</th>\n",
       "    </tr>\n",
       "  </thead>\n",
       "  <tbody>\n",
       "    <tr>\n",
       "      <th>0</th>\n",
       "      <td>0</td>\n",
       "      <td>2020-06-17</td>\n",
       "      <td>2020-06-18</td>\n",
       "      <td>2020-06-17</td>\n",
       "      <td>-34.995340</td>\n",
       "      <td>-58.047423</td>\n",
       "      <td>Argentina</td>\n",
       "      <td>Bs.As. G.B.A. Zona Sur</td>\n",
       "      <td>La Plata</td>\n",
       "      <td>2.844661</td>\n",
       "      <td>0.0</td>\n",
       "      <td>1.70148</td>\n",
       "      <td>474.884308</td>\n",
       "      <td>6370.15545</td>\n",
       "      <td>176556.301186</td>\n",
       "      <td>Monthly</td>\n",
       "      <td>Department</td>\n",
       "      <td>For Sale</td>\n",
       "    </tr>\n",
       "    <tr>\n",
       "      <th>1</th>\n",
       "      <td>1</td>\n",
       "      <td>2020-05-20</td>\n",
       "      <td>2020-05-20</td>\n",
       "      <td>2020-05-20</td>\n",
       "      <td>-34.816634</td>\n",
       "      <td>-59.193616</td>\n",
       "      <td>Argentina</td>\n",
       "      <td>Neuquén</td>\n",
       "      <td>Neuquén</td>\n",
       "      <td>5.000000</td>\n",
       "      <td>2.0</td>\n",
       "      <td>1.00000</td>\n",
       "      <td>72.000000</td>\n",
       "      <td>72.00000</td>\n",
       "      <td>176556.301186</td>\n",
       "      <td>Monthly</td>\n",
       "      <td>Department</td>\n",
       "      <td>For Sale</td>\n",
       "    </tr>\n",
       "  </tbody>\n",
       "</table>\n",
       "</div>"
      ],
      "text/plain": [
       "   Unnamed: 0  start_date    end_date  created_on        lat        lon  \\\n",
       "0           0  2020-06-17  2020-06-18  2020-06-17 -34.995340 -58.047423   \n",
       "1           1  2020-05-20  2020-05-20  2020-05-20 -34.816634 -59.193616   \n",
       "\n",
       "          l1                      l2        l3     rooms  bedrooms  bathrooms  \\\n",
       "0  Argentina  Bs.As. G.B.A. Zona Sur  La Plata  2.844661       0.0    1.70148   \n",
       "1  Argentina                 Neuquén   Neuquén  5.000000       2.0    1.00000   \n",
       "\n",
       "   surface_total  surface_covered          price price_period property_type  \\\n",
       "0     474.884308       6370.15545  176556.301186      Monthly    Department   \n",
       "1      72.000000         72.00000  176556.301186      Monthly    Department   \n",
       "\n",
       "  operation_type  \n",
       "0       For Sale  \n",
       "1       For Sale  "
      ]
     },
     "execution_count": 2,
     "metadata": {},
     "output_type": "execute_result"
    }
   ],
   "source": [
    "argentina = pd.read_csv('data/argentina_cleaned.csv')\n",
    "argentina.head(2)"
   ]
  },
  {
   "cell_type": "code",
   "execution_count": 3,
   "metadata": {},
   "outputs": [],
   "source": [
    "argentina.drop('Unnamed: 0', axis=1, inplace=True)"
   ]
  },
  {
   "cell_type": "code",
   "execution_count": 4,
   "metadata": {},
   "outputs": [
    {
     "data": {
      "text/html": [
       "<div>\n",
       "<style scoped>\n",
       "    .dataframe tbody tr th:only-of-type {\n",
       "        vertical-align: middle;\n",
       "    }\n",
       "\n",
       "    .dataframe tbody tr th {\n",
       "        vertical-align: top;\n",
       "    }\n",
       "\n",
       "    .dataframe thead th {\n",
       "        text-align: right;\n",
       "    }\n",
       "</style>\n",
       "<table border=\"1\" class=\"dataframe\">\n",
       "  <thead>\n",
       "    <tr style=\"text-align: right;\">\n",
       "      <th></th>\n",
       "      <th>start_date</th>\n",
       "      <th>end_date</th>\n",
       "      <th>created_on</th>\n",
       "      <th>lat</th>\n",
       "      <th>lon</th>\n",
       "      <th>l1</th>\n",
       "      <th>l2</th>\n",
       "      <th>l3</th>\n",
       "      <th>rooms</th>\n",
       "      <th>bedrooms</th>\n",
       "      <th>bathrooms</th>\n",
       "      <th>surface_total</th>\n",
       "      <th>surface_covered</th>\n",
       "      <th>price</th>\n",
       "      <th>price_period</th>\n",
       "      <th>property_type</th>\n",
       "      <th>operation_type</th>\n",
       "    </tr>\n",
       "  </thead>\n",
       "  <tbody>\n",
       "    <tr>\n",
       "      <th>0</th>\n",
       "      <td>2020-06-17</td>\n",
       "      <td>2020-06-18</td>\n",
       "      <td>2020-06-17</td>\n",
       "      <td>-34.995340</td>\n",
       "      <td>-58.047423</td>\n",
       "      <td>Argentina</td>\n",
       "      <td>Bs.As. G.B.A. Zona Sur</td>\n",
       "      <td>La Plata</td>\n",
       "      <td>2.844661</td>\n",
       "      <td>0.0</td>\n",
       "      <td>1.70148</td>\n",
       "      <td>474.884308</td>\n",
       "      <td>6370.15545</td>\n",
       "      <td>176556.301186</td>\n",
       "      <td>Monthly</td>\n",
       "      <td>Department</td>\n",
       "      <td>For Sale</td>\n",
       "    </tr>\n",
       "    <tr>\n",
       "      <th>1</th>\n",
       "      <td>2020-05-20</td>\n",
       "      <td>2020-05-20</td>\n",
       "      <td>2020-05-20</td>\n",
       "      <td>-34.816634</td>\n",
       "      <td>-59.193616</td>\n",
       "      <td>Argentina</td>\n",
       "      <td>Neuquén</td>\n",
       "      <td>Neuquén</td>\n",
       "      <td>5.000000</td>\n",
       "      <td>2.0</td>\n",
       "      <td>1.00000</td>\n",
       "      <td>72.000000</td>\n",
       "      <td>72.00000</td>\n",
       "      <td>176556.301186</td>\n",
       "      <td>Monthly</td>\n",
       "      <td>Department</td>\n",
       "      <td>For Sale</td>\n",
       "    </tr>\n",
       "  </tbody>\n",
       "</table>\n",
       "</div>"
      ],
      "text/plain": [
       "   start_date    end_date  created_on        lat        lon         l1  \\\n",
       "0  2020-06-17  2020-06-18  2020-06-17 -34.995340 -58.047423  Argentina   \n",
       "1  2020-05-20  2020-05-20  2020-05-20 -34.816634 -59.193616  Argentina   \n",
       "\n",
       "                       l2        l3     rooms  bedrooms  bathrooms  \\\n",
       "0  Bs.As. G.B.A. Zona Sur  La Plata  2.844661       0.0    1.70148   \n",
       "1                 Neuquén   Neuquén  5.000000       2.0    1.00000   \n",
       "\n",
       "   surface_total  surface_covered          price price_period property_type  \\\n",
       "0     474.884308       6370.15545  176556.301186      Monthly    Department   \n",
       "1      72.000000         72.00000  176556.301186      Monthly    Department   \n",
       "\n",
       "  operation_type  \n",
       "0       For Sale  \n",
       "1       For Sale  "
      ]
     },
     "execution_count": 4,
     "metadata": {},
     "output_type": "execute_result"
    }
   ],
   "source": [
    "argentina.head(1)"
   ]
  },
  {
   "cell_type": "code",
   "execution_count": 5,
   "metadata": {},
   "outputs": [
    {
     "data": {
      "text/html": [
       "<div>\n",
       "<style scoped>\n",
       "    .dataframe tbody tr th:only-of-type {\n",
       "        vertical-align: middle;\n",
       "    }\n",
       "\n",
       "    .dataframe tbody tr th {\n",
       "        vertical-align: top;\n",
       "    }\n",
       "\n",
       "    .dataframe thead th {\n",
       "        text-align: right;\n",
       "    }\n",
       "</style>\n",
       "<table border=\"1\" class=\"dataframe\">\n",
       "  <thead>\n",
       "    <tr style=\"text-align: right;\">\n",
       "      <th></th>\n",
       "      <th>lat</th>\n",
       "      <th>lon</th>\n",
       "      <th>rooms</th>\n",
       "      <th>bedrooms</th>\n",
       "      <th>bathrooms</th>\n",
       "      <th>surface_total</th>\n",
       "      <th>surface_covered</th>\n",
       "      <th>price</th>\n",
       "    </tr>\n",
       "  </thead>\n",
       "  <tbody>\n",
       "    <tr>\n",
       "      <th>count</th>\n",
       "      <td>963098.000000</td>\n",
       "      <td>963098.000000</td>\n",
       "      <td>963098.000000</td>\n",
       "      <td>963098.000000</td>\n",
       "      <td>963098.00000</td>\n",
       "      <td>963098.000000</td>\n",
       "      <td>9.630980e+05</td>\n",
       "      <td>9.630980e+05</td>\n",
       "    </tr>\n",
       "    <tr>\n",
       "      <th>mean</th>\n",
       "      <td>-34.816634</td>\n",
       "      <td>-59.193616</td>\n",
       "      <td>2.844661</td>\n",
       "      <td>2.084058</td>\n",
       "      <td>1.70148</td>\n",
       "      <td>474.884308</td>\n",
       "      <td>6.370155e+03</td>\n",
       "      <td>1.765563e+05</td>\n",
       "    </tr>\n",
       "    <tr>\n",
       "      <th>std</th>\n",
       "      <td>2.711359</td>\n",
       "      <td>2.366182</td>\n",
       "      <td>1.210602</td>\n",
       "      <td>1.489370</td>\n",
       "      <td>0.94590</td>\n",
       "      <td>2499.260252</td>\n",
       "      <td>2.188542e+06</td>\n",
       "      <td>1.019807e+07</td>\n",
       "    </tr>\n",
       "    <tr>\n",
       "      <th>min</th>\n",
       "      <td>-54.840886</td>\n",
       "      <td>-119.699390</td>\n",
       "      <td>1.000000</td>\n",
       "      <td>-16.000000</td>\n",
       "      <td>1.00000</td>\n",
       "      <td>-136.000000</td>\n",
       "      <td>-1.300000e+02</td>\n",
       "      <td>1.000000e-02</td>\n",
       "    </tr>\n",
       "    <tr>\n",
       "      <th>25%</th>\n",
       "      <td>-34.816634</td>\n",
       "      <td>-59.193616</td>\n",
       "      <td>2.844661</td>\n",
       "      <td>2.000000</td>\n",
       "      <td>1.00000</td>\n",
       "      <td>178.000000</td>\n",
       "      <td>1.200000e+02</td>\n",
       "      <td>1.900000e+04</td>\n",
       "    </tr>\n",
       "    <tr>\n",
       "      <th>50%</th>\n",
       "      <td>-34.649614</td>\n",
       "      <td>-58.498129</td>\n",
       "      <td>2.844661</td>\n",
       "      <td>2.084058</td>\n",
       "      <td>1.70148</td>\n",
       "      <td>474.884308</td>\n",
       "      <td>6.370155e+03</td>\n",
       "      <td>8.800000e+04</td>\n",
       "    </tr>\n",
       "    <tr>\n",
       "      <th>75%</th>\n",
       "      <td>-34.548750</td>\n",
       "      <td>-58.373499</td>\n",
       "      <td>3.000000</td>\n",
       "      <td>2.084058</td>\n",
       "      <td>2.00000</td>\n",
       "      <td>474.884308</td>\n",
       "      <td>6.370155e+03</td>\n",
       "      <td>1.800000e+05</td>\n",
       "    </tr>\n",
       "    <tr>\n",
       "      <th>max</th>\n",
       "      <td>85.051129</td>\n",
       "      <td>-1.981231</td>\n",
       "      <td>40.000000</td>\n",
       "      <td>900.000000</td>\n",
       "      <td>20.00000</td>\n",
       "      <td>200000.000000</td>\n",
       "      <td>2.147484e+09</td>\n",
       "      <td>1.000000e+10</td>\n",
       "    </tr>\n",
       "  </tbody>\n",
       "</table>\n",
       "</div>"
      ],
      "text/plain": [
       "                 lat            lon          rooms       bedrooms  \\\n",
       "count  963098.000000  963098.000000  963098.000000  963098.000000   \n",
       "mean      -34.816634     -59.193616       2.844661       2.084058   \n",
       "std         2.711359       2.366182       1.210602       1.489370   \n",
       "min       -54.840886    -119.699390       1.000000     -16.000000   \n",
       "25%       -34.816634     -59.193616       2.844661       2.000000   \n",
       "50%       -34.649614     -58.498129       2.844661       2.084058   \n",
       "75%       -34.548750     -58.373499       3.000000       2.084058   \n",
       "max        85.051129      -1.981231      40.000000     900.000000   \n",
       "\n",
       "          bathrooms  surface_total  surface_covered         price  \n",
       "count  963098.00000  963098.000000     9.630980e+05  9.630980e+05  \n",
       "mean        1.70148     474.884308     6.370155e+03  1.765563e+05  \n",
       "std         0.94590    2499.260252     2.188542e+06  1.019807e+07  \n",
       "min         1.00000    -136.000000    -1.300000e+02  1.000000e-02  \n",
       "25%         1.00000     178.000000     1.200000e+02  1.900000e+04  \n",
       "50%         1.70148     474.884308     6.370155e+03  8.800000e+04  \n",
       "75%         2.00000     474.884308     6.370155e+03  1.800000e+05  \n",
       "max        20.00000  200000.000000     2.147484e+09  1.000000e+10  "
      ]
     },
     "execution_count": 5,
     "metadata": {},
     "output_type": "execute_result"
    }
   ],
   "source": [
    "argentina.describe()"
   ]
  },
  {
   "cell_type": "markdown",
   "metadata": {},
   "source": [
    "## Create Baseline Model"
   ]
  },
  {
   "cell_type": "code",
   "execution_count": 6,
   "metadata": {},
   "outputs": [],
   "source": [
    "from sklearn.dummy import DummyRegressor\n",
    "from sklearn.model_selection import train_test_split\n",
    "from sklearn.metrics import mean_squared_error, r2_score, median_absolute_error"
   ]
  },
  {
   "cell_type": "code",
   "execution_count": 7,
   "metadata": {},
   "outputs": [],
   "source": [
    "X_train, X_test, y_train, y_test = train_test_split(argentina.drop('price', axis=1), argentina.price, test_size=.3)"
   ]
  },
  {
   "cell_type": "code",
   "execution_count": 8,
   "metadata": {},
   "outputs": [],
   "source": [
    "dummy_mean = DummyRegressor(strategy = 'mean').fit(X_train, y_train)\n",
    "dummy_median = DummyRegressor(strategy = 'median').fit(X_train, y_train)\n",
    "\n",
    "mean_preds = dummy_mean.predict(X_test)\n",
    "median_preds = dummy_median.predict(X_test)"
   ]
  },
  {
   "cell_type": "code",
   "execution_count": 9,
   "metadata": {},
   "outputs": [
    {
     "name": "stdout",
     "output_type": "stream",
     "text": [
      "MSE - Dummy Regressor w/ Mean:  346317439932974.94\n",
      "MSE - Dummy Regressor w/ Median:  346329127798157.9\n",
      "\n",
      "MAE - Dummy Regressor w/ Mean:  111606.71971210578\n",
      "MAE - Dummy Regressor w/ Median:  78000.0\n",
      "\n",
      "R2- Dummy Regressor w/ Mean:  -3.846608915614169e-06\n",
      "R2 - Dummy Regressor w/ Median:  -3.759573267880789e-05\n"
     ]
    }
   ],
   "source": [
    "print(\"MSE - Dummy Regressor w/ Mean: \", mean_squared_error(y_test, mean_preds))\n",
    "print(\"MSE - Dummy Regressor w/ Median: \", mean_squared_error(y_test, median_preds))\n",
    "print()\n",
    "print(\"MAE - Dummy Regressor w/ Mean: \", median_absolute_error(y_test, mean_preds))\n",
    "print(\"MAE - Dummy Regressor w/ Median: \", median_absolute_error(y_test, median_preds))\n",
    "print()\n",
    "print(\"R2- Dummy Regressor w/ Mean: \", r2_score(y_test, mean_preds))\n",
    "print(\"R2 - Dummy Regressor w/ Median: \", r2_score(y_test, median_preds))\n",
    "\n"
   ]
  },
  {
   "cell_type": "code",
   "execution_count": 51,
   "metadata": {},
   "outputs": [],
   "source": [
    "from sklearn.ensemble import GradientBoostingRegressor"
   ]
  },
  {
   "cell_type": "markdown",
   "metadata": {},
   "source": [
    "Below I get an error for having string columns I believe"
   ]
  },
  {
   "cell_type": "code",
   "execution_count": 57,
   "metadata": {},
   "outputs": [],
   "source": [
    "gbr = GradientBoostingRegressor()\n",
    "#gbr.fit(X_train, y_train)\n",
    "#gbr.predict(X_test)\n",
    "#gbr.score(X_test, y_test)"
   ]
  },
  {
   "cell_type": "markdown",
   "metadata": {},
   "source": [
    "## Fix string columns and one-hot encode"
   ]
  },
  {
   "cell_type": "code",
   "execution_count": 12,
   "metadata": {},
   "outputs": [
    {
     "data": {
      "text/html": [
       "<div>\n",
       "<style scoped>\n",
       "    .dataframe tbody tr th:only-of-type {\n",
       "        vertical-align: middle;\n",
       "    }\n",
       "\n",
       "    .dataframe tbody tr th {\n",
       "        vertical-align: top;\n",
       "    }\n",
       "\n",
       "    .dataframe thead th {\n",
       "        text-align: right;\n",
       "    }\n",
       "</style>\n",
       "<table border=\"1\" class=\"dataframe\">\n",
       "  <thead>\n",
       "    <tr style=\"text-align: right;\">\n",
       "      <th></th>\n",
       "      <th>start_date</th>\n",
       "      <th>end_date</th>\n",
       "      <th>created_on</th>\n",
       "      <th>lat</th>\n",
       "      <th>lon</th>\n",
       "      <th>l1</th>\n",
       "      <th>l2</th>\n",
       "      <th>l3</th>\n",
       "      <th>rooms</th>\n",
       "      <th>bedrooms</th>\n",
       "      <th>bathrooms</th>\n",
       "      <th>surface_total</th>\n",
       "      <th>surface_covered</th>\n",
       "      <th>price</th>\n",
       "      <th>price_period</th>\n",
       "      <th>property_type</th>\n",
       "      <th>operation_type</th>\n",
       "    </tr>\n",
       "  </thead>\n",
       "  <tbody>\n",
       "    <tr>\n",
       "      <th>0</th>\n",
       "      <td>2020-06-17</td>\n",
       "      <td>2020-06-18</td>\n",
       "      <td>2020-06-17</td>\n",
       "      <td>-34.995340</td>\n",
       "      <td>-58.047423</td>\n",
       "      <td>Argentina</td>\n",
       "      <td>Bs.As. G.B.A. Zona Sur</td>\n",
       "      <td>La Plata</td>\n",
       "      <td>2.844661</td>\n",
       "      <td>0.000000</td>\n",
       "      <td>1.70148</td>\n",
       "      <td>474.884308</td>\n",
       "      <td>6370.15545</td>\n",
       "      <td>176556.301186</td>\n",
       "      <td>Monthly</td>\n",
       "      <td>Department</td>\n",
       "      <td>For Sale</td>\n",
       "    </tr>\n",
       "    <tr>\n",
       "      <th>1</th>\n",
       "      <td>2020-05-20</td>\n",
       "      <td>2020-05-20</td>\n",
       "      <td>2020-05-20</td>\n",
       "      <td>-34.816634</td>\n",
       "      <td>-59.193616</td>\n",
       "      <td>Argentina</td>\n",
       "      <td>Neuquén</td>\n",
       "      <td>Neuquén</td>\n",
       "      <td>5.000000</td>\n",
       "      <td>2.000000</td>\n",
       "      <td>1.00000</td>\n",
       "      <td>72.000000</td>\n",
       "      <td>72.00000</td>\n",
       "      <td>176556.301186</td>\n",
       "      <td>Monthly</td>\n",
       "      <td>Department</td>\n",
       "      <td>For Sale</td>\n",
       "    </tr>\n",
       "    <tr>\n",
       "      <th>2</th>\n",
       "      <td>2020-07-14</td>\n",
       "      <td>2020-08-13</td>\n",
       "      <td>2020-07-14</td>\n",
       "      <td>-31.116769</td>\n",
       "      <td>-64.482921</td>\n",
       "      <td>Argentina</td>\n",
       "      <td>Córdoba</td>\n",
       "      <td>Valle Hermoso</td>\n",
       "      <td>2.844661</td>\n",
       "      <td>3.000000</td>\n",
       "      <td>1.00000</td>\n",
       "      <td>747.000000</td>\n",
       "      <td>244.00000</td>\n",
       "      <td>176556.301186</td>\n",
       "      <td>Monthly</td>\n",
       "      <td>House</td>\n",
       "      <td>For Sale</td>\n",
       "    </tr>\n",
       "    <tr>\n",
       "      <th>3</th>\n",
       "      <td>2020-05-20</td>\n",
       "      <td>2020-05-20</td>\n",
       "      <td>2020-05-20</td>\n",
       "      <td>-34.816634</td>\n",
       "      <td>-59.193616</td>\n",
       "      <td>Argentina</td>\n",
       "      <td>Neuquén</td>\n",
       "      <td>Neuquén</td>\n",
       "      <td>3.000000</td>\n",
       "      <td>1.000000</td>\n",
       "      <td>1.00000</td>\n",
       "      <td>40.000000</td>\n",
       "      <td>40.00000</td>\n",
       "      <td>176556.301186</td>\n",
       "      <td>Monthly</td>\n",
       "      <td>Department</td>\n",
       "      <td>For Sale</td>\n",
       "    </tr>\n",
       "    <tr>\n",
       "      <th>4</th>\n",
       "      <td>2020-05-20</td>\n",
       "      <td>2020-05-20</td>\n",
       "      <td>2020-05-20</td>\n",
       "      <td>-34.816634</td>\n",
       "      <td>-59.193616</td>\n",
       "      <td>Argentina</td>\n",
       "      <td>Neuquén</td>\n",
       "      <td>Neuquén</td>\n",
       "      <td>2.844661</td>\n",
       "      <td>2.084058</td>\n",
       "      <td>1.00000</td>\n",
       "      <td>35.000000</td>\n",
       "      <td>35.00000</td>\n",
       "      <td>176556.301186</td>\n",
       "      <td>Monthly</td>\n",
       "      <td>Office</td>\n",
       "      <td>For Sale</td>\n",
       "    </tr>\n",
       "  </tbody>\n",
       "</table>\n",
       "</div>"
      ],
      "text/plain": [
       "   start_date    end_date  created_on        lat        lon         l1  \\\n",
       "0  2020-06-17  2020-06-18  2020-06-17 -34.995340 -58.047423  Argentina   \n",
       "1  2020-05-20  2020-05-20  2020-05-20 -34.816634 -59.193616  Argentina   \n",
       "2  2020-07-14  2020-08-13  2020-07-14 -31.116769 -64.482921  Argentina   \n",
       "3  2020-05-20  2020-05-20  2020-05-20 -34.816634 -59.193616  Argentina   \n",
       "4  2020-05-20  2020-05-20  2020-05-20 -34.816634 -59.193616  Argentina   \n",
       "\n",
       "                       l2             l3     rooms  bedrooms  bathrooms  \\\n",
       "0  Bs.As. G.B.A. Zona Sur       La Plata  2.844661  0.000000    1.70148   \n",
       "1                 Neuquén        Neuquén  5.000000  2.000000    1.00000   \n",
       "2                 Córdoba  Valle Hermoso  2.844661  3.000000    1.00000   \n",
       "3                 Neuquén        Neuquén  3.000000  1.000000    1.00000   \n",
       "4                 Neuquén        Neuquén  2.844661  2.084058    1.00000   \n",
       "\n",
       "   surface_total  surface_covered          price price_period property_type  \\\n",
       "0     474.884308       6370.15545  176556.301186      Monthly    Department   \n",
       "1      72.000000         72.00000  176556.301186      Monthly    Department   \n",
       "2     747.000000        244.00000  176556.301186      Monthly         House   \n",
       "3      40.000000         40.00000  176556.301186      Monthly    Department   \n",
       "4      35.000000         35.00000  176556.301186      Monthly        Office   \n",
       "\n",
       "  operation_type  \n",
       "0       For Sale  \n",
       "1       For Sale  \n",
       "2       For Sale  \n",
       "3       For Sale  \n",
       "4       For Sale  "
      ]
     },
     "execution_count": 12,
     "metadata": {},
     "output_type": "execute_result"
    }
   ],
   "source": [
    "argentina.head()"
   ]
  },
  {
   "cell_type": "code",
   "execution_count": 13,
   "metadata": {},
   "outputs": [
    {
     "data": {
      "text/plain": [
       "start_date          object\n",
       "end_date            object\n",
       "created_on          object\n",
       "lat                float64\n",
       "lon                float64\n",
       "l1                  object\n",
       "l2                  object\n",
       "l3                  object\n",
       "rooms              float64\n",
       "bedrooms           float64\n",
       "bathrooms          float64\n",
       "surface_total      float64\n",
       "surface_covered    float64\n",
       "price              float64\n",
       "price_period        object\n",
       "property_type       object\n",
       "operation_type      object\n",
       "dtype: object"
      ]
     },
     "execution_count": 13,
     "metadata": {},
     "output_type": "execute_result"
    }
   ],
   "source": [
    "argentina.dtypes"
   ]
  },
  {
   "cell_type": "markdown",
   "metadata": {},
   "source": [
    "Convert necessary columns to datetime:"
   ]
  },
  {
   "cell_type": "code",
   "execution_count": 15,
   "metadata": {},
   "outputs": [
    {
     "data": {
      "text/plain": [
       "start_date         datetime64[ns]\n",
       "end_date           datetime64[ns]\n",
       "created_on         datetime64[ns]\n",
       "lat                       float64\n",
       "lon                       float64\n",
       "l1                         object\n",
       "l2                         object\n",
       "l3                         object\n",
       "rooms                     float64\n",
       "bedrooms                  float64\n",
       "bathrooms                 float64\n",
       "surface_total             float64\n",
       "surface_covered           float64\n",
       "price                     float64\n",
       "price_period               object\n",
       "property_type              object\n",
       "operation_type             object\n",
       "dtype: object"
      ]
     },
     "execution_count": 15,
     "metadata": {},
     "output_type": "execute_result"
    }
   ],
   "source": [
    "argentina['end_date'] = pd.to_datetime(argentina['end_date'])\n",
    "argentina['start_date'] = pd.to_datetime(argentina['start_date'])\n",
    "argentina['created_on'] = pd.to_datetime(argentina['created_on'])\n",
    "argentina.dtypes"
   ]
  },
  {
   "cell_type": "markdown",
   "metadata": {},
   "source": [
    "#### One-Hot Encode columns: l1, l2, l3, price_period, property_type, operation_type"
   ]
  },
  {
   "cell_type": "code",
   "execution_count": 16,
   "metadata": {},
   "outputs": [
    {
     "data": {
      "text/plain": [
       "1210"
      ]
     },
     "execution_count": 16,
     "metadata": {},
     "output_type": "execute_result"
    }
   ],
   "source": [
    "argentina.l3.nunique()"
   ]
  },
  {
   "cell_type": "code",
   "execution_count": 17,
   "metadata": {},
   "outputs": [
    {
     "data": {
      "text/plain": [
       "43"
      ]
     },
     "execution_count": 17,
     "metadata": {},
     "output_type": "execute_result"
    }
   ],
   "source": [
    "argentina.l2.nunique()"
   ]
  },
  {
   "cell_type": "code",
   "execution_count": 18,
   "metadata": {},
   "outputs": [
    {
     "data": {
      "text/plain": [
       "4"
      ]
     },
     "execution_count": 18,
     "metadata": {},
     "output_type": "execute_result"
    }
   ],
   "source": [
    "argentina.l1.nunique()"
   ]
  },
  {
   "cell_type": "code",
   "execution_count": 19,
   "metadata": {},
   "outputs": [
    {
     "data": {
      "text/plain": [
       "3"
      ]
     },
     "execution_count": 19,
     "metadata": {},
     "output_type": "execute_result"
    }
   ],
   "source": [
    "argentina.price_period.nunique()"
   ]
  },
  {
   "cell_type": "code",
   "execution_count": 20,
   "metadata": {},
   "outputs": [
    {
     "data": {
      "text/plain": [
       "10"
      ]
     },
     "execution_count": 20,
     "metadata": {},
     "output_type": "execute_result"
    }
   ],
   "source": [
    "argentina.property_type.nunique()"
   ]
  },
  {
   "cell_type": "code",
   "execution_count": 21,
   "metadata": {},
   "outputs": [
    {
     "data": {
      "text/plain": [
       "3"
      ]
     },
     "execution_count": 21,
     "metadata": {},
     "output_type": "execute_result"
    }
   ],
   "source": [
    "argentina.operation_type.nunique()"
   ]
  },
  {
   "cell_type": "markdown",
   "metadata": {},
   "source": [
    "I might exclude l3 from one hot encoding and models for now since it will explode with columns"
   ]
  },
  {
   "cell_type": "code",
   "execution_count": 22,
   "metadata": {},
   "outputs": [],
   "source": [
    "arg2 = argentina.drop('l3', axis=1)"
   ]
  },
  {
   "cell_type": "code",
   "execution_count": 39,
   "metadata": {},
   "outputs": [
    {
     "name": "stdout",
     "output_type": "stream",
     "text": [
      "Index(['start_date', 'end_date', 'created_on', 'lat', 'lon', 'rooms',\n",
      "       'bedrooms', 'bathrooms', 'surface_total', 'surface_covered', 'price',\n",
      "       'l1_Argentina', 'l1_Brasil', 'l1_Estados Unidos', 'l1_Uruguay',\n",
      "       'l2_Bs.As. G.B.A. Zona Norte', 'l2_Bs.As. G.B.A. Zona Oeste',\n",
      "       'l2_Bs.As. G.B.A. Zona Sur', 'l2_Buenos Aires Costa Atlántica',\n",
      "       'l2_Buenos Aires Interior', 'l2_Canelones', 'l2_Capital Federal',\n",
      "       'l2_Catamarca', 'l2_Chaco', 'l2_Chubut', 'l2_Colonia', 'l2_Corrientes',\n",
      "       'l2_Córdoba', 'l2_Entre Ríos', 'l2_Florida', 'l2_Formosa', 'l2_Jujuy',\n",
      "       'l2_La Pampa', 'l2_La Rioja', 'l2_Maldonado', 'l2_Maryland',\n",
      "       'l2_Mendoza', 'l2_Miami', 'l2_Michigan', 'l2_Misiones', 'l2_Montevideo',\n",
      "       'l2_Neuquén', 'l2_New York', 'l2_Pennsylvania',\n",
      "       'l2_Rio Grande do Norte', 'l2_Rio de Janeiro', 'l2_Rocha',\n",
      "       'l2_Río Negro', 'l2_Salta', 'l2_San Juan', 'l2_San Luis',\n",
      "       'l2_Santa Catarina', 'l2_Santa Cruz', 'l2_Santa Fe',\n",
      "       'l2_Santiago Del Estero', 'l2_São Paulo', 'l2_Tierra Del Fuego',\n",
      "       'l2_Tucumán', 'price_period_Daily', 'price_period_Monthly',\n",
      "       'price_period_Weekly', 'property_type_Cottage',\n",
      "       'property_type_Department', 'property_type_Garage',\n",
      "       'property_type_House', 'property_type_Lot', 'property_type_Office',\n",
      "       'property_type_Other', 'property_type_PH', 'property_type_Shop',\n",
      "       'property_type_Warehouse', 'operation_type_For Rent',\n",
      "       'operation_type_For Sale', 'operation_type_For Sublease'],\n",
      "      dtype='object') 74\n"
     ]
    }
   ],
   "source": [
    "#categorical data\n",
    "categorical_cols = ['l1', 'l2', 'price_period', 'property_type', 'operation_type'] \n",
    "\n",
    "#import pandas as pd\n",
    "arg3 = pd.get_dummies(arg2, columns = categorical_cols, dtype=int)\n",
    "print(arg3.columns, len(arg3.columns))"
   ]
  },
  {
   "cell_type": "code",
   "execution_count": 40,
   "metadata": {},
   "outputs": [
    {
     "data": {
      "text/html": [
       "<div>\n",
       "<style scoped>\n",
       "    .dataframe tbody tr th:only-of-type {\n",
       "        vertical-align: middle;\n",
       "    }\n",
       "\n",
       "    .dataframe tbody tr th {\n",
       "        vertical-align: top;\n",
       "    }\n",
       "\n",
       "    .dataframe thead th {\n",
       "        text-align: right;\n",
       "    }\n",
       "</style>\n",
       "<table border=\"1\" class=\"dataframe\">\n",
       "  <thead>\n",
       "    <tr style=\"text-align: right;\">\n",
       "      <th></th>\n",
       "      <th>start_date</th>\n",
       "      <th>end_date</th>\n",
       "      <th>created_on</th>\n",
       "      <th>lat</th>\n",
       "      <th>lon</th>\n",
       "      <th>rooms</th>\n",
       "      <th>bedrooms</th>\n",
       "      <th>bathrooms</th>\n",
       "      <th>surface_total</th>\n",
       "      <th>surface_covered</th>\n",
       "      <th>...</th>\n",
       "      <th>property_type_House</th>\n",
       "      <th>property_type_Lot</th>\n",
       "      <th>property_type_Office</th>\n",
       "      <th>property_type_Other</th>\n",
       "      <th>property_type_PH</th>\n",
       "      <th>property_type_Shop</th>\n",
       "      <th>property_type_Warehouse</th>\n",
       "      <th>operation_type_For Rent</th>\n",
       "      <th>operation_type_For Sale</th>\n",
       "      <th>operation_type_For Sublease</th>\n",
       "    </tr>\n",
       "  </thead>\n",
       "  <tbody>\n",
       "    <tr>\n",
       "      <th>0</th>\n",
       "      <td>2020-06-17</td>\n",
       "      <td>2020-06-18</td>\n",
       "      <td>2020-06-17</td>\n",
       "      <td>-34.995340</td>\n",
       "      <td>-58.047423</td>\n",
       "      <td>2.844661</td>\n",
       "      <td>0.0</td>\n",
       "      <td>1.70148</td>\n",
       "      <td>474.884308</td>\n",
       "      <td>6370.15545</td>\n",
       "      <td>...</td>\n",
       "      <td>0</td>\n",
       "      <td>0</td>\n",
       "      <td>0</td>\n",
       "      <td>0</td>\n",
       "      <td>0</td>\n",
       "      <td>0</td>\n",
       "      <td>0</td>\n",
       "      <td>0</td>\n",
       "      <td>1</td>\n",
       "      <td>0</td>\n",
       "    </tr>\n",
       "    <tr>\n",
       "      <th>1</th>\n",
       "      <td>2020-05-20</td>\n",
       "      <td>2020-05-20</td>\n",
       "      <td>2020-05-20</td>\n",
       "      <td>-34.816634</td>\n",
       "      <td>-59.193616</td>\n",
       "      <td>5.000000</td>\n",
       "      <td>2.0</td>\n",
       "      <td>1.00000</td>\n",
       "      <td>72.000000</td>\n",
       "      <td>72.00000</td>\n",
       "      <td>...</td>\n",
       "      <td>0</td>\n",
       "      <td>0</td>\n",
       "      <td>0</td>\n",
       "      <td>0</td>\n",
       "      <td>0</td>\n",
       "      <td>0</td>\n",
       "      <td>0</td>\n",
       "      <td>0</td>\n",
       "      <td>1</td>\n",
       "      <td>0</td>\n",
       "    </tr>\n",
       "    <tr>\n",
       "      <th>2</th>\n",
       "      <td>2020-07-14</td>\n",
       "      <td>2020-08-13</td>\n",
       "      <td>2020-07-14</td>\n",
       "      <td>-31.116769</td>\n",
       "      <td>-64.482921</td>\n",
       "      <td>2.844661</td>\n",
       "      <td>3.0</td>\n",
       "      <td>1.00000</td>\n",
       "      <td>747.000000</td>\n",
       "      <td>244.00000</td>\n",
       "      <td>...</td>\n",
       "      <td>1</td>\n",
       "      <td>0</td>\n",
       "      <td>0</td>\n",
       "      <td>0</td>\n",
       "      <td>0</td>\n",
       "      <td>0</td>\n",
       "      <td>0</td>\n",
       "      <td>0</td>\n",
       "      <td>1</td>\n",
       "      <td>0</td>\n",
       "    </tr>\n",
       "  </tbody>\n",
       "</table>\n",
       "<p>3 rows × 74 columns</p>\n",
       "</div>"
      ],
      "text/plain": [
       "  start_date   end_date created_on        lat        lon     rooms  bedrooms  \\\n",
       "0 2020-06-17 2020-06-18 2020-06-17 -34.995340 -58.047423  2.844661       0.0   \n",
       "1 2020-05-20 2020-05-20 2020-05-20 -34.816634 -59.193616  5.000000       2.0   \n",
       "2 2020-07-14 2020-08-13 2020-07-14 -31.116769 -64.482921  2.844661       3.0   \n",
       "\n",
       "   bathrooms  surface_total  surface_covered  ...  property_type_House  \\\n",
       "0    1.70148     474.884308       6370.15545  ...                    0   \n",
       "1    1.00000      72.000000         72.00000  ...                    0   \n",
       "2    1.00000     747.000000        244.00000  ...                    1   \n",
       "\n",
       "   property_type_Lot  property_type_Office  property_type_Other  \\\n",
       "0                  0                     0                    0   \n",
       "1                  0                     0                    0   \n",
       "2                  0                     0                    0   \n",
       "\n",
       "   property_type_PH  property_type_Shop  property_type_Warehouse  \\\n",
       "0                 0                   0                        0   \n",
       "1                 0                   0                        0   \n",
       "2                 0                   0                        0   \n",
       "\n",
       "   operation_type_For Rent  operation_type_For Sale  \\\n",
       "0                        0                        1   \n",
       "1                        0                        1   \n",
       "2                        0                        1   \n",
       "\n",
       "   operation_type_For Sublease  \n",
       "0                            0  \n",
       "1                            0  \n",
       "2                            0  \n",
       "\n",
       "[3 rows x 74 columns]"
      ]
     },
     "execution_count": 40,
     "metadata": {},
     "output_type": "execute_result"
    }
   ],
   "source": [
    "arg3.head(3)"
   ]
  },
  {
   "cell_type": "code",
   "execution_count": 41,
   "metadata": {},
   "outputs": [
    {
     "data": {
      "text/plain": [
       "int64             63\n",
       "float64            8\n",
       "datetime64[ns]     3\n",
       "dtype: int64"
      ]
     },
     "execution_count": 41,
     "metadata": {},
     "output_type": "execute_result"
    }
   ],
   "source": [
    "arg3.dtypes.value_counts()"
   ]
  },
  {
   "cell_type": "markdown",
   "metadata": {},
   "source": [
    "## Back to Modeling..."
   ]
  },
  {
   "cell_type": "markdown",
   "metadata": {},
   "source": [
    "### Gradient Boosting Regressor"
   ]
  },
  {
   "cell_type": "code",
   "execution_count": 75,
   "metadata": {},
   "outputs": [],
   "source": [
    "X_train, X_test, y_train, y_test = train_test_split(arg3.drop('price', axis=1), arg3.price, test_size=.3)"
   ]
  },
  {
   "cell_type": "markdown",
   "metadata": {},
   "source": [
    "GBR apparently doesn't allow datetime objects so we will drop those columns"
   ]
  },
  {
   "cell_type": "code",
   "execution_count": 55,
   "metadata": {},
   "outputs": [],
   "source": [
    "#gbc = GradientBoostingRegressor()\n",
    "#gbc.fit(X_train, y_train)\n",
    "#gbc.predict(X_test)\n",
    "#gbc.score(X_test, y_test)"
   ]
  },
  {
   "cell_type": "code",
   "execution_count": 77,
   "metadata": {},
   "outputs": [],
   "source": [
    "X_train, X_test, y_train, y_test = train_test_split(arg3.drop(['price', 'start_date', 'end_date', 'created_on'], axis=1), arg3.price, test_size=.3)"
   ]
  },
  {
   "cell_type": "code",
   "execution_count": 62,
   "metadata": {},
   "outputs": [
    {
     "data": {
      "text/plain": [
       "GradientBoostingRegressor()"
      ]
     },
     "execution_count": 62,
     "metadata": {},
     "output_type": "execute_result"
    }
   ],
   "source": [
    "gbc = GradientBoostingRegressor()\n",
    "gbc.fit(X_train, y_train)\n",
    "gbc_preds = gbc.predict(X_test)"
   ]
  },
  {
   "cell_type": "code",
   "execution_count": 61,
   "metadata": {},
   "outputs": [
    {
     "data": {
      "text/plain": [
       "('R2 score:', 0.00011462314632548765)"
      ]
     },
     "execution_count": 61,
     "metadata": {},
     "output_type": "execute_result"
    }
   ],
   "source": [
    "print(\"MSE - Gradient Boosting Regressor: \", mean_squared_error(y_test, gbc_preds)**(1/2))\n",
    "print(\"MAE - Gradient Boosting Regressor: \", median_absolute_error(y_test, gbc_preds))\n",
    "print(\"R2 - Gradient Boosting Regressor: \", r2_score(y_test, gbc_preds))"
   ]
  },
  {
   "cell_type": "code",
   "execution_count": null,
   "metadata": {},
   "outputs": [],
   "source": [
    "print(\"R2 score:\", gbc.score(X_test, y_test))"
   ]
  },
  {
   "cell_type": "markdown",
   "metadata": {},
   "source": [
    "### Dummy Mean and Median Regressor on newly transformed data"
   ]
  },
  {
   "cell_type": "code",
   "execution_count": 58,
   "metadata": {},
   "outputs": [],
   "source": [
    "dummy_mean = DummyRegressor(strategy = 'mean').fit(X_train, y_train)\n",
    "mean_preds = dummy_mean.predict(X_test)\n",
    "\n",
    "print(\"MSE - Dummy Mean Regressor: \", mean_squared_error(y_test, mean_preds))\n",
    "print(\"MAE - Dummy Mean Regressor: \", median_absolute_error(y_test, mean_preds))\n",
    "print(\"R2 - Dummy Mean Regressor: \", r2_score(y_test, mean_preds))"
   ]
  },
  {
   "cell_type": "code",
   "execution_count": 74,
   "metadata": {},
   "outputs": [
    {
     "name": "stdout",
     "output_type": "stream",
     "text": [
      "MSE - Dummy Mean Regressor:  346249920847790.06\n",
      "MAE - Dummy Mean Regressor:  111789.43146323215\n",
      "R2- Dummy Mean Regressor:  -3.720030803178176e-06\n",
      "\n",
      "MSE - Dummy Median Regressor:  346261555689671.56\n",
      "MAE - Dummy Median Regressor:  78000.0\n",
      "R2 - Dummy Median Regressor:  -3.7322594913291596e-05\n"
     ]
    }
   ],
   "source": [
    "dummy_median = DummyRegressor(strategy = 'median').fit(X_train, y_train)\n",
    "median_preds = dummy_median.predict(X_test)\n",
    "\n",
    "print(\"MSE - Dummy Median Regressor: \", mean_squared_error(y_test, median_preds))\n",
    "print(\"MAE - Dummy Median Regressor: \", median_absolute_error(y_test, median_preds))\n",
    "print(\"R2 - Dummy Median Regressor: \", r2_score(y_test, median_preds))"
   ]
  },
  {
   "cell_type": "markdown",
   "metadata": {},
   "source": [
    "### XGBoost"
   ]
  },
  {
   "cell_type": "code",
   "execution_count": 63,
   "metadata": {},
   "outputs": [],
   "source": [
    "import xgboost as xgb"
   ]
  },
  {
   "cell_type": "code",
   "execution_count": 66,
   "metadata": {},
   "outputs": [],
   "source": [
    "xgbr = xgb.XGBRegressor(n_estimators=100, learning_rate=.08, gamma=0, subsample=.75, colsample_bytree=1, max_depth=7)\n",
    "xgbr.fit(X_train, y_train)\n",
    "XGpreds = xgbr.predict(X_test)"
   ]
  },
  {
   "cell_type": "code",
   "execution_count": 72,
   "metadata": {},
   "outputs": [
    {
     "name": "stdout",
     "output_type": "stream",
     "text": [
      "MSE:  18606325.28085089\n",
      "MAE:  35751.5234375\n",
      "R2 score:  0.00015391348970772434\n"
     ]
    }
   ],
   "source": [
    "print(\"MSE - XGBoost: \", mean_squared_error(y_test, XGpreds)**(1/2))\n",
    "print(\"MAE - XGBoost: \", median_absolute_error(y_test, XGpreds))\n",
    "print(\"R2 - XGBoost: \", r2_score(y_test, XGpreds))"
   ]
  },
  {
   "cell_type": "markdown",
   "metadata": {},
   "source": [
    "### Lasso Regression"
   ]
  },
  {
   "cell_type": "code",
   "execution_count": null,
   "metadata": {},
   "outputs": [],
   "source": [
    "from sklearn import linear_model\n",
    "las = linear_model.Lasso(max_iter=10000)\n",
    "las.fit(X_train, y_train)\n",
    "las_preds = las.predict(X_test)"
   ]
  },
  {
   "cell_type": "code",
   "execution_count": null,
   "metadata": {},
   "outputs": [],
   "source": [
    "print(\"MSE - Lasso: \", mean_squared_error(y_test, las_preds)**(1/2))\n",
    "print(\"MAE - Lasso: \", median_absolute_error(y_test, las_preds))\n",
    "print(\"R2 - Lasso: \", r2_score(y_test, las_preds))"
   ]
  },
  {
   "cell_type": "code",
   "execution_count": null,
   "metadata": {},
   "outputs": [],
   "source": []
  }
 ],
 "metadata": {
  "kernelspec": {
   "display_name": "Python 3",
   "language": "python",
   "name": "python3"
  },
  "language_info": {
   "codemirror_mode": {
    "name": "ipython",
    "version": 3
   },
   "file_extension": ".py",
   "mimetype": "text/x-python",
   "name": "python",
   "nbconvert_exporter": "python",
   "pygments_lexer": "ipython3",
   "version": "3.8.5"
  }
 },
 "nbformat": 4,
 "nbformat_minor": 4
}
